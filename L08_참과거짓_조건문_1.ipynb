{
  "nbformat": 4,
  "nbformat_minor": 0,
  "metadata": {
    "colab": {
      "provenance": [],
      "authorship_tag": "ABX9TyNeTKxryKChuoZ9A5q1BYNA",
      "include_colab_link": true
    },
    "kernelspec": {
      "name": "python3",
      "display_name": "Python 3"
    },
    "language_info": {
      "name": "python"
    }
  },
  "cells": [
    {
      "cell_type": "markdown",
      "metadata": {
        "id": "view-in-github",
        "colab_type": "text"
      },
      "source": [
        "<a href=\"https://colab.research.google.com/github/clustering-jun/GNU-Computer_Programming/blob/main/L08_%EC%B0%B8%EA%B3%BC%EA%B1%B0%EC%A7%93_%EC%A1%B0%EA%B1%B4%EB%AC%B8_1.ipynb\" target=\"_parent\"><img src=\"https://colab.research.google.com/assets/colab-badge.svg\" alt=\"Open In Colab\"/></a>"
      ]
    },
    {
      "cell_type": "markdown",
      "source": [
        "# L08. 참과 거짓 조건문 1"
      ],
      "metadata": {
        "id": "nAGFNFzop4pF"
      }
    },
    {
      "cell_type": "markdown",
      "source": [
        "## 관계 연산자 응용\n",
        "(1) 변수 num의 값이 짝수인지\n",
        " > num % 2 == 0\n",
        "\n",
        "(2) 변수 num의 값이 홀수인지\n",
        " > num % 2 == 1\n",
        "\n",
        " > num % 2 != 0\n",
        "\n",
        "(3) 변수 weight가 60보다 크고 80보다 작은지\n",
        " > 60 < weight < 80\n",
        "\n",
        " > weight > 60 and weight < 80\n",
        "\n",
        "(4) 변수 weight가 60보다 작거나 80보다 큰지\n",
        " > weight < 60 or weight > 80"
      ],
      "metadata": {
        "id": "Er6VbUTL2NEM"
      }
    },
    {
      "cell_type": "markdown",
      "source": [
        "## 조건문 (if-문)\n",
        "- score가 60이상이면 '합격입니다.'를 출력하는 프로그램을 작성하시오."
      ],
      "metadata": {
        "id": "U0jFGJQU3YQJ"
      }
    },
    {
      "cell_type": "code",
      "source": [
        "score = int(input('점수를 입력하세요: '))\n",
        "\n",
        "print('당신이 입력한 점수는 %d점입니다.'%score)\n",
        "\n",
        "if score >= 60:\n",
        "  print('합격입니다.')\n",
        "  print('장학금 100만원을 드립니다.')\n",
        "else:\n",
        "  print('불합격입니다.')\n",
        "\n",
        "print('프로그램 종료')"
      ],
      "metadata": {
        "id": "DYfs-F_M2uwa",
        "outputId": "6c8b14ec-51b6-4075-d50b-5d033c41309e",
        "colab": {
          "base_uri": "https://localhost:8080/"
        }
      },
      "execution_count": null,
      "outputs": [
        {
          "output_type": "stream",
          "name": "stdout",
          "text": [
            "점수를 입력하세요: 12\n",
            "당신이 입력한 점수는 12점입니다.\n",
            "불합격입니다.\n",
            "프로그램 종료\n"
          ]
        }
      ]
    },
    {
      "cell_type": "markdown",
      "source": [
        "## 홀수, 짝수 판단하기"
      ],
      "metadata": {
        "id": "W32gaTbL7qnx"
      }
    },
    {
      "cell_type": "code",
      "source": [
        "num = int(input('자연수를 입력하세요.: '))\n",
        "\n",
        "if num > 0 :\n",
        "  if num % 2 == 0:\n",
        "    print('짝수입니다.')\n",
        "  else:\n",
        "    print('홀수입니다.')\n",
        "\n",
        "else:\n",
        "  print('자연수를 입력하세요.')"
      ],
      "metadata": {
        "id": "WNBaJYH470qg",
        "outputId": "e0fc4563-70db-4440-e58a-e6202e81e64d",
        "colab": {
          "base_uri": "https://localhost:8080/"
        }
      },
      "execution_count": null,
      "outputs": [
        {
          "output_type": "stream",
          "name": "stdout",
          "text": [
            "자연수를 입력하세요.: -12\n",
            "자연수가 아닙니다.\n"
          ]
        }
      ]
    },
    {
      "cell_type": "markdown",
      "source": [
        "## 정수 분류 프로그램\n",
        "### - 문제01\n",
        "- 정수 하나를 입력 받아서 그 값을 출력하는 프로그램을 작성하시오.\n",
        "\n",
        "> 정수 1개를 입력하세요: 30\n",
        "\n",
        "> 30를(을) 입력하였습니다.\n",
        "\n",
        "> 프로그램 종료\n"
      ],
      "metadata": {
        "id": "sHYl-ldUHICf"
      }
    },
    {
      "cell_type": "code",
      "source": [
        "n = int(input('정수1개를 입력하세요: '))\n",
        "print('%d를(을) 입력하였습니다.'%n)\n",
        "print('프로그램 종료')"
      ],
      "metadata": {
        "id": "lfj3jlfcHsQs",
        "outputId": "b26d3db5-4f0f-4ff8-b5c5-6dc7a72650fd",
        "colab": {
          "base_uri": "https://localhost:8080/"
        }
      },
      "execution_count": 1,
      "outputs": [
        {
          "output_type": "stream",
          "name": "stdout",
          "text": [
            "정수1개를 입력하세요: 30\n",
            "30를(을) 입력하였습니다.\n",
            "프로그램 종료\n"
          ]
        }
      ]
    },
    {
      "cell_type": "markdown",
      "source": [
        "### - 문제02\n",
        "- 정수 하나를 입력 받아서 그것이 양수이면 '양수입니다'를 출력하는 프로그램을 작성하시오. *양수 이외의 수를 입력하면 메시지를 출력하지 않습니다.*\n",
        "\n",
        "> 정수 1개를 입력하세요: 6\n",
        "\n",
        "> 양수입니다.\n",
        "\n",
        "> 프로그램 종료\n",
        "\n",
        "---\n",
        "> 정수 1개를 입력하세요: -7\n",
        "\n",
        "> 프로그램 종료"
      ],
      "metadata": {
        "id": "gVdfIEiBHy1y"
      }
    },
    {
      "cell_type": "code",
      "source": [
        "n = int(input('정수1개를 입력하세요: '))\n",
        "if n > 0:\n",
        "    print('양수입니다.')\n",
        "\n",
        "print('프로그램 종료')"
      ],
      "metadata": {
        "id": "UMJzR7r8INWx",
        "outputId": "742831a7-2381-4e81-a11c-f112693a51e5",
        "colab": {
          "base_uri": "https://localhost:8080/"
        }
      },
      "execution_count": 2,
      "outputs": [
        {
          "output_type": "stream",
          "name": "stdout",
          "text": [
            "정수1개를 입력하세요: -7\n",
            "프로그램 종료\n"
          ]
        }
      ]
    },
    {
      "cell_type": "markdown",
      "source": [
        "### - 문제03\n",
        "- 정수 하나를 입력 받아서 그것이 양수이면 '양수입니다'를 그렇지 않으면 '양수가 아닙니다'를 출력하는 프로그램을 작성하시오.\n",
        "\n",
        "> 정수 1개를 입력하세요: 5\n",
        "\n",
        "> 양수입니다.\n",
        "\n",
        "> 프로그램 종료\n",
        "\n",
        "---\n",
        "> 정수 1개를 입력하세요: 0\n",
        "\n",
        "> 양수가 아닙니다.\n",
        "\n",
        "> 프로그램 종료\n",
        "---\n",
        "> 정수 1개를 입력하세요: -5\n",
        "\n",
        "> 양수가 아닙니다.\n",
        "\n",
        "> 프로그램 종료"
      ],
      "metadata": {
        "id": "73sCsTxOINp5"
      }
    },
    {
      "cell_type": "code",
      "source": [
        "n = int(input('정수1개를 입력하세요: '))\n",
        "if n > 0:\n",
        "    print('양수입니다.')\n",
        "else:\n",
        "    print('양수가 아닙니다.')\n",
        "print('프로그램 종료')"
      ],
      "metadata": {
        "id": "Y_cSWaLXIjd6",
        "outputId": "6bd78eaa-d4db-4390-cfe6-5df81b7c5316",
        "colab": {
          "base_uri": "https://localhost:8080/"
        }
      },
      "execution_count": 3,
      "outputs": [
        {
          "output_type": "stream",
          "name": "stdout",
          "text": [
            "정수1개를 입력하세요: 0\n",
            "양수가 아닙니다.\n",
            "프로그램 종료\n"
          ]
        }
      ]
    },
    {
      "cell_type": "markdown",
      "source": [
        "### - 문제04\n",
        "- 정수 하나를 입력 받아서 그것이 양수이면 '양수입니다'를 출력하고, 그렇지 않고 0이면 '0입니다'를 출력하고, 그것도 아니면 '음수입니다'를 출력하는  프로그램을 작성하시오.\n",
        "\n",
        "> 정수 1개를 입력하세요: 5\n",
        "\n",
        "> 양수입니다.\n",
        "\n",
        "> 프로그램 종료\n",
        "\n",
        "---\n",
        "> 정수 1개를 입력하세요: 0\n",
        "\n",
        "> 0입니니다.\n",
        "\n",
        "> 프로그램 종료\n",
        "---\n",
        "> 정수 1개를 입력하세요: -5\n",
        "\n",
        "> 양수가 아닙니다.\n",
        "\n",
        "> 프로그램 종료"
      ],
      "metadata": {
        "id": "hn0joyasIg3M"
      }
    },
    {
      "cell_type": "code",
      "source": [
        "n = int(input('정수1개를 입력하세요: '))\n",
        "if n >= 0:\n",
        "    if n > 0:\n",
        "        print('양수입니다.')\n",
        "    else:\n",
        "        print('0입니다.')\n",
        "else:\n",
        "    print('음수입니다.')\n",
        "print('프로그램 종료')"
      ],
      "metadata": {
        "id": "S7albjKrI9bE",
        "outputId": "fae708ed-696b-4f36-8112-d490ead1ef19",
        "colab": {
          "base_uri": "https://localhost:8080/"
        }
      },
      "execution_count": 4,
      "outputs": [
        {
          "output_type": "stream",
          "name": "stdout",
          "text": [
            "정수1개를 입력하세요: -5\n",
            "음수입니다.\n",
            "프로그램 종료\n"
          ]
        }
      ]
    }
  ]
}