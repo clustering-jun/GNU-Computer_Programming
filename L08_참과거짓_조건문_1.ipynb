{
  "nbformat": 4,
  "nbformat_minor": 0,
  "metadata": {
    "colab": {
      "provenance": [],
      "authorship_tag": "ABX9TyPDK5AB4J/bit2n5RekwffT",
      "include_colab_link": true
    },
    "kernelspec": {
      "name": "python3",
      "display_name": "Python 3"
    },
    "language_info": {
      "name": "python"
    }
  },
  "cells": [
    {
      "cell_type": "markdown",
      "metadata": {
        "id": "view-in-github",
        "colab_type": "text"
      },
      "source": [
        "<a href=\"https://colab.research.google.com/github/clustering-jun/GNU-Computer_Programming/blob/main/L08_%EC%B0%B8%EA%B3%BC%EA%B1%B0%EC%A7%93_%EC%A1%B0%EA%B1%B4%EB%AC%B8_1.ipynb\" target=\"_parent\"><img src=\"https://colab.research.google.com/assets/colab-badge.svg\" alt=\"Open In Colab\"/></a>"
      ]
    },
    {
      "cell_type": "markdown",
      "source": [
        "# L08. 참과 거짓 조건문 1"
      ],
      "metadata": {
        "id": "nAGFNFzop4pF"
      }
    },
    {
      "cell_type": "code",
      "execution_count": null,
      "metadata": {
        "id": "zH3algxlp1dX"
      },
      "outputs": [],
      "source": []
    }
  ]
}