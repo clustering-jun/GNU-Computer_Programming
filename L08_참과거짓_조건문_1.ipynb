{
  "nbformat": 4,
  "nbformat_minor": 0,
  "metadata": {
    "colab": {
      "provenance": [],
      "authorship_tag": "ABX9TyOtWrxvDs19584nZD3BkNhI",
      "include_colab_link": true
    },
    "kernelspec": {
      "name": "python3",
      "display_name": "Python 3"
    },
    "language_info": {
      "name": "python"
    }
  },
  "cells": [
    {
      "cell_type": "markdown",
      "metadata": {
        "id": "view-in-github",
        "colab_type": "text"
      },
      "source": [
        "<a href=\"https://colab.research.google.com/github/clustering-jun/GNU-Computer_Programming/blob/main/L08_%EC%B0%B8%EA%B3%BC%EA%B1%B0%EC%A7%93_%EC%A1%B0%EA%B1%B4%EB%AC%B8_1.ipynb\" target=\"_parent\"><img src=\"https://colab.research.google.com/assets/colab-badge.svg\" alt=\"Open In Colab\"/></a>"
      ]
    },
    {
      "cell_type": "markdown",
      "source": [
        "# L08. 참과 거짓 조건문 1"
      ],
      "metadata": {
        "id": "nAGFNFzop4pF"
      }
    },
    {
      "cell_type": "markdown",
      "source": [
        "## 관계 연산자 응용\n",
        "(1) 변수 num의 값이 짝수인지\n",
        " > num % 2 == 0\n",
        "\n",
        "(2) 변수 num의 값이 홀수인지\n",
        " > num % 2 == 1\n",
        "\n",
        " > num % 2 != 0\n",
        "\n",
        "(3) 변수 weight가 60보다 크고 80보다 작은지\n",
        " > 60 < weight < 80\n",
        "\n",
        " > weight > 60 and weight < 80\n",
        "\n",
        "(4) 변수 weight가 60보다 작거나 80보다 큰지\n",
        " > weight < 60 or weight > 80"
      ],
      "metadata": {
        "id": "Er6VbUTL2NEM"
      }
    },
    {
      "cell_type": "markdown",
      "source": [
        "## 조건문 (if-문)\n",
        "- score가 60이상이면 '합격입니다.'를 출력하는 프로그램을 작성하시오."
      ],
      "metadata": {
        "id": "U0jFGJQU3YQJ"
      }
    },
    {
      "cell_type": "code",
      "source": [
        "score = int(input('점수를 입력하세요: '))\n",
        "\n",
        "print('당신이 입력한 점수는 %d점입니다.'%score)\n",
        "\n",
        "if score >= 60:\n",
        "  print('합격입니다.')\n",
        "  print('장학금 100만원을 드립니다.')\n",
        "else:\n",
        "  print('불합격입니다.')\n",
        "\n",
        "print('프로그램 종료')"
      ],
      "metadata": {
        "id": "DYfs-F_M2uwa",
        "outputId": "6c8b14ec-51b6-4075-d50b-5d033c41309e",
        "colab": {
          "base_uri": "https://localhost:8080/"
        }
      },
      "execution_count": 8,
      "outputs": [
        {
          "output_type": "stream",
          "name": "stdout",
          "text": [
            "점수를 입력하세요: 12\n",
            "당신이 입력한 점수는 12점입니다.\n",
            "불합격입니다.\n",
            "프로그램 종료\n"
          ]
        }
      ]
    },
    {
      "cell_type": "markdown",
      "source": [
        "## 홀수, 짝수 판단하기"
      ],
      "metadata": {
        "id": "W32gaTbL7qnx"
      }
    },
    {
      "cell_type": "code",
      "source": [
        "num = int(input('자연수를 입력하세요.: '))\n",
        "\n",
        "if num > 0 :\n",
        "  if num % 2 == 0:\n",
        "    print('짝수입니다.')\n",
        "  else:\n",
        "    print('홀수입니다.')\n",
        "\n",
        "else:\n",
        "  print('자연수를 입력하세요.')"
      ],
      "metadata": {
        "id": "WNBaJYH470qg",
        "outputId": "e0fc4563-70db-4440-e58a-e6202e81e64d",
        "colab": {
          "base_uri": "https://localhost:8080/"
        }
      },
      "execution_count": 11,
      "outputs": [
        {
          "output_type": "stream",
          "name": "stdout",
          "text": [
            "자연수를 입력하세요.: -12\n",
            "자연수가 아닙니다.\n"
          ]
        }
      ]
    }
  ]
}