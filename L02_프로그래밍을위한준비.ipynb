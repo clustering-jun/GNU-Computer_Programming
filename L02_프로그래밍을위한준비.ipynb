{
  "nbformat": 4,
  "nbformat_minor": 0,
  "metadata": {
    "colab": {
      "provenance": [],
      "authorship_tag": "ABX9TyOb7KPsFjEtQ1CTPqsvEejt",
      "include_colab_link": true
    },
    "kernelspec": {
      "name": "python3",
      "display_name": "Python 3"
    },
    "language_info": {
      "name": "python"
    }
  },
  "cells": [
    {
      "cell_type": "markdown",
      "metadata": {
        "id": "view-in-github",
        "colab_type": "text"
      },
      "source": [
        "<a href=\"https://colab.research.google.com/github/clustering-jun/GNU-Computer_Programming/blob/main/L02_%ED%94%84%EB%A1%9C%EA%B7%B8%EB%9E%98%EB%B0%8D%EC%9D%84%EC%9C%84%ED%95%9C%EC%A4%80%EB%B9%84.ipynb\" target=\"_parent\"><img src=\"https://colab.research.google.com/assets/colab-badge.svg\" alt=\"Open In Colab\"/></a>"
      ]
    },
    {
      "cell_type": "markdown",
      "source": [
        "# L02. 프로그래밍을위한준비"
      ],
      "metadata": {
        "id": "PPeJbmF8ydja"
      }
    },
    {
      "cell_type": "markdown",
      "source": [
        "## print( ) 함수"
      ],
      "metadata": {
        "id": "z5BovfAYz8oV"
      }
    },
    {
      "cell_type": "code",
      "execution_count": 1,
      "metadata": {
        "colab": {
          "base_uri": "https://localhost:8080/"
        },
        "id": "ol3yNdYyyb5H",
        "outputId": "7eb72355-8e12-4a76-8de5-14b3f66dbb3b"
      },
      "outputs": [
        {
          "output_type": "stream",
          "name": "stdout",
          "text": [
            "123\n"
          ]
        }
      ],
      "source": [
        "print(123)"
      ]
    },
    {
      "cell_type": "code",
      "source": [
        "print(\"Hello World\")"
      ],
      "metadata": {
        "colab": {
          "base_uri": "https://localhost:8080/"
        },
        "id": "1vQH28QLysbq",
        "outputId": "72d4123d-b8c8-4109-9bb9-bb1066068968"
      },
      "execution_count": 2,
      "outputs": [
        {
          "output_type": "stream",
          "name": "stdout",
          "text": [
            "Hello World\n"
          ]
        }
      ]
    },
    {
      "cell_type": "code",
      "source": [
        "Print(123)"
      ],
      "metadata": {
        "colab": {
          "base_uri": "https://localhost:8080/",
          "height": 146
        },
        "id": "OPTEXN76zt9D",
        "outputId": "4dc88d12-8fe7-4ce1-9741-ecd6dc0ab08a"
      },
      "execution_count": 3,
      "outputs": [
        {
          "output_type": "error",
          "ename": "NameError",
          "evalue": "name 'Print' is not defined",
          "traceback": [
            "\u001b[0;31m---------------------------------------------------------------------------\u001b[0m",
            "\u001b[0;31mNameError\u001b[0m                                 Traceback (most recent call last)",
            "\u001b[0;32m<ipython-input-3-d7b590bda595>\u001b[0m in \u001b[0;36m<cell line: 0>\u001b[0;34m()\u001b[0m\n\u001b[0;32m----> 1\u001b[0;31m \u001b[0mPrint\u001b[0m\u001b[0;34m(\u001b[0m\u001b[0;36m123\u001b[0m\u001b[0;34m)\u001b[0m\u001b[0;34m\u001b[0m\u001b[0;34m\u001b[0m\u001b[0m\n\u001b[0m",
            "\u001b[0;31mNameError\u001b[0m: name 'Print' is not defined"
          ]
        }
      ]
    },
    {
      "cell_type": "markdown",
      "source": [
        "- Python에서 print는 함수이며, print()처럼 괄호를 사용하여 호출해야 한다.\n",
        "- Print()와 같이 대문자(P)를 사용하여 호출할 수 없다.\n",
        "- 숫자를 출력하고 싶을 때는 print(숫자)를 입력하면 된다.\n",
        "- 또한, 문자열을 출력할 때는 \" \" 또는 ' '로 감싸야 하며, 시작한 따옴표와 동일한 것으로 끝내야 한다."
      ],
      "metadata": {
        "id": "h_aaAIFnyxfH"
      }
    },
    {
      "cell_type": "code",
      "source": [
        "print(4+5)"
      ],
      "metadata": {
        "colab": {
          "base_uri": "https://localhost:8080/"
        },
        "id": "hr9tUhkF0DL-",
        "outputId": "2f1e6db8-174f-4210-90f6-95056d226bf5"
      },
      "execution_count": 4,
      "outputs": [
        {
          "output_type": "stream",
          "name": "stdout",
          "text": [
            "9\n"
          ]
        }
      ]
    },
    {
      "cell_type": "markdown",
      "source": [
        "- print(4 + 5)를 실행하면, 먼저 4 + 5가 연산된다. 이 과정에서 CPU의 ALU가 덧셈 연산을 수행하여 결과값 9를 생성한다.\n",
        "- 그 후, 계산된 값 9가 print() 함수의 인자로 전달되며, 최종적으로 출력된다."
      ],
      "metadata": {
        "id": "uBl4QCkL0Fef"
      }
    },
    {
      "cell_type": "code",
      "source": [
        "print(\"제 나이는\",20,\"세 입니다.\")"
      ],
      "metadata": {
        "colab": {
          "base_uri": "https://localhost:8080/"
        },
        "id": "1pEipq-J1dLI",
        "outputId": "bee87c92-2574-40b2-e44e-8a2e85468f45"
      },
      "execution_count": 9,
      "outputs": [
        {
          "output_type": "stream",
          "name": "stdout",
          "text": [
            "제 나이는 20 세 입니다.\n"
          ]
        }
      ]
    },
    {
      "cell_type": "markdown",
      "source": [
        "- 쉼표(,)는 여러 개의 값을 print() 함수에 전달할 때 각 값을 기본적으로 공백(space)으로 구분하여 출력하는 역할을 한다.\n",
        "- 쉼표(,)를 사용하면 문자열과 숫자 등 서로 다른 자료형도 쉽게 출력할 수 있다."
      ],
      "metadata": {
        "id": "yVaDUWos1l7E"
      }
    },
    {
      "cell_type": "markdown",
      "source": [
        "## 자료형(Data Type)"
      ],
      "metadata": {
        "id": "EjKvWQkF0nIC"
      }
    },
    {
      "cell_type": "markdown",
      "source": [
        "1) 숫자형 (Numeric)\n",
        "- 정수 (int): 10, -5, 0\n",
        "- 실수 (float): 3.14, -2.71, 0.0\n",
        "- 복소수 (complex): 3+4j, -2j\n",
        "\n",
        "2) 문자열 (String)\n",
        "- 문자들의 집합, 따옴표로 감싸서 표현 (', \")\n"
      ],
      "metadata": {
        "id": "6h7iJWTU0pTh"
      }
    },
    {
      "cell_type": "markdown",
      "source": [
        "### Type( ) 함수\n",
        "- 변수나 값의 자료형을 확인하는 내장 함수"
      ],
      "metadata": {
        "id": "SL7cGwmW1Hgk"
      }
    },
    {
      "cell_type": "code",
      "source": [
        "type(123)"
      ],
      "metadata": {
        "colab": {
          "base_uri": "https://localhost:8080/"
        },
        "id": "biM6vg1J0oRx",
        "outputId": "2a778953-5008-4fad-f045-ac39cc7c52f0"
      },
      "execution_count": 5,
      "outputs": [
        {
          "output_type": "execute_result",
          "data": {
            "text/plain": [
              "int"
            ]
          },
          "metadata": {},
          "execution_count": 5
        }
      ]
    },
    {
      "cell_type": "code",
      "source": [
        "type(\"123\")"
      ],
      "metadata": {
        "colab": {
          "base_uri": "https://localhost:8080/"
        },
        "id": "-6pcxlbI1MXW",
        "outputId": "cdf46d5e-76f6-4d57-99a0-74058d28d775"
      },
      "execution_count": 6,
      "outputs": [
        {
          "output_type": "execute_result",
          "data": {
            "text/plain": [
              "str"
            ]
          },
          "metadata": {},
          "execution_count": 6
        }
      ]
    },
    {
      "cell_type": "code",
      "source": [
        "type(-2j)"
      ],
      "metadata": {
        "colab": {
          "base_uri": "https://localhost:8080/"
        },
        "id": "FRBdQKJI2Z-L",
        "outputId": "8deb1e49-b113-477d-c1b0-5678135a9e03"
      },
      "execution_count": 10,
      "outputs": [
        {
          "output_type": "execute_result",
          "data": {
            "text/plain": [
              "complex"
            ]
          },
          "metadata": {},
          "execution_count": 10
        }
      ]
    },
    {
      "cell_type": "code",
      "source": [
        "a = 123\n",
        "b = \"123\"\n",
        "\n",
        "print(type(a))\n",
        "print(type(b))"
      ],
      "metadata": {
        "colab": {
          "base_uri": "https://localhost:8080/"
        },
        "id": "1xGADVum1QUF",
        "outputId": "5c5ecd3b-366e-4a60-a09f-f7685acf2396"
      },
      "execution_count": 8,
      "outputs": [
        {
          "output_type": "stream",
          "name": "stdout",
          "text": [
            "<class 'int'>\n",
            "<class 'str'>\n"
          ]
        }
      ]
    }
  ]
}