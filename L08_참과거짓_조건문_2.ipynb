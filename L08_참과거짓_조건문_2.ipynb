{
  "nbformat": 4,
  "nbformat_minor": 0,
  "metadata": {
    "colab": {
      "provenance": [],
      "authorship_tag": "ABX9TyPrDtVQiXqWv8mJxAJfFGa/",
      "include_colab_link": true
    },
    "kernelspec": {
      "name": "python3",
      "display_name": "Python 3"
    },
    "language_info": {
      "name": "python"
    }
  },
  "cells": [
    {
      "cell_type": "markdown",
      "metadata": {
        "id": "view-in-github",
        "colab_type": "text"
      },
      "source": [
        "<a href=\"https://colab.research.google.com/github/clustering-jun/GNU-Computer_Programming/blob/main/L08_%EC%B0%B8%EA%B3%BC%EA%B1%B0%EC%A7%93_%EC%A1%B0%EA%B1%B4%EB%AC%B8_2.ipynb\" target=\"_parent\"><img src=\"https://colab.research.google.com/assets/colab-badge.svg\" alt=\"Open In Colab\"/></a>"
      ]
    },
    {
      "cell_type": "markdown",
      "source": [
        "# L08. 참과 거짓 조건문 2\n",
        "- 조건문의 실행순서와 관련하여, if절을 판단하고 아니면 else로 가고 밑에 실행하는 등의 실행 순서를 잘 파악하고 있어야함. (시험)\n",
        "\n",
        "- 첫 if절에 만족하면 else는 건너뛰고 실행한다. else에 100줄이 넘어도 그렇다."
      ],
      "metadata": {
        "id": "LCrPvQwP3nIJ"
      }
    },
    {
      "cell_type": "code",
      "execution_count": null,
      "metadata": {
        "id": "lgBDnbQY3jY1"
      },
      "outputs": [],
      "source": [
        "# 구조적으로 가독성을 높이기 위해 elif를 사용한다.\n",
        "# if - elif = else\n",
        "\n",
        "n = int(input('정수 1개를 입력하시오: '))\n",
        "\n",
        "if n > 0:\n",
        "  print('양수')\n",
        "elif n == 0:\n",
        "  print('0')\n",
        "else:                 # esle와 콜론 사이에는 신텍스(문법)규정으로 조건을 작성할 수 없음.\n",
        "  print('음수')\n",
        "\n",
        "# 5를 입학하면\n",
        "\n",
        "# 첫째줄 if문 print문은 실행하고 끝."
      ]
    }
  ]
}