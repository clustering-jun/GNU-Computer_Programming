{
  "nbformat": 4,
  "nbformat_minor": 0,
  "metadata": {
    "colab": {
      "provenance": [],
      "authorship_tag": "ABX9TyMT30LMjWBHGmQQFmD8S7yb",
      "include_colab_link": true
    },
    "kernelspec": {
      "name": "python3",
      "display_name": "Python 3"
    },
    "language_info": {
      "name": "python"
    }
  },
  "cells": [
    {
      "cell_type": "markdown",
      "metadata": {
        "id": "view-in-github",
        "colab_type": "text"
      },
      "source": [
        "<a href=\"https://colab.research.google.com/github/clustering-jun/GNU-Computer_Programming/blob/main/L03_%ED%94%84%EB%A1%9C%EA%B7%B8%EB%9E%98%EB%B0%8D%EC%9D%98%EC%8B%9C%EC%9E%911.ipynb\" target=\"_parent\"><img src=\"https://colab.research.google.com/assets/colab-badge.svg\" alt=\"Open In Colab\"/></a>"
      ]
    },
    {
      "cell_type": "markdown",
      "source": [
        "# L03. 프로그래밍의시작1\n",
        "\n",
        "- 쉘 모드에서는 한 줄씩 코드를 입력하고 바로 실행해 볼 수 있음.\n"
      ],
      "metadata": {
        "id": "OqDZq1u8gQZ2"
      }
    },
    {
      "cell_type": "markdown",
      "source": [
        "## print() 함수"
      ],
      "metadata": {
        "id": "6vrjiRwcjIMK"
      }
    },
    {
      "cell_type": "code",
      "source": [
        "print('쿠키', '쿠키', '쿠키', '쿠키', '쿠키', '쿠키')"
      ],
      "metadata": {
        "colab": {
          "base_uri": "https://localhost:8080/"
        },
        "id": "50qyecB5i0ID",
        "outputId": "a2007492-e2a5-4e50-da4c-a528958a8f58"
      },
      "execution_count": null,
      "outputs": [
        {
          "output_type": "stream",
          "name": "stdout",
          "text": [
            "쿠키 쿠키 쿠키 쿠키 쿠키 쿠키\n"
          ]
        }
      ]
    },
    {
      "cell_type": "code",
      "source": [
        "print('쿠키 ' * 6)"
      ],
      "metadata": {
        "colab": {
          "base_uri": "https://localhost:8080/"
        },
        "id": "tf--cMRdi7I6",
        "outputId": "0e0cc3c5-2eaf-4816-8069-e830e3701feb"
      },
      "execution_count": null,
      "outputs": [
        {
          "output_type": "stream",
          "name": "stdout",
          "text": [
            "쿠키 쿠키 쿠키 쿠키 쿠키 쿠키 \n"
          ]
        }
      ]
    },
    {
      "cell_type": "markdown",
      "source": [
        "### 문자열을 +(더하기) 기호로 연결할 수 있음.\n",
        "- +(더하기)가 연결하는데 사용할 수 있으나 문자열과 숫자형에 따라 하는 역할이 달라진다."
      ],
      "metadata": {
        "id": "EAtfHRl_jOES"
      }
    },
    {
      "cell_type": "code",
      "source": [
        "print('강아지'+'쿠키')  # 문자열을 연결"
      ],
      "metadata": {
        "colab": {
          "base_uri": "https://localhost:8080/"
        },
        "id": "ozr9E0ZTjNvR",
        "outputId": "4f46f9a5-6249-4559-9c13-26bfdc6e5e33"
      },
      "execution_count": null,
      "outputs": [
        {
          "output_type": "stream",
          "name": "stdout",
          "text": [
            "강아지쿠키\n"
          ]
        }
      ]
    },
    {
      "cell_type": "code",
      "source": [
        "print(200+100)  # 산술연산"
      ],
      "metadata": {
        "colab": {
          "base_uri": "https://localhost:8080/"
        },
        "id": "tjl_AhTHjVA5",
        "outputId": "c7327011-76c5-4435-a69e-eda0638852d7"
      },
      "execution_count": null,
      "outputs": [
        {
          "output_type": "stream",
          "name": "stdout",
          "text": [
            "300\n"
          ]
        }
      ]
    },
    {
      "cell_type": "markdown",
      "source": [
        "- dataype이 달라서 +로 문자열 자료(str)와 숫자형 자료(int)를 이을 수 없다.\n",
        "- TypeError: unsupported operand type(s) for +: 'int' and 'str'"
      ],
      "metadata": {
        "id": "vEaVlWpijlla"
      }
    },
    {
      "cell_type": "code",
      "source": [
        "print(6+'시')"
      ],
      "metadata": {
        "colab": {
          "base_uri": "https://localhost:8080/",
          "height": 141
        },
        "id": "-epDHAGqjhwq",
        "outputId": "40ff8eb5-b26d-45cf-9f9c-c3c03791b80b"
      },
      "execution_count": null,
      "outputs": [
        {
          "output_type": "error",
          "ename": "TypeError",
          "evalue": "unsupported operand type(s) for +: 'int' and 'str'",
          "traceback": [
            "\u001b[0;31m---------------------------------------------------------------------------\u001b[0m",
            "\u001b[0;31mTypeError\u001b[0m                                 Traceback (most recent call last)",
            "\u001b[0;32m<ipython-input-6-5295ef442131>\u001b[0m in \u001b[0;36m<cell line: 0>\u001b[0;34m()\u001b[0m\n\u001b[0;32m----> 1\u001b[0;31m \u001b[0mprint\u001b[0m\u001b[0;34m(\u001b[0m\u001b[0;36m6\u001b[0m\u001b[0;34m+\u001b[0m\u001b[0;34m'시'\u001b[0m\u001b[0;34m)\u001b[0m\u001b[0;34m\u001b[0m\u001b[0;34m\u001b[0m\u001b[0m\n\u001b[0m",
            "\u001b[0;31mTypeError\u001b[0m: unsupported operand type(s) for +: 'int' and 'str'"
          ]
        }
      ]
    },
    {
      "cell_type": "markdown",
      "source": [
        "- '6'과 '시'를 연결하기 위하여 6을 숫자형 자료(int)에서 문자열 자료(str)로 바꿔서 출력하자.\n",
        "\n",
        "- str( ): datatype을 문자열 자료형으로 변환해주는 내장 함수 (형변환함수 type casting)\n",
        "\n",
        "- print( )라는 함수에 str( )함수가 합성되어 있는 형태임. 이를 수학적으로 해석하여 str( )이 먼저 가동되고 그 결과를 print( )함수의 입력으로 주어 출력된다."
      ],
      "metadata": {
        "id": "uefyOSX4kf1Z"
      }
    },
    {
      "cell_type": "code",
      "source": [
        "print('6' + '시')\n",
        "\n",
        "print(str(6)+'시') # datatype을 바꾸는 방법"
      ],
      "metadata": {
        "colab": {
          "base_uri": "https://localhost:8080/"
        },
        "id": "CpRt9raAkNSC",
        "outputId": "808c7c6c-49f8-4892-9ade-25aeb2655a2e"
      },
      "execution_count": null,
      "outputs": [
        {
          "output_type": "stream",
          "name": "stdout",
          "text": [
            "6시\n",
            "6시\n"
          ]
        }
      ]
    },
    {
      "cell_type": "markdown",
      "source": [
        "## print( ) 활용\n",
        "![image.png](data:image/png;base64,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)"
      ],
      "metadata": {
        "id": "bsO08NOblghI"
      }
    },
    {
      "cell_type": "code",
      "source": [
        "print('너무','반짝'*2,'눈이 부셔','No '*5)\n",
        "print('너무','깜짝'*2,'놀란 나는','Oh '*5)\n",
        "print('너무','짜릿'*2,'몸이 떨려','Gee '*5)"
      ],
      "metadata": {
        "colab": {
          "base_uri": "https://localhost:8080/"
        },
        "id": "m9WrYfMAlrl3",
        "outputId": "14b66c46-76fe-4f13-cc94-665b8e4243cb"
      },
      "execution_count": null,
      "outputs": [
        {
          "output_type": "stream",
          "name": "stdout",
          "text": [
            "너무 반짝반짝 눈이 부셔 No No No No No \n",
            "너무 깜짝깜짝 놀란 나는 Oh Oh Oh Oh Oh \n",
            "너무 짜릿짜릿 몸이 떨려 Gee Gee Gee Gee Gee \n"
          ]
        }
      ]
    },
    {
      "cell_type": "markdown",
      "source": [
        "## 터틀 그래픽 모듈 (Turtle graphic Module)"
      ],
      "metadata": {
        "id": "Hhjmd4RmoxDT"
      }
    },
    {
      "cell_type": "markdown",
      "source": [
        "- Turtle graphic Module을 import를 통해 불러온다.\n",
        "- print( )함수는 자주 사용하는 함수로서 IDLE를 실행하기만해도 주기억장치(메모리)에 불러와져있으나 Turtle graphic Module은 일반적으로 사용하지 않으므로 메모리를 낭비하지 않도록 주기억장치(메모리)에 불러와져있지 않음.\n",
        "\n",
        "- turtle module은 주기억장치(메모리)에 없으므로 import를 통해 불러올 수 있다.\n",
        "- import 모듈: 모듈을 주기억장치(메모리)로 가져오라는 의미이다."
      ],
      "metadata": {
        "id": "vwLvgSQdpUMz"
      }
    },
    {
      "cell_type": "code",
      "source": [
        "import turtle"
      ],
      "metadata": {
        "id": "TKfJVjKJpRlD"
      },
      "execution_count": null,
      "outputs": []
    },
    {
      "cell_type": "code",
      "source": [
        "t = turtle.Turtle() # 터틀 객체 하나 생성해서 t라고 하자.\n",
        "turtle.shape('turtle')\n",
        "t.shapesize(3)\n",
        "t.color('red')\n",
        "t.forward(100)\n",
        "t.pensize(5) # 이 코드 뒤부터 pensize는 5로 설정\n",
        "t.fd(100) # forward()와 fd()는 같은 함수임.\n",
        "t.left(90)"
      ],
      "metadata": {
        "id": "pPxrm1cXrrJB"
      },
      "execution_count": null,
      "outputs": []
    },
    {
      "cell_type": "markdown",
      "source": [
        "### 한 변의 길이가 100인 빨강색 정사각형 그리기."
      ],
      "metadata": {
        "id": "G5BAoBWwvF2N"
      }
    },
    {
      "cell_type": "code",
      "source": [
        "import turtle\n",
        "c = turtle.Turtle() # 터틀 객체 하나 생성해서 c라고 하자.\n",
        "\n",
        "c.shape('turtle')\n",
        "c. width(5)\n",
        "c.pencolor('red')\n",
        "\n",
        "c.fd(100)\n",
        "c.left(90) # left()와 lt()는 같은 함수임.\n",
        "c.fd(100)\n",
        "c.left(90)\n",
        "c.fd(100)\n",
        "c.left(90)\n",
        "c.fd(100)\n",
        "# 마지막 left()는 없어도 됨.\n",
        "# 그러나 반복문을 적용할때의 일관성과 추후 코딩의 편의성을 위해 추가함.\n",
        "c.left(90)"
      ],
      "metadata": {
        "id": "CQiN4yvsvJN1"
      },
      "execution_count": null,
      "outputs": []
    },
    {
      "cell_type": "markdown",
      "source": [
        "### 한 변의 길이가 200인 파랑색 정삼각형 그리기."
      ],
      "metadata": {
        "id": "yFIq_W-yyJbR"
      }
    },
    {
      "cell_type": "code",
      "source": [
        "import turtle\n",
        "c = turtle.Turtle()\n",
        "\n",
        "c.shape('turtle')\n",
        "c. width(5)\n",
        "c.pencolor('blue')\n",
        "\n",
        "c.fd(200)\n",
        "c.left(120)\n",
        "c.fd(200)\n",
        "c.left(120)\n",
        "c.fd(200)\n",
        "c.left(120)"
      ],
      "metadata": {
        "id": "052StLQpyTRJ"
      },
      "execution_count": null,
      "outputs": []
    },
    {
      "cell_type": "markdown",
      "source": [
        "- \" \" \" ~ \" \" \" 으로 여러줄의 문자열(멀티라인 텍스트)으로 처리할 수 있다."
      ],
      "metadata": {
        "id": "oFlzjh7QzGkA"
      }
    },
    {
      "cell_type": "markdown",
      "source": [
        "### 반지름이 200인 원 그리기.\n",
        "- 실행을 시키지 않아도 실행결과를 머리속으로 그릴 수 있어야 함.\n",
        "- circle( ) 함수는 시작점부터 왼쪽으로 돌아 원을 만든다."
      ],
      "metadata": {
        "id": "hf7DWnEHzn43"
      }
    },
    {
      "cell_type": "code",
      "source": [
        "import turtle\n",
        "c = turtle.Turtle()\n",
        "\n",
        "c.shape('turtle')\n",
        "c. width(5)\n",
        "c.pencolor('blue')\n",
        "\n",
        "c.circle(200) # 반지름 200"
      ],
      "metadata": {
        "id": "us9oUwNGzq_A"
      },
      "execution_count": null,
      "outputs": []
    },
    {
      "cell_type": "markdown",
      "source": [
        "- clear( )함수로 지금까지 그린 그림을 지울 수 있음."
      ],
      "metadata": {
        "id": "HJ4Ou_RK0U9f"
      }
    },
    {
      "cell_type": "markdown",
      "source": [
        "### 한 변의 길이가 100인 정육각형 그리기."
      ],
      "metadata": {
        "id": "bOcpigeP1PTe"
      }
    },
    {
      "cell_type": "code",
      "source": [
        "import turtle\n",
        "c = turtle.Turtle()\n",
        "\n",
        "c.shape('turtle')\n",
        "c. width(5)\n",
        "c.pencolor('blue')\n",
        "\n",
        "c.fd(100)\n",
        "c.left(60)\n",
        "c.fd(100)\n",
        "c.left(60)\n",
        "c.fd(100)\n",
        "c.left(60)\n",
        "c.fd(100)\n",
        "c.left(60)\n",
        "c.fd(100)\n",
        "c.left(60)\n",
        "c.fd(100)"
      ],
      "metadata": {
        "id": "d3uPcH2W0LrZ"
      },
      "execution_count": null,
      "outputs": []
    },
    {
      "cell_type": "markdown",
      "source": [
        "### 참고 - 파일명 turtle.py\n",
        "\n",
        "파이썬 turtle 모듈의 파일 이름이 turtle.py 이므로 위에서 만든 파일의 이름을 turtle.py 로 하면 안된다. 이와 같이 할 경우 turtle 모듈이 호출되지 않으므로 터틀 그래픽 시스템이 작동하지 않는다. 파이썬의 모듈이름과 같은 파일 이름은 피하도록 하자."
      ],
      "metadata": {
        "id": "YVO2oRSNH_gI"
      }
    }
  ]
}