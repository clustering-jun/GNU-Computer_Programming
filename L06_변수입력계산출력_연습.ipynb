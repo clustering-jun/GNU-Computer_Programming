{
  "nbformat": 4,
  "nbformat_minor": 0,
  "metadata": {
    "colab": {
      "provenance": [],
      "authorship_tag": "ABX9TyNUraHy4iLaGX04d6vanBoF",
      "include_colab_link": true
    },
    "kernelspec": {
      "name": "python3",
      "display_name": "Python 3"
    },
    "language_info": {
      "name": "python"
    }
  },
  "cells": [
    {
      "cell_type": "markdown",
      "metadata": {
        "id": "view-in-github",
        "colab_type": "text"
      },
      "source": [
        "<a href=\"https://colab.research.google.com/github/clustering-jun/GNU-Computer_Programming/blob/main/L06_%EB%B3%80%EC%88%98%EC%9E%85%EB%A0%A5%EA%B3%84%EC%82%B0%EC%B6%9C%EB%A0%A5_%EC%97%B0%EC%8A%B5.ipynb\" target=\"_parent\"><img src=\"https://colab.research.google.com/assets/colab-badge.svg\" alt=\"Open In Colab\"/></a>"
      ]
    },
    {
      "cell_type": "markdown",
      "source": [
        "# L06. 변수입력계산출력_연습"
      ],
      "metadata": {
        "id": "lK_9QAG1EXOp"
      }
    },
    {
      "cell_type": "markdown",
      "source": [
        "## Data Type\n",
        "- 문자열(str), 정수(int), 실수(float), 복소수(complex), 논리 타입(bool) 등이 있음.\n",
        "- type( ) 함수를 사용하여 데이터의 타입을 확인 할 수 있음.\n",
        "- type( ) 함수를 사용하면, <class 'str'> 이러한 형식으로 나옴.\n",
        " - 의미: Python에서 모든 데이터 유형이 클래스(class)로 정의되어 있다는 것을 의미\n",
        " - class: Python에서는 모든 데이터가 객체(object)이며, 각 객체는 특정 클래스의 인스턴스(instance)입니다.\n",
        "\n",
        "예를 들어, str 클래스는 문자열 객체를 생성하는 역할을 합니다.\n",
        "\n",
        "type(obj)는 해당 객체 obj의 클래스(타입)를 반환합니다. 즉, 객체가 어떤 클래스에서 만들어졌는지 확인할 수 있습니다.\n",
        "\n",
        "또한, type()을 이용해 새로운 클래스를 동적으로 생성할 수도 있습니다.\n",
        "\n",
        "이처럼 type()은 단순히 데이터 타입을 확인하는 것뿐만 아니라, 동적으로 클래스를 생성하는 기능도 수행할 수 있습니다."
      ],
      "metadata": {
        "id": "NWyNantYo63Q"
      }
    },
    {
      "cell_type": "markdown",
      "source": [
        "## 택배 배송 정보 입력하기\n",
        "- 문자열 입력과 변수 연습\n",
        "- print( ) 함수의 개행 방법 (줄바꿈)\n",
        " - print() 함수만 호출\n",
        " - print(\"문자열 \\n\")"
      ],
      "metadata": {
        "id": "wPVUQ_BQrQPp"
      }
    },
    {
      "cell_type": "code",
      "execution_count": 1,
      "metadata": {
        "id": "7Aq6tTG2EWL7",
        "collapsed": true,
        "outputId": "83557fde-726c-4e08-fc51-7e20ee059bf4",
        "colab": {
          "base_uri": "https://localhost:8080/"
        }
      },
      "outputs": [
        {
          "output_type": "stream",
          "name": "stdout",
          "text": [
            "택배 배송을 위한 정보를 입력하세요!!\n",
            "\n",
            "1) 받는분 이름 : 홍길동\n",
            "2) 받는분 연락처 : 010-1234-1234\n",
            "3) 받는분 주소 : 경남 진주시 블라블라\n",
            "4) 배송 메시지 : 배송 전 연락주세요.\n",
            "\n",
            "아래 정보로 배송하겠습니다.\n",
            "========================\n",
            "- 받는분 이름 : 홍길동\n",
            "- 받는분 연락처 : 010-1234-1234\n",
            "- 받는분 주소 : 경남 진주시 블라블라\n",
            "- 배송 메시지 : 배송 전 연락주세요.\n",
            "========================\n"
          ]
        }
      ],
      "source": [
        "print(\"택배 배송을 위한 정보를 입력하세요!!\")\n",
        "print()\n",
        "\n",
        "# 입력\n",
        "이름 = input(\"1) 받는분 이름 : \")\n",
        "연락처 = input(\"2) 받는분 연락처 : \")\n",
        "주소 = input(\"3) 받는분 주소 : \")\n",
        "메시지 = input(\"4) 배송 메시지 : \")\n",
        "\n",
        "# 출력\n",
        "print()\n",
        "print(\"아래 정보로 배송하겠습니다.\")\n",
        "print(\"=====================================\")\n",
        "print(\"- 받는분 이름 :\", 이름)\n",
        "print(\"- 받는분 연락처 :\", 연락처)\n",
        "print(\"- 받는분 주소 :\", 주소)\n",
        "print(\"- 배송 메시지 :\", 메시지)\n",
        "print(\"=====================================\")"
      ]
    },
    {
      "cell_type": "code",
      "source": [
        "print(\"택배 배송을 위한 정보를 입력하세요!!\\n\")\n",
        "\n",
        "# 입력\n",
        "이름 = input(\"1) 받는분 이름 : \")\n",
        "연락처 = input(\"2) 받는분 연락처 : \")\n",
        "주소 = input(\"3) 받는분 주소 : \")\n",
        "메시지 = input(\"4) 배송 메시지 : \")\n",
        "\n",
        "# 출력\n",
        "print(\"\\n아래 정보로 배송하겠습니다.\")\n",
        "print(\"=====================================\")\n",
        "print(\"- 받는분 이름 :\", 이름)\n",
        "print(\"- 받는분 연락처 :\", 연락처)\n",
        "print(\"- 받는분 주소 :\", 주소)\n",
        "print(\"- 배송 메시지 :\", 메시지)\n",
        "print(\"=====================================\")"
      ],
      "metadata": {
        "id": "g8QmJggIvEmU"
      },
      "execution_count": null,
      "outputs": []
    },
    {
      "cell_type": "markdown",
      "source": [
        "## 입력 받은 두 수의 합 구하여 출력하기\n",
        "- 수 입력 연습\n",
        "- 데이터 입력(수, 문자열), 변수 저장, 계산(덧셈), 결과 출력"
      ],
      "metadata": {
        "id": "rVLCzXdEvwBX"
      }
    },
    {
      "cell_type": "code",
      "source": [
        "# 입력\n",
        "이름 = input(\"이름을 입력하세요: \")\n",
        "수1 = int(input(\"첫 번째 수를 입력하세요: \"))\n",
        "수2 = int(input(\"두 번째 수를 입력하세요: \"))\n",
        "\n",
        "# 출력\n",
        "print(이름 + \"님이 입력한 수의 합은 \" + str(수1+수2) + \"입니다!!\")"
      ],
      "metadata": {
        "id": "B-0v6R6lvv18"
      },
      "execution_count": null,
      "outputs": []
    },
    {
      "cell_type": "markdown",
      "source": [
        "## 원의 둘레와 넓이 구하기\n",
        "- 타입 변환 더 알아가기"
      ],
      "metadata": {
        "id": "v6CIbYDwyaN0"
      }
    },
    {
      "cell_type": "code",
      "source": [
        "# 입력\n",
        "반지름 = float(input(\"반지름을 입력하세요: \"))\n",
        "\n",
        "# 계산\n",
        "둘레 = 2 * 3.14 * 반지름\n",
        "넓이 = 3.14 * 반지름 ** 2\n",
        "\n",
        "# 출력\n",
        "print(\"반지름: \", 반지름)\n",
        "print(\"둘  레: \", 둘레)\n",
        "print(\"넓  이: \", 넓이)"
      ],
      "metadata": {
        "id": "voaMqq-2ykAr",
        "outputId": "04dc23e5-5032-44cd-b5b3-083a54a2c8f8",
        "colab": {
          "base_uri": "https://localhost:8080/"
        }
      },
      "execution_count": 2,
      "outputs": [
        {
          "output_type": "stream",
          "name": "stdout",
          "text": [
            "반지름을 입력하세요: 1\n",
            "반지름:  1.0\n",
            "둘  레:  6.28\n",
            "넓  이:  3.14\n"
          ]
        }
      ]
    }
  ]
}