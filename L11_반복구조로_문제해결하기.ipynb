{
  "nbformat": 4,
  "nbformat_minor": 0,
  "metadata": {
    "colab": {
      "provenance": [],
      "authorship_tag": "ABX9TyMbQKWGJj22sPAS43lB81Mw",
      "include_colab_link": true
    },
    "kernelspec": {
      "name": "python3",
      "display_name": "Python 3"
    },
    "language_info": {
      "name": "python"
    }
  },
  "cells": [
    {
      "cell_type": "markdown",
      "metadata": {
        "id": "view-in-github",
        "colab_type": "text"
      },
      "source": [
        "<a href=\"https://colab.research.google.com/github/clustering-jun/GNU-Computer_Programming/blob/main/L11_%EB%B0%98%EB%B3%B5%EA%B5%AC%EC%A1%B0%EB%A1%9C_%EB%AC%B8%EC%A0%9C%ED%95%B4%EA%B2%B0%ED%95%98%EA%B8%B0.ipynb\" target=\"_parent\"><img src=\"https://colab.research.google.com/assets/colab-badge.svg\" alt=\"Open In Colab\"/></a>"
      ]
    },
    {
      "cell_type": "markdown",
      "source": [
        "# L11. 반복 구조로 문제 해결하기\n",
        "\n",
        "## 01. for문 - 횟수 제어를 이용한 반복"
      ],
      "metadata": {
        "id": "VfJVHJxF9LFa"
      }
    },
    {
      "cell_type": "code",
      "source": [
        "for i in range(5):\n",
        "  print('방문을 환영합니다.')"
      ],
      "metadata": {
        "id": "ytCaPdQq-uk3",
        "outputId": "dea258a6-b8bd-4393-eb65-ef3c9a41f70d",
        "colab": {
          "base_uri": "https://localhost:8080/"
        }
      },
      "execution_count": 1,
      "outputs": [
        {
          "output_type": "stream",
          "name": "stdout",
          "text": [
            "방문을 환영합니다.\n",
            "방문을 환영합니다.\n",
            "방문을 환영합니다.\n",
            "방문을 환영합니다.\n",
            "방문을 환영합니다.\n"
          ]
        }
      ]
    },
    {
      "cell_type": "markdown",
      "source": [
        "<br>\n",
        "\n",
        "## 02. range( ) 함수\n",
        "- 정수를 생성해주는 함수\n",
        "> range(5): 0, 1, 2, 3, 4, 5과 같이 5개의 정수를 생성함.\n",
        "\n",
        "> range( start = 0, stop, step = 1 )\n",
        " - start와 step은 생략할 수 있음.\n",
        " - 생략할 경우 start는 0을 step은 1을 기본 값으로 갖는다.\n"
      ],
      "metadata": {
        "id": "RAeUEW20-zjS"
      }
    },
    {
      "cell_type": "code",
      "source": [
        "for i in range(1,6,1):\n",
        "  print(i, end=' ')"
      ],
      "metadata": {
        "id": "1AZIeYxg-3qQ",
        "outputId": "f6f871b4-79e5-4892-b7ea-67c071c00383",
        "colab": {
          "base_uri": "https://localhost:8080/"
        }
      },
      "execution_count": 3,
      "outputs": [
        {
          "output_type": "stream",
          "name": "stdout",
          "text": [
            "1 2 3 4 5 "
          ]
        }
      ]
    },
    {
      "cell_type": "code",
      "source": [
        "for i in range(10, 0, -1):\n",
        "  print(i, end=' ')"
      ],
      "metadata": {
        "id": "l_IdDw-1_Xoz",
        "outputId": "99725f9a-9fb1-4f8c-e5a6-9779c36aeec4",
        "colab": {
          "base_uri": "https://localhost:8080/"
        }
      },
      "execution_count": 4,
      "outputs": [
        {
          "output_type": "stream",
          "name": "stdout",
          "text": [
            "10 9 8 7 6 5 4 3 2 1 "
          ]
        }
      ]
    },
    {
      "cell_type": "markdown",
      "source": [
        "### 예제01. 1부터 100까지의 합을 구하는 프로그램\n",
        "- 1에서 100까지의 자연수의 합을 구하여 출력하는 프로그램을 작성하시오.\n",
        "- 반복 구조를 이용하는 방법 밖에 없나요? 더 효율적인 방법을 생각해보세요."
      ],
      "metadata": {
        "id": "J3G4-749_c_F"
      }
    },
    {
      "cell_type": "code",
      "source": [],
      "metadata": {
        "id": "VHCYyuVd_scl"
      },
      "execution_count": null,
      "outputs": []
    },
    {
      "cell_type": "markdown",
      "source": [
        "### 예제02. n값을 입력하면 n!을 계산하는 프로그램\n",
        "- 앞에서 살펴본 1~100까지의 합 구하기 예제와의 유사점과 차이점 인식하기"
      ],
      "metadata": {
        "id": "nlag1NDW_s0J"
      }
    },
    {
      "cell_type": "code",
      "source": [],
      "metadata": {
        "id": "dIEdhNls_-Vo"
      },
      "execution_count": null,
      "outputs": []
    },
    {
      "cell_type": "markdown",
      "source": [
        "### 예제03. 코드 줄여보기"
      ],
      "metadata": {
        "id": "zatmDtlWAAVn"
      }
    },
    {
      "cell_type": "code",
      "source": [
        "import turtle\n",
        "t = turtle.Turtle()\n",
        "\n",
        "for i in range():"
      ],
      "metadata": {
        "id": "5Xkl1KCFADQg"
      },
      "execution_count": null,
      "outputs": []
    },
    {
      "cell_type": "markdown",
      "source": [
        "### 예제04. n각형 그리기\n",
        "- 사용자로부터 정수 n값을 입력 받아서 한 변의 길이가 100인 정n각형을 그리는 프로그램을 작성하시오."
      ],
      "metadata": {
        "id": "YpHs5k35AbPq"
      }
    },
    {
      "cell_type": "code",
      "source": [],
      "metadata": {
        "id": "oY2yLL0YAluE"
      },
      "execution_count": null,
      "outputs": []
    },
    {
      "cell_type": "markdown",
      "source": [
        "### 예제05. 약수구하기\n",
        "- 사용자로부터 어떤 자연수를 입력받아 그 수의 약수를 출력하는 프로그램을 작성하시오."
      ],
      "metadata": {
        "id": "yKfRUvL5AkXz"
      }
    },
    {
      "cell_type": "markdown",
      "source": [
        "<br><br>\n",
        "\n",
        "\n",
        "## 03. while문 - 조건 제어 반복\n",
        "- 어떤 조건이 만족되는 동안 반복하는 구조\n",
        "- 반복 횟수는 모르지만, 반복의 조건은 알고 있는 경우에 주로 사용하는 반복 구문"
      ],
      "metadata": {
        "id": "pukWmFN5AtiH"
      }
    },
    {
      "cell_type": "markdown",
      "source": [
        "### 예제01. 1부터 100까지의 합을 구하는 프로그램\n",
        "- 1에서 100까지의 자연수의 합을 구하여 출력하는 프로그램을 작성하시오."
      ],
      "metadata": {
        "id": "UbFrqRVQA8t7"
      }
    },
    {
      "cell_type": "code",
      "source": [],
      "metadata": {
        "id": "LSyIhP0XA8AV"
      },
      "execution_count": null,
      "outputs": []
    },
    {
      "cell_type": "markdown",
      "source": [
        "### 예제02. 뭐라뭐라\n",
        "- 뭐라뭐라"
      ],
      "metadata": {
        "id": "lrDZmocfBA7d"
      }
    },
    {
      "cell_type": "code",
      "source": [],
      "metadata": {
        "id": "OjIyE3RKBFNW"
      },
      "execution_count": null,
      "outputs": []
    }
  ]
}