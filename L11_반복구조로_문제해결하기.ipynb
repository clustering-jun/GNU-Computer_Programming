{
  "nbformat": 4,
  "nbformat_minor": 0,
  "metadata": {
    "colab": {
      "provenance": [],
      "authorship_tag": "ABX9TyN6eaaSTUcrolrUv3epvme3",
      "include_colab_link": true
    },
    "kernelspec": {
      "name": "python3",
      "display_name": "Python 3"
    },
    "language_info": {
      "name": "python"
    }
  },
  "cells": [
    {
      "cell_type": "markdown",
      "metadata": {
        "id": "view-in-github",
        "colab_type": "text"
      },
      "source": [
        "<a href=\"https://colab.research.google.com/github/clustering-jun/GNU-Computer_Programming/blob/main/L11_%EB%B0%98%EB%B3%B5%EA%B5%AC%EC%A1%B0%EB%A1%9C_%EB%AC%B8%EC%A0%9C%ED%95%B4%EA%B2%B0%ED%95%98%EA%B8%B0.ipynb\" target=\"_parent\"><img src=\"https://colab.research.google.com/assets/colab-badge.svg\" alt=\"Open In Colab\"/></a>"
      ]
    },
    {
      "cell_type": "markdown",
      "source": [
        "# L11. 반복 구조로 문제 해결하기"
      ],
      "metadata": {
        "id": "VfJVHJxF9LFa"
      }
    },
    {
      "cell_type": "markdown",
      "source": [
        "## 01. for문 - 횟수 제어를 이용한 반복\n",
        "\n",
        "### (1) 횟수 제어 반복\n",
        "- 반복 횟수를 미리 아는 경우에 사용\n",
        "- 이때 주로 사용하는 반복문이 for 루프\n",
        "\n",
        "<br>\n",
        "\n",
        "### (2) range( ) 함수란\n",
        "- range( )는 정수를 생성해주는 함수\n",
        "- 예를 들어, range(5)를 실행하면 0, 1, 2, 3, 4 총 5개의 정수가 순서대로 생성.\n",
        " - 시작값 기본은 0, 종료값은 지정한 수보다 1 작은 값까지 생성됨\n",
        "\n",
        "<br>\n",
        "\n",
        "### (3) for문의 기본 구조\n",
        "```\n",
        "for 변수 in range(횟수):\n",
        "    실행할 문장\n",
        "```\n",
        "- range(5) → 0, 1, 2, 3, 4 순으로 값을 생성\n",
        "- 각 값이 차례대로 변수에 할당되면서, 반복문 내의 문장을 실행함\n",
        "\n",
        "<br>\n",
        "\n",
        "### (4) in 연산자의 역할\n",
        "- `in`은 값이 존재하는지를 확인하는 연산자\n",
        "- `for i in range(5)`는 `range(5)`가 생성한 값 중 다음 값이 존재하는지를 확인하며 반복을 제어\n",
        "- 값이 더 이상 없으면 반복을 종료하고 다음 코드로 넘어감\n",
        "\n",
        "<br>\n",
        "\n",
        "### (5) for문 동작 절차 설명\n",
        "```\n",
        "for i in range(5):\n",
        "    print(i)\n",
        "```\n",
        "- range(5) → [0, 1, 2, 3, 4] 생성됨\n",
        "- 첫 번째 반복:\n",
        " - i = 0이 변수에 할당됨\n",
        " - print(i) 실행 → 0 출력\n",
        "\n",
        "- 두 번째 반복:\n",
        " - i = 1 할당\n",
        " - print(i) 실행 → 1 출력\n",
        "\n",
        "- 이 과정을 반복하여 i = 4까지 실행됨\n",
        "- 다음 반복에서 더 이상 값이 없으므로 반복 종료\n",
        "- 반복문 아래의 다음 코드로 흐름이 이동함\n",
        "\n",
        "<br>\n",
        "\n",
        "### (6) 정리 요약\n",
        "- for문은 정해진 횟수만큼 반복할 때 사용\n",
        "- range()는 반복에 필요한 정수 목록을 생성\n",
        "- in은 값의 존재를 판단하여 반복을 계속할지 종료할지 결정\n",
        "- for문은 변수에 값이 존재할 때마다 반복하고, 값이 없으면 종료"
      ],
      "metadata": {
        "id": "OokWwViJvoFo"
      }
    },
    {
      "cell_type": "markdown",
      "source": [
        "<br>\n",
        "\n",
        "---\n",
        "\n",
        "<br>\n",
        "\n",
        "## for문 연습하기"
      ],
      "metadata": {
        "id": "6SadRy8aJ2tA"
      }
    },
    {
      "cell_type": "code",
      "source": [
        "print('방문을 환영합니다.')\n",
        "print('방문을 환영합니다.')\n",
        "print('방문을 환영합니다.')\n",
        "print('방문을 환영합니다.')\n",
        "print('방문을 환영합니다.')"
      ],
      "metadata": {
        "colab": {
          "base_uri": "https://localhost:8080/"
        },
        "id": "3DieCboGyEPs",
        "outputId": "9551b8ab-f4a9-4174-db05-b919f131d8d3"
      },
      "execution_count": null,
      "outputs": [
        {
          "output_type": "stream",
          "name": "stdout",
          "text": [
            "방문을 환영합니다.\n",
            "방문을 환영합니다.\n",
            "방문을 환영합니다.\n",
            "방문을 환영합니다.\n",
            "방문을 환영합니다.\n"
          ]
        }
      ]
    },
    {
      "cell_type": "code",
      "source": [
        "for i in range(5):\n",
        "  print('방문을 환영합니다.')"
      ],
      "metadata": {
        "id": "ytCaPdQq-uk3",
        "outputId": "dea258a6-b8bd-4393-eb65-ef3c9a41f70d",
        "colab": {
          "base_uri": "https://localhost:8080/"
        }
      },
      "execution_count": null,
      "outputs": [
        {
          "output_type": "stream",
          "name": "stdout",
          "text": [
            "방문을 환영합니다.\n",
            "방문을 환영합니다.\n",
            "방문을 환영합니다.\n",
            "방문을 환영합니다.\n",
            "방문을 환영합니다.\n"
          ]
        }
      ]
    },
    {
      "cell_type": "code",
      "source": [
        "for i in range(100):\n",
        "  print('123')\n",
        "\n",
        "for i in range(0,11):\n",
        "  print(i)\n",
        "\n",
        "  # 공통점\n",
        "  # i 는 제어변수임. 역할: 반복할지 말지를 i가 결정한다. i가 값이 있어야 실행하기 때문\n",
        "  # 차이점\n",
        "  # 밑의 코드는 제어하면서도 데이터의 역할도 한다.\n",
        "\n",
        "\n",
        "  # 실행하면 줄을 바꾸는 데 왜 바꿈?\n",
        "# 프린트 함수가 그렇게 만들어져 있음요. print( 기폴트 변수가 \\n으로 지정되어 있어서)\n",
        "\n",
        "# 그럼 내가 마음대로 하고 싶다? 빈칸을 넣고 싶다. 할 수 있지\n",
        "\n",
        "for i in range(10):\n",
        "  print(i, end='')\n",
        "\n",
        "  # 이렇게 하면 된드\n",
        "\n",
        "for i in range(1,11):\n",
        "  print(i, end=' ')\n",
        "# 을 실행하면 줄바꿈한번 해주ㅅ고 싶네?\n",
        "\n",
        "# print()랑 print(\\n)랑 어떻게 다를까?????\n",
        "\n",
        "# 1,3,5,7,9 만 출력하고 싶을때의 코드를 작성하시오. (10이하의홀수 출력하기, 단 range()함수만을 사용할 것)\n",
        "\n",
        "# 가장 쉬운 방법\n",
        "for i in range(1,10,2):\n",
        "  print(i, end=' ')\n",
        "\n",
        "#그러면 질문\n",
        "for i in range(1,10):\n",
        "  print(i) #하면 1부터 9까지만...... 그상태에서 홀수를 찍고 싶으면 어떻게함? if문 써서 검사할 수 있겠지 구현해보셈\n",
        "\n",
        "\n",
        "for i in range(1,10):\n",
        "  if i % 2 == 1:\n",
        "    print(i)\n"
      ],
      "metadata": {
        "colab": {
          "base_uri": "https://localhost:8080/"
        },
        "id": "UpXRy7pQ1M5g",
        "outputId": "828416f0-9a02-4d21-b9a4-0a6d87f0ffad"
      },
      "execution_count": null,
      "outputs": [
        {
          "output_type": "stream",
          "name": "stdout",
          "text": [
            "123\n",
            "123\n",
            "123\n",
            "123\n",
            "123\n",
            "123\n",
            "123\n",
            "123\n",
            "123\n",
            "123\n",
            "123\n",
            "123\n",
            "123\n",
            "123\n",
            "123\n",
            "123\n",
            "123\n",
            "123\n",
            "123\n",
            "123\n",
            "123\n",
            "123\n",
            "123\n",
            "123\n",
            "123\n",
            "123\n",
            "123\n",
            "123\n",
            "123\n",
            "123\n",
            "123\n",
            "123\n",
            "123\n",
            "123\n",
            "123\n",
            "123\n",
            "123\n",
            "123\n",
            "123\n",
            "123\n",
            "123\n",
            "123\n",
            "123\n",
            "123\n",
            "123\n",
            "123\n",
            "123\n",
            "123\n",
            "123\n",
            "123\n",
            "123\n",
            "123\n",
            "123\n",
            "123\n",
            "123\n",
            "123\n",
            "123\n",
            "123\n",
            "123\n",
            "123\n",
            "123\n",
            "123\n",
            "123\n",
            "123\n",
            "123\n",
            "123\n",
            "123\n",
            "123\n",
            "123\n",
            "123\n",
            "123\n",
            "123\n",
            "123\n",
            "123\n",
            "123\n",
            "123\n",
            "123\n",
            "123\n",
            "123\n",
            "123\n",
            "123\n",
            "123\n",
            "123\n",
            "123\n",
            "123\n",
            "123\n",
            "123\n",
            "123\n",
            "123\n",
            "123\n",
            "123\n",
            "123\n",
            "123\n",
            "123\n",
            "123\n",
            "123\n",
            "123\n",
            "123\n",
            "123\n",
            "123\n",
            "0\n",
            "1\n",
            "2\n",
            "3\n",
            "4\n",
            "5\n",
            "6\n",
            "7\n",
            "8\n",
            "9\n",
            "10\n",
            "01234567891 2 3 4 5 6 7 8 9 10 1 3 5 7 9 "
          ]
        }
      ]
    },
    {
      "cell_type": "markdown",
      "source": [
        "# range문법으로 데이터만드는거 시험낼테니까 잘아아오셈\n",
        "\n",
        "# range(1,2,-1)이런거 낼 수 있으니까. 공부하고"
      ],
      "metadata": {
        "id": "ppXb6ox60rNS"
      }
    },
    {
      "cell_type": "code",
      "source": [
        "# python in"
      ],
      "metadata": {
        "colab": {
          "base_uri": "https://localhost:8080/",
          "height": 219
        },
        "id": "nYsf8g7m0_IR",
        "outputId": "abb76ebb-6388-4374-db09-c22c76b587ca"
      },
      "execution_count": null,
      "outputs": [
        {
          "output_type": "error",
          "ename": "TypeError",
          "evalue": "argument of type 'int' is not iterable",
          "traceback": [
            "\u001b[0;31m---------------------------------------------------------------------------\u001b[0m",
            "\u001b[0;31mTypeError\u001b[0m                                 Traceback (most recent call last)",
            "\u001b[0;32m<ipython-input-23-4f951d030a16>\u001b[0m in \u001b[0;36m<cell line: 0>\u001b[0;34m()\u001b[0m\n\u001b[1;32m      1\u001b[0m \u001b[0ma\u001b[0m \u001b[0;34m=\u001b[0m \u001b[0;34m[\u001b[0m\u001b[0;36m1\u001b[0m\u001b[0;34m,\u001b[0m\u001b[0;36m2\u001b[0m\u001b[0;34m,\u001b[0m\u001b[0;36m3\u001b[0m\u001b[0;34m,\u001b[0m\u001b[0;36m4\u001b[0m\u001b[0;34m]\u001b[0m\u001b[0;34m\u001b[0m\u001b[0;34m\u001b[0m\u001b[0m\n\u001b[1;32m      2\u001b[0m \u001b[0;34m\u001b[0m\u001b[0m\n\u001b[0;32m----> 3\u001b[0;31m \u001b[0;32mif\u001b[0m \u001b[0ma\u001b[0m \u001b[0;32min\u001b[0m \u001b[0;36m3\u001b[0m\u001b[0;34m:\u001b[0m\u001b[0;34m\u001b[0m\u001b[0;34m\u001b[0m\u001b[0m\n\u001b[0m\u001b[1;32m      4\u001b[0m   \u001b[0mprint\u001b[0m\u001b[0;34m(\u001b[0m\u001b[0;36m0\u001b[0m\u001b[0;34m)\u001b[0m\u001b[0;34m\u001b[0m\u001b[0;34m\u001b[0m\u001b[0m\n\u001b[1;32m      5\u001b[0m \u001b[0;32melse\u001b[0m\u001b[0;34m:\u001b[0m\u001b[0;34m\u001b[0m\u001b[0;34m\u001b[0m\u001b[0m\n",
            "\u001b[0;31mTypeError\u001b[0m: argument of type 'int' is not iterable"
          ]
        }
      ]
    },
    {
      "cell_type": "code",
      "source": [
        "for i in range(1,10):\n",
        "  if i % 2 == 1:\n",
        "    print(i)\n",
        "\n",
        "\n",
        "# 역순으로 출력하기\n",
        "for i in range(10,0,-1):\n",
        "  print(i)\n",
        "\n",
        "for i in range(10,0,1):\n",
        "  으로 하면 어떻게 도니는지 생각해보고...\n",
        "\n",
        "\n",
        "\n",
        "# 그럼 이제 코드를 줄일 수 있다. 이전에 반복문을 몰라서 못했던거 이제와서 간결하게 만들 수 있으니 한 번 해보고 `~~\n",
        "\n",
        "# 오늘은 이까지 나감.\n",
        "\n",
        "# range로 데이터 만든느거 시험문제 할 수 있음.\n",
        "# 알아서 데이터 생성하는 거 공부해오셈요"
      ],
      "metadata": {
        "colab": {
          "base_uri": "https://localhost:8080/"
        },
        "id": "yi94q-vM33BY",
        "outputId": "2720d84b-45e9-4619-8bbf-35f5f427d9d9"
      },
      "execution_count": null,
      "outputs": [
        {
          "output_type": "stream",
          "name": "stdout",
          "text": [
            "1\n",
            "3\n",
            "5\n",
            "7\n",
            "9\n",
            "10\n",
            "9\n",
            "8\n",
            "7\n",
            "6\n",
            "5\n",
            "4\n",
            "3\n",
            "2\n",
            "1\n"
          ]
        }
      ]
    },
    {
      "cell_type": "markdown",
      "source": [
        "<br>\n",
        "\n",
        "## 02. range( ) 함수\n",
        "- 정수를 생성해주는 함수\n",
        "> range(5): 0, 1, 2, 3, 4, 5과 같이 5개의 정수를 생성함.\n",
        "\n",
        "> range( start = 0, stop, step = 1 )\n",
        " - start와 step은 생략할 수 있음.\n",
        " - 생략할 경우 start는 0을 step은 1을 기본 값으로 갖는다.\n"
      ],
      "metadata": {
        "id": "RAeUEW20-zjS"
      }
    },
    {
      "cell_type": "code",
      "source": [
        "for i in range(1,6,1):\n",
        "  print(i, end=' ')"
      ],
      "metadata": {
        "id": "1AZIeYxg-3qQ",
        "outputId": "f6f871b4-79e5-4892-b7ea-67c071c00383",
        "colab": {
          "base_uri": "https://localhost:8080/"
        }
      },
      "execution_count": null,
      "outputs": [
        {
          "output_type": "stream",
          "name": "stdout",
          "text": [
            "1 2 3 4 5 "
          ]
        }
      ]
    },
    {
      "cell_type": "code",
      "source": [
        "for i in range(10, 0, -1):\n",
        "  print(i, end=' ')"
      ],
      "metadata": {
        "id": "l_IdDw-1_Xoz",
        "outputId": "99725f9a-9fb1-4f8c-e5a6-9779c36aeec4",
        "colab": {
          "base_uri": "https://localhost:8080/"
        }
      },
      "execution_count": null,
      "outputs": [
        {
          "output_type": "stream",
          "name": "stdout",
          "text": [
            "10 9 8 7 6 5 4 3 2 1 "
          ]
        }
      ]
    }
  ]
}