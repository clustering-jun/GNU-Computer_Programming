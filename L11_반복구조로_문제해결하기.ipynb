{
  "nbformat": 4,
  "nbformat_minor": 0,
  "metadata": {
    "colab": {
      "provenance": [],
      "authorship_tag": "ABX9TyPZgIXVtflrxlebmw43qILo",
      "include_colab_link": true
    },
    "kernelspec": {
      "name": "python3",
      "display_name": "Python 3"
    },
    "language_info": {
      "name": "python"
    }
  },
  "cells": [
    {
      "cell_type": "markdown",
      "metadata": {
        "id": "view-in-github",
        "colab_type": "text"
      },
      "source": [
        "<a href=\"https://colab.research.google.com/github/clustering-jun/GNU-Computer_Programming/blob/main/L11_%EB%B0%98%EB%B3%B5%EA%B5%AC%EC%A1%B0%EB%A1%9C_%EB%AC%B8%EC%A0%9C%ED%95%B4%EA%B2%B0%ED%95%98%EA%B8%B0.ipynb\" target=\"_parent\"><img src=\"https://colab.research.google.com/assets/colab-badge.svg\" alt=\"Open In Colab\"/></a>"
      ]
    },
    {
      "cell_type": "markdown",
      "source": [
        "# L11. 반복 구조로 문제 해결하기\n",
        "\n",
        "## 00. 지난 시간 복습\n",
        "- 1000개의 데이터에 대해 sort을 제대로 하냐를 일일히 못하기에 random 모듈을 사용하여 난수를 뽑을 수 있다.\n",
        "실수 난수를 발생시키는 방법\n",
        "정수 난수를 발생시키는 방법\n",
        "\n",
        "두가지를 배웠음.\n",
        "\n",
        "import random.\n",
        "\n",
        "모듈을 메모리로 가져온다.\n",
        "\n",
        "어떻게 알 수 있냐면?\n",
        "random. 라면 알 수 있음.\n",
        "모듈에 속한 함수를 알 수 있지~\n",
        "\n",
        "난수 객체를 만들어서 사용했었는데\n",
        "r = rnadom.Random()\n",
        "\n",
        "으로 객체를 만들었음.\n",
        "이렇게 안쓰고 모듈이름 써서 난수를 만들어도 되는데\n",
        "객체를 생성해서 쓰는 방법을 우리는 배우고 있다. (터틀도 그렇고)\n",
        "\n",
        "모듈은 객체보다 상위레벨이다. 모듈은 부모라면 객체는 자식이다. 자식이 부모로 부터 상속받아서 쓸 수 있다. 많은 것을 상속받지만 모든 것을 상속받지는 않는다.\n",
        "\n",
        "r.random()\n",
        "r.randint()\n",
        "두가지 배움요\n",
        "\n",
        "\n",
        "s = 'aabbccdd'\n",
        "s. 으로 뭐하는걸 배움. 쓸 수 있음\n",
        "\n",
        "인덱스 배움\n",
        "s[0] 이렇게\n",
        "사이즈는\n",
        "len(s) 문자든 숫자든 랭스라는 함수로 꺼내볼 수 있음 문자열의 개수...꺼내기\n",
        "\n",
        "특정 위치를 지정하고 싶으면 0번부터 8번까지 매기기에\n",
        "s[0] 이런식으로 할 수 있다고 배움.\n",
        "\n",
        "s[0:3]의 의미 0에서 3까지가 아니라 0에서 3번째 앞까지. 즉 0에서 2번까지를 의미한다.\n"
      ],
      "metadata": {
        "id": "VfJVHJxF9LFa"
      }
    },
    {
      "cell_type": "markdown",
      "source": [
        "## 01. for문 - 횟수 제어를 이용한 반복\n",
        "- 횟수 제어 반복: 반복 횟수를 미리 아는 경우에 사용, for 루프\n",
        "- in: 존재 여부를 묻는 연산자\n",
        "- range( ) 함수를 실행하면 결과가 나올건데 range(5)를 하면 0,1,2,3,4 가 나온다. range()함수는 정수를 생성해주는 함수이기에 그럼 for i in 0,1,2,3,4 되고\n",
        "i(변수)에 올 값이 있냐? 있으면 콜론 밑의 코드를 실행한다.\n",
        "- 변수에 올 값이 있으면 반복\n",
        "\n",
        "- 왜 i를 쓰냐? 변수가 역할이 없으면 i j k 를 사용한다가 프로그래밍 유래.... 일반적 통상적으로 많이 사용함.\n",
        "\n",
        "range(5)하면 0,1,2,3,4가 생성되고: range( )는 정수를 생성해준느 함수\n",
        "\n",
        "1. for문 루프 어떻게 돌아가냐\n",
        "2. range()함수는 어떤 역할을 하느냐?\n",
        "\n",
        "0이 i에 들어간다.  i값 0\n",
        "i가 값을 가지면 밑의 문장 수행\n",
        "그러면 i값이 0을때 문장한 번 수행\n",
        "다른 문장이 있으면 밑 문장 실행하는게 아니라\n",
        "다시 for문 실행하여 i에 1이 들어가고 1이있으므로 다시 밑에문장\n",
        "다시 올라가서 이렇게 반복한다. for문은 이런식으로 작동하고 절차적프로그래밍에 따라 코드 실행 순서에 유의해야한다.\n",
        "이렇게 i가 4가 될때까지 실행한 후 for문으로 돌아갔더니 4이후에 값이 없네?\n",
        "in연산자가 그러니 이제 넘어감. 다음코드로"
      ],
      "metadata": {
        "id": "OokWwViJvoFo"
      }
    },
    {
      "cell_type": "code",
      "source": [
        "print('방문을 환영합니다.')\n",
        "print('방문을 환영합니다.')\n",
        "print('방문을 환영합니다.')\n",
        "print('방문을 환영합니다.')\n",
        "print('방문을 환영합니다.')"
      ],
      "metadata": {
        "colab": {
          "base_uri": "https://localhost:8080/"
        },
        "id": "3DieCboGyEPs",
        "outputId": "9551b8ab-f4a9-4174-db05-b919f131d8d3"
      },
      "execution_count": 1,
      "outputs": [
        {
          "output_type": "stream",
          "name": "stdout",
          "text": [
            "방문을 환영합니다.\n",
            "방문을 환영합니다.\n",
            "방문을 환영합니다.\n",
            "방문을 환영합니다.\n",
            "방문을 환영합니다.\n"
          ]
        }
      ]
    },
    {
      "cell_type": "code",
      "source": [
        "for i in range(5):\n",
        "  print('방문을 환영합니다.')"
      ],
      "metadata": {
        "id": "ytCaPdQq-uk3",
        "outputId": "dea258a6-b8bd-4393-eb65-ef3c9a41f70d",
        "colab": {
          "base_uri": "https://localhost:8080/"
        }
      },
      "execution_count": null,
      "outputs": [
        {
          "output_type": "stream",
          "name": "stdout",
          "text": [
            "방문을 환영합니다.\n",
            "방문을 환영합니다.\n",
            "방문을 환영합니다.\n",
            "방문을 환영합니다.\n",
            "방문을 환영합니다.\n"
          ]
        }
      ]
    },
    {
      "cell_type": "code",
      "source": [
        "for i in range(100):\n",
        "  print('123')\n",
        "\n",
        "for i in range(0,11):\n",
        "  print(i)\n",
        "\n",
        "  # 공통점\n",
        "  # i 는 제어변수임. 역할: 반복할지 말지를 i가 결정한다. i가 값이 있어야 실행하기 때문\n",
        "  # 차이점\n",
        "  # 밑의 코드는 제어하면서도 데이터의 역할도 한다.\n",
        "\n",
        "\n",
        "  # 실행하면 줄을 바꾸는 데 왜 바꿈?\n",
        "# 프린트 함수가 그렇게 만들어져 있음요. print( 기폴트 변수가 \\n으로 지정되어 있어서)\n",
        "\n",
        "# 그럼 내가 마음대로 하고 싶다? 빈칸을 넣고 싶다. 할 수 있지\n",
        "\n",
        "for i in range(10):\n",
        "  print(i, end='')\n",
        "\n",
        "  # 이렇게 하면 된드\n",
        "\n",
        "for i in range(1,11):\n",
        "  print(i, end=' ')\n",
        "# 을 실행하면 줄바꿈한번 해주ㅅ고 싶네?\n",
        "\n",
        "# print()랑 print(\\n)랑 어떻게 다를까?????\n",
        "\n",
        "# 1,3,5,7,9 만 출력하고 싶을때의 코드를 작성하시오. (10이하의홀수 출력하기, 단 range()함수만을 사용할 것)\n",
        "\n",
        "# 가장 쉬운 방법\n",
        "for i in range(1,10,2):\n",
        "  print(i, end=' ')\n",
        "\n",
        "#그러면 질문\n",
        "for i in range(1,10):\n",
        "  print(i) #하면 1부터 9까지만...... 그상태에서 홀수를 찍고 싶으면 어떻게함? if문 써서 검사할 수 있겠지 구현해보셈\n",
        "\n",
        "\n",
        "for i in range(1,10):\n",
        "  if i % 2 == 1:\n",
        "    print(i)\n"
      ],
      "metadata": {
        "colab": {
          "base_uri": "https://localhost:8080/"
        },
        "id": "UpXRy7pQ1M5g",
        "outputId": "828416f0-9a02-4d21-b9a4-0a6d87f0ffad"
      },
      "execution_count": 12,
      "outputs": [
        {
          "output_type": "stream",
          "name": "stdout",
          "text": [
            "123\n",
            "123\n",
            "123\n",
            "123\n",
            "123\n",
            "123\n",
            "123\n",
            "123\n",
            "123\n",
            "123\n",
            "123\n",
            "123\n",
            "123\n",
            "123\n",
            "123\n",
            "123\n",
            "123\n",
            "123\n",
            "123\n",
            "123\n",
            "123\n",
            "123\n",
            "123\n",
            "123\n",
            "123\n",
            "123\n",
            "123\n",
            "123\n",
            "123\n",
            "123\n",
            "123\n",
            "123\n",
            "123\n",
            "123\n",
            "123\n",
            "123\n",
            "123\n",
            "123\n",
            "123\n",
            "123\n",
            "123\n",
            "123\n",
            "123\n",
            "123\n",
            "123\n",
            "123\n",
            "123\n",
            "123\n",
            "123\n",
            "123\n",
            "123\n",
            "123\n",
            "123\n",
            "123\n",
            "123\n",
            "123\n",
            "123\n",
            "123\n",
            "123\n",
            "123\n",
            "123\n",
            "123\n",
            "123\n",
            "123\n",
            "123\n",
            "123\n",
            "123\n",
            "123\n",
            "123\n",
            "123\n",
            "123\n",
            "123\n",
            "123\n",
            "123\n",
            "123\n",
            "123\n",
            "123\n",
            "123\n",
            "123\n",
            "123\n",
            "123\n",
            "123\n",
            "123\n",
            "123\n",
            "123\n",
            "123\n",
            "123\n",
            "123\n",
            "123\n",
            "123\n",
            "123\n",
            "123\n",
            "123\n",
            "123\n",
            "123\n",
            "123\n",
            "123\n",
            "123\n",
            "123\n",
            "123\n",
            "0\n",
            "1\n",
            "2\n",
            "3\n",
            "4\n",
            "5\n",
            "6\n",
            "7\n",
            "8\n",
            "9\n",
            "10\n",
            "01234567891 2 3 4 5 6 7 8 9 10 1 3 5 7 9 "
          ]
        }
      ]
    },
    {
      "cell_type": "markdown",
      "source": [
        "# range문법으로 데이터만드는거 시험낼테니까 잘아아오셈\n",
        "\n",
        "# range(1,2,-1)이런거 낼 수 있으니까. 공부하고"
      ],
      "metadata": {
        "id": "ppXb6ox60rNS"
      }
    },
    {
      "cell_type": "code",
      "source": [
        "# python in"
      ],
      "metadata": {
        "colab": {
          "base_uri": "https://localhost:8080/",
          "height": 219
        },
        "id": "nYsf8g7m0_IR",
        "outputId": "abb76ebb-6388-4374-db09-c22c76b587ca"
      },
      "execution_count": 23,
      "outputs": [
        {
          "output_type": "error",
          "ename": "TypeError",
          "evalue": "argument of type 'int' is not iterable",
          "traceback": [
            "\u001b[0;31m---------------------------------------------------------------------------\u001b[0m",
            "\u001b[0;31mTypeError\u001b[0m                                 Traceback (most recent call last)",
            "\u001b[0;32m<ipython-input-23-4f951d030a16>\u001b[0m in \u001b[0;36m<cell line: 0>\u001b[0;34m()\u001b[0m\n\u001b[1;32m      1\u001b[0m \u001b[0ma\u001b[0m \u001b[0;34m=\u001b[0m \u001b[0;34m[\u001b[0m\u001b[0;36m1\u001b[0m\u001b[0;34m,\u001b[0m\u001b[0;36m2\u001b[0m\u001b[0;34m,\u001b[0m\u001b[0;36m3\u001b[0m\u001b[0;34m,\u001b[0m\u001b[0;36m4\u001b[0m\u001b[0;34m]\u001b[0m\u001b[0;34m\u001b[0m\u001b[0;34m\u001b[0m\u001b[0m\n\u001b[1;32m      2\u001b[0m \u001b[0;34m\u001b[0m\u001b[0m\n\u001b[0;32m----> 3\u001b[0;31m \u001b[0;32mif\u001b[0m \u001b[0ma\u001b[0m \u001b[0;32min\u001b[0m \u001b[0;36m3\u001b[0m\u001b[0;34m:\u001b[0m\u001b[0;34m\u001b[0m\u001b[0;34m\u001b[0m\u001b[0m\n\u001b[0m\u001b[1;32m      4\u001b[0m   \u001b[0mprint\u001b[0m\u001b[0;34m(\u001b[0m\u001b[0;36m0\u001b[0m\u001b[0;34m)\u001b[0m\u001b[0;34m\u001b[0m\u001b[0;34m\u001b[0m\u001b[0m\n\u001b[1;32m      5\u001b[0m \u001b[0;32melse\u001b[0m\u001b[0;34m:\u001b[0m\u001b[0;34m\u001b[0m\u001b[0;34m\u001b[0m\u001b[0m\n",
            "\u001b[0;31mTypeError\u001b[0m: argument of type 'int' is not iterable"
          ]
        }
      ]
    },
    {
      "cell_type": "code",
      "source": [
        "for i in range(1,10):\n",
        "  if i % 2 == 1:\n",
        "    print(i)\n",
        "\n",
        "\n",
        "# 역순으로 출력하기\n",
        "for i in range(10,0,-1):\n",
        "  print(i)\n",
        "\n",
        "for i in range(10,0,1):\n",
        "  으로 하면 어떻게 도니는지 생각해보고...\n",
        "\n",
        "\n",
        "\n",
        "# 그럼 이제 코드를 줄일 수 있다. 이전에 반복문을 몰라서 못했던거 이제와서 간결하게 만들 수 있으니 한 번 해보고 `~~\n",
        "\n",
        "# 오늘은 이까지 나감.\n",
        "\n",
        "# range로 데이터 만든느거 시험문제 할 수 있음.\n",
        "# 알아서 데이터 생성하는 거 공부해오셈요"
      ],
      "metadata": {
        "colab": {
          "base_uri": "https://localhost:8080/"
        },
        "id": "yi94q-vM33BY",
        "outputId": "2720d84b-45e9-4619-8bbf-35f5f427d9d9"
      },
      "execution_count": 29,
      "outputs": [
        {
          "output_type": "stream",
          "name": "stdout",
          "text": [
            "1\n",
            "3\n",
            "5\n",
            "7\n",
            "9\n",
            "10\n",
            "9\n",
            "8\n",
            "7\n",
            "6\n",
            "5\n",
            "4\n",
            "3\n",
            "2\n",
            "1\n"
          ]
        }
      ]
    },
    {
      "cell_type": "markdown",
      "source": [
        "<br>\n",
        "\n",
        "## 02. range( ) 함수\n",
        "- 정수를 생성해주는 함수\n",
        "> range(5): 0, 1, 2, 3, 4, 5과 같이 5개의 정수를 생성함.\n",
        "\n",
        "> range( start = 0, stop, step = 1 )\n",
        " - start와 step은 생략할 수 있음.\n",
        " - 생략할 경우 start는 0을 step은 1을 기본 값으로 갖는다.\n"
      ],
      "metadata": {
        "id": "RAeUEW20-zjS"
      }
    },
    {
      "cell_type": "code",
      "source": [
        "for i in range(1,6,1):\n",
        "  print(i, end=' ')"
      ],
      "metadata": {
        "id": "1AZIeYxg-3qQ",
        "outputId": "f6f871b4-79e5-4892-b7ea-67c071c00383",
        "colab": {
          "base_uri": "https://localhost:8080/"
        }
      },
      "execution_count": null,
      "outputs": [
        {
          "output_type": "stream",
          "name": "stdout",
          "text": [
            "1 2 3 4 5 "
          ]
        }
      ]
    },
    {
      "cell_type": "code",
      "source": [
        "for i in range(10, 0, -1):\n",
        "  print(i, end=' ')"
      ],
      "metadata": {
        "id": "l_IdDw-1_Xoz",
        "outputId": "99725f9a-9fb1-4f8c-e5a6-9779c36aeec4",
        "colab": {
          "base_uri": "https://localhost:8080/"
        }
      },
      "execution_count": null,
      "outputs": [
        {
          "output_type": "stream",
          "name": "stdout",
          "text": [
            "10 9 8 7 6 5 4 3 2 1 "
          ]
        }
      ]
    },
    {
      "cell_type": "markdown",
      "source": [
        "### 예제01. 1부터 100까지의 합을 구하는 프로그램\n",
        "- 1에서 100까지의 자연수의 합을 구하여 출력하는 프로그램을 작성하시오.\n",
        "- 반복 구조를 이용하는 방법 밖에 없나요? 더 효율적인 방법을 생각해보세요."
      ],
      "metadata": {
        "id": "J3G4-749_c_F"
      }
    },
    {
      "cell_type": "code",
      "source": [],
      "metadata": {
        "id": "VHCYyuVd_scl"
      },
      "execution_count": null,
      "outputs": []
    },
    {
      "cell_type": "markdown",
      "source": [
        "### 예제02. n값을 입력하면 n!을 계산하는 프로그램\n",
        "- 앞에서 살펴본 1~100까지의 합 구하기 예제와의 유사점과 차이점 인식하기"
      ],
      "metadata": {
        "id": "nlag1NDW_s0J"
      }
    },
    {
      "cell_type": "code",
      "source": [],
      "metadata": {
        "id": "dIEdhNls_-Vo"
      },
      "execution_count": null,
      "outputs": []
    },
    {
      "cell_type": "markdown",
      "source": [
        "### 예제03. 코드 줄여보기"
      ],
      "metadata": {
        "id": "zatmDtlWAAVn"
      }
    },
    {
      "cell_type": "code",
      "source": [
        "import turtle\n",
        "t = turtle.Turtle()\n",
        "\n",
        "for i in range():"
      ],
      "metadata": {
        "id": "5Xkl1KCFADQg"
      },
      "execution_count": null,
      "outputs": []
    },
    {
      "cell_type": "markdown",
      "source": [
        "### 예제04. n각형 그리기\n",
        "- 사용자로부터 정수 n값을 입력 받아서 한 변의 길이가 100인 정n각형을 그리는 프로그램을 작성하시오."
      ],
      "metadata": {
        "id": "YpHs5k35AbPq"
      }
    },
    {
      "cell_type": "code",
      "source": [],
      "metadata": {
        "id": "oY2yLL0YAluE"
      },
      "execution_count": null,
      "outputs": []
    },
    {
      "cell_type": "markdown",
      "source": [
        "### 예제05. 약수구하기\n",
        "- 사용자로부터 어떤 자연수를 입력받아 그 수의 약수를 출력하는 프로그램을 작성하시오."
      ],
      "metadata": {
        "id": "yKfRUvL5AkXz"
      }
    },
    {
      "cell_type": "markdown",
      "source": [
        "<br><br>\n",
        "\n",
        "\n",
        "## 03. while문 - 조건 제어 반복\n",
        "- 어떤 조건이 만족되는 동안 반복하는 구조\n",
        "- 반복 횟수는 모르지만, 반복의 조건은 알고 있는 경우에 주로 사용하는 반복 구문"
      ],
      "metadata": {
        "id": "pukWmFN5AtiH"
      }
    },
    {
      "cell_type": "markdown",
      "source": [
        "### 예제01. 1부터 100까지의 합을 구하는 프로그램\n",
        "- 1에서 100까지의 자연수의 합을 구하여 출력하는 프로그램을 작성하시오."
      ],
      "metadata": {
        "id": "UbFrqRVQA8t7"
      }
    },
    {
      "cell_type": "code",
      "source": [],
      "metadata": {
        "id": "LSyIhP0XA8AV"
      },
      "execution_count": null,
      "outputs": []
    },
    {
      "cell_type": "markdown",
      "source": [
        "### 예제02. 뭐라뭐라\n",
        "- 뭐라뭐라"
      ],
      "metadata": {
        "id": "lrDZmocfBA7d"
      }
    },
    {
      "cell_type": "code",
      "source": [],
      "metadata": {
        "id": "OjIyE3RKBFNW"
      },
      "execution_count": null,
      "outputs": []
    }
  ]
}