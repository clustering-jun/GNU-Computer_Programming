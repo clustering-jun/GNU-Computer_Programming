{
  "nbformat": 4,
  "nbformat_minor": 0,
  "metadata": {
    "colab": {
      "provenance": [],
      "authorship_tag": "ABX9TyMBY/YJ9gcmjcsEhXaPeKuV",
      "include_colab_link": true
    },
    "kernelspec": {
      "name": "python3",
      "display_name": "Python 3"
    },
    "language_info": {
      "name": "python"
    }
  },
  "cells": [
    {
      "cell_type": "markdown",
      "metadata": {
        "id": "view-in-github",
        "colab_type": "text"
      },
      "source": [
        "<a href=\"https://colab.research.google.com/github/clustering-jun/GNU-Computer_Programming/blob/main/L11_%EB%B0%98%EB%B3%B5%EA%B5%AC%EC%A1%B0%EB%A1%9C_%EB%AC%B8%EC%A0%9C%ED%95%B4%EA%B2%B0%ED%95%98%EA%B8%B0.ipynb\" target=\"_parent\"><img src=\"https://colab.research.google.com/assets/colab-badge.svg\" alt=\"Open In Colab\"/></a>"
      ]
    },
    {
      "cell_type": "markdown",
      "source": [
        "# L11. 반복 구조로 문제 해결하기"
      ],
      "metadata": {
        "id": "VfJVHJxF9LFa"
      }
    },
    {
      "cell_type": "code",
      "execution_count": null,
      "metadata": {
        "id": "KF_E-7yV9EYP"
      },
      "outputs": [],
      "source": [
        "import random  # 보조기억장치에 있는 random 모듈을 주기억장치로 불러옴.\n",
        "r = random.Random()\n",
        "\n",
        "# 정수가 필요하면?\n",
        "r.random() # interval [0,1): 0이상 1미만 사이의 값\n",
        "\n",
        "int(r.random()*100)\n",
        "r.randint(1,10) # 닫힌구간 [a,b]: a이상 b이하 사이의 정수값\n",
        "\n",
        "# int 처리\n",
        "print(int(3.2)) # 3"
      ]
    },
    {
      "cell_type": "code",
      "source": [
        "print(int(3.2))\n",
        "print(int(3.9))\n",
        "print(int(10.99999))"
      ],
      "metadata": {
        "colab": {
          "base_uri": "https://localhost:8080/"
        },
        "id": "nLDhKpPEAwqK",
        "outputId": "559ccfee-bc30-452f-c9f3-fc583ec899d1"
      },
      "execution_count": 3,
      "outputs": [
        {
          "output_type": "stream",
          "name": "stdout",
          "text": [
            "3\n",
            "3\n",
            "10\n"
          ]
        }
      ]
    },
    {
      "cell_type": "code",
      "source": [
        "import random\n",
        "r = random.Random()\n",
        "\n",
        "print('주민등록번호의 성별 정보를 생성합니다.')\n",
        "\n",
        "num = r.randint(1,4)\n",
        "print('생성번호:', num)\n",
        "\n",
        "# 첫번째 방법\n",
        "if num == 1 or num == 3:\n",
        "  print('남성입니다.')\n",
        "else:\n",
        "  print('여성입니다.')\n",
        "\n",
        "# 두번째 방법\n",
        "if num % 2 == 1:\n",
        "  print('남성입니다.')\n",
        "else:\n",
        "  print('여성입니다.')"
      ],
      "metadata": {
        "colab": {
          "base_uri": "https://localhost:8080/"
        },
        "id": "Cbz6LKcRCjzo",
        "outputId": "da8ac7ae-2408-41c1-cfed-d38478c7068e"
      },
      "execution_count": 14,
      "outputs": [
        {
          "output_type": "stream",
          "name": "stdout",
          "text": [
            "주민등록번호의 성별 정보를 생성합니다.\n",
            "생성번호: 2\n",
            "여성입니다.\n",
            "여성입니다.\n"
          ]
        }
      ]
    },
    {
      "cell_type": "markdown",
      "source": [
        "변수는 기억장소만의 역할을 하지 않는다.\n",
        "\n",
        "s라는 객체를 만든다.\n",
        "s = 뭐라고 쓰면\n",
        "\n",
        "방이름이라고만 생각하면 안되고 s라는 객체라는 것을 알고 있어야한다.\n",
        "객체 변수 개념\n",
        "\n",
        "값과 기능모두 가지고 있는게 객체이다.\n",
        "\n",
        "우리가 지금까지 생성한 모든것은 객체이다.\n",
        "문자열 객체\n",
        "\n",
        "s.\n",
        "이라고 치면 할 수 있는 기능이 뜬다.\n",
        "이처럼 객체 변수라는 것을 알 고 있어야 한다.\n",
        "\n",
        "s = 'iloveyou'\n",
        "s.count('o') # 이처럼 ~~\n",
        "\n",
        "\n",
        "\n",
        "len()\n",
        "upper()\n",
        "count()\n",
        "배움.\n",
        "\n",
        "len()에서도 문자에 인덱스가 붙는데 번호는 0번부터 시작한다. 0부터 시작함을 기억해야함.\n",
        "\n",
        "print(s[0])으로 할 수 있음.\n",
        "\n",
        "3번째 데이터 구하고 싶으면\n",
        "[2]로 하면 된다. ~\n",
        "\n",
        "문자열 슬라이싱도 배움.\n",
        "[start:end]으로 작성한다.\n",
        "예를들어\n",
        "s = 'i love you'\n",
        "이면\n",
        "print(s[2:6])\n",
        "으로 작성한다.\n",
        "\n",
        "s.find() 내장함수도 배움.\n",
        "\n"
      ],
      "metadata": {
        "id": "ccDkdxsJHD7L"
      }
    },
    {
      "cell_type": "code",
      "source": [
        "s = 'iloveyou'\n",
        "print(s)\n",
        "type(s)"
      ],
      "metadata": {
        "colab": {
          "base_uri": "https://localhost:8080/"
        },
        "id": "BBk8jcwXHDyZ",
        "outputId": "00c0b55c-f5cf-4f96-977b-7ecf67b3e7e5"
      },
      "execution_count": 15,
      "outputs": [
        {
          "output_type": "stream",
          "name": "stdout",
          "text": [
            "iloveyou\n"
          ]
        },
        {
          "output_type": "execute_result",
          "data": {
            "text/plain": [
              "str"
            ]
          },
          "metadata": {},
          "execution_count": 15
        }
      ]
    },
    {
      "cell_type": "code",
      "source": [
        "num = input('14자리 주민등록번호 입력하세요: ')\n",
        "\n",
        "if num[7] == '1' or num[7] == '3':\n",
        "  print('남성')\n",
        "else:\n",
        "  print('여성')"
      ],
      "metadata": {
        "id": "dLJiqFuiNP5a"
      },
      "execution_count": null,
      "outputs": []
    },
    {
      "cell_type": "markdown",
      "source": [
        "num의 타입이 str이고 num[7]도 str이다. 그런데 == 3은 수랑 비교하니 False가 나오고 그럼 False or False 이니 else문으로 이동하여 여성만 출력되는 프로그램이 나온다."
      ],
      "metadata": {
        "id": "S1xf2VLRNeuY"
      }
    },
    {
      "cell_type": "code",
      "source": [
        "num = input('14자리 주민등록번호 입력하세요: ')\n",
        "\n",
        "if num[7] == 1 or num[7] == 3:\n",
        "  print('남성')\n",
        "else:\n",
        "  print('여성')"
      ],
      "metadata": {
        "id": "Jszw-TtdNbTr"
      },
      "execution_count": null,
      "outputs": []
    },
    {
      "cell_type": "markdown",
      "source": [
        "예외처리를 하면 다음과 같다.\n",
        "060407-5....\n",
        "라고 입력할 수 있으니"
      ],
      "metadata": {
        "id": "DtmEOnTRNzxz"
      }
    },
    {
      "cell_type": "code",
      "source": [
        "num = input('14자리 주민등록번호 입력하세요: ')\n",
        "\n",
        "if num[7] == '1' or num[7] == '3':\n",
        "  print('남성')\n",
        "elif num[7] == '2' or num[7] == '4'\n",
        "  print('여성')\n",
        "else:\n",
        "  print('올바른 주민등록번호를 입력해주세요.')\n",
        "\n",
        "\n",
        "  사진 갤러리 참고해서 정리할 것.\n",
        "\n",
        "  1234........\n",
        "  해도\n",
        "  12년 34월 이 나오는데\n",
        "  이때 오류로 나오는 예외처리하기"
      ],
      "metadata": {
        "id": "pB_e5QAnNzbE"
      },
      "execution_count": null,
      "outputs": []
    }
  ]
}