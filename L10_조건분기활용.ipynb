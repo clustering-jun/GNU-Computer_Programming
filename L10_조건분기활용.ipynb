{
  "nbformat": 4,
  "nbformat_minor": 0,
  "metadata": {
    "colab": {
      "provenance": [],
      "authorship_tag": "ABX9TyOmAAj/KPzZsfGHKDlt6s2c",
      "include_colab_link": true
    },
    "kernelspec": {
      "name": "python3",
      "display_name": "Python 3"
    },
    "language_info": {
      "name": "python"
    }
  },
  "cells": [
    {
      "cell_type": "markdown",
      "metadata": {
        "id": "view-in-github",
        "colab_type": "text"
      },
      "source": [
        "<a href=\"https://colab.research.google.com/github/clustering-jun/GNU-Computer_Programming/blob/main/L10_%EC%A1%B0%EA%B1%B4%EB%B6%84%EA%B8%B0%ED%99%9C%EC%9A%A9.ipynb\" target=\"_parent\"><img src=\"https://colab.research.google.com/assets/colab-badge.svg\" alt=\"Open In Colab\"/></a>"
      ]
    },
    {
      "cell_type": "markdown",
      "source": [
        "# L10. 조건 분기 구조의 활용\n",
        "---\n",
        "## 연산자의 실행순서\n",
        " > 산술 연산자 - 관계 연산자 - 논리 연산자\n",
        "* 단 괄호는 항상 1순위이다.\n",
        "\n",
        "\n",
        "- and의 단락 평가 관련 갤러리 사진과 챗지피티 내용 참고할 것."
      ],
      "metadata": {
        "id": "chVzaykrsvkB"
      }
    },
    {
      "cell_type": "markdown",
      "source": [
        "## 시나리오에 맞는 알고리즘 작성하고 코딩하기\n",
        "\n",
        "### (1) 나이에 따른 분류"
      ],
      "metadata": {
        "id": "pPmR31TZv-zQ"
      }
    },
    {
      "cell_type": "code",
      "execution_count": 2,
      "metadata": {
        "colab": {
          "base_uri": "https://localhost:8080/"
        },
        "id": "0JUmLAGTsp6Y",
        "outputId": "d5dc0282-d353-41e9-ea36-99ec0eaa7d28"
      },
      "outputs": [
        {
          "output_type": "stream",
          "name": "stdout",
          "text": [
            "나이 입력: 12\n",
            "학생\n"
          ]
        }
      ],
      "source": [
        "age = int(input('나이 입력: '))\n",
        "\n",
        "if age < 8:\n",
        "  print('미취학 아동')\n",
        "elif age <= 19:\n",
        "  print('학생')\n",
        "else:\n",
        "  print('성인')"
      ]
    },
    {
      "cell_type": "markdown",
      "source": [
        "### 나이와 키에 따른 분류"
      ],
      "metadata": {
        "id": "oQssyqJQwnmJ"
      }
    },
    {
      "cell_type": "code",
      "source": [
        "# 소스코드 01\n",
        "age = int(input('나이 입력: '))\n",
        "h = int(input('키 입력: '))\n",
        "\n",
        "if age >= 8 and h >= 120:\n",
        "  print('탑승 가능')\n",
        "elif age >= 8 and h < 120:\n",
        "  print('키 미달')\n",
        "else:\n",
        "  print('나이 미달')"
      ],
      "metadata": {
        "id": "9P_AbK7ezXJk"
      },
      "execution_count": null,
      "outputs": []
    },
    {
      "cell_type": "markdown",
      "source": [
        "- (소스코드01) 테스트 케이스가 최소 몇가지 필요한가?\n",
        " > 4개"
      ],
      "metadata": {
        "id": "9p30ZNb1zfPE"
      }
    },
    {
      "cell_type": "code",
      "source": [
        "# 소스코드 02\n",
        "if age >= 8:\n",
        "  if h > 120:\n",
        "    print('탑승 가능')\n",
        "  else:\n",
        "    print('키 미달')\n",
        "else:\n",
        "  print('나이 미달')"
      ],
      "metadata": {
        "colab": {
          "base_uri": "https://localhost:8080/"
        },
        "id": "7fx2TB1dwpv0",
        "outputId": "875441f2-8beb-4fca-8c5e-17d368332e9a"
      },
      "execution_count": 3,
      "outputs": [
        {
          "output_type": "stream",
          "name": "stdout",
          "text": [
            "나이 입력: 8\n",
            "키 입력: 119\n",
            "키 미달\n"
          ]
        }
      ]
    },
    {
      "cell_type": "markdown",
      "source": [
        "- (소스코드02) age = 10, h = 100이 입력으로 들어왔다고 할 때의 실행순서를 번호순으로 서술하시오.\n",
        " > (정답)\n",
        "\n",
        " - print('키 미달')이 True여서 출력을 하면 맨 마지막 나이미달의 else문은 실행하지도 않는다는 점을 알아놓기 바란다."
      ],
      "metadata": {
        "id": "cerE7J9HzTAF"
      }
    },
    {
      "cell_type": "code",
      "source": [
        "# 소스코드 03\n",
        "if age < 8:\n",
        "  print('나이 미달')\n",
        "elif h >= 120:\n",
        "  print('탑승 가능')\n",
        "else:\n",
        "  print('키 미달')"
      ],
      "metadata": {
        "id": "9iX8wMau0GYy"
      },
      "execution_count": null,
      "outputs": []
    },
    {
      "cell_type": "markdown",
      "source": [
        "- (소스코드03) 가장 가독성이 높고 실행 효율이 높은 코드\n",
        "\n",
        "age=5 h=120\n",
        "실행순서는?\n",
        "1번코드 실행 -> 참이네?\n",
        "나이미달 출력함\n",
        "그리고 끝.\n",
        "\n",
        "elif else문 실행안함 걍\n",
        "if elif else 코드의 특징은 셋 중 하나만 선택하여 실행한다는 점을 알고 있어야함.\n",
        "\n",
        "age=8 h=100\n",
        "실행순서는?\n",
        "1번코드 실행 -> 거짓\n",
        "3번코드 실행(조건을 보긴 봅니다) -> 또 거짓 (탑승가능 프린트 문 실행 x)\n",
        "else코드 실행, 그 밑에 프린트문 코드 까지 실행\n",
        "\n",
        "실행순서 관련 시험문제로 잘 출제됨."
      ],
      "metadata": {
        "id": "nvS9CNnA0jc8"
      }
    },
    {
      "cell_type": "markdown",
      "source": [
        "## 사용자가 원하는 도형 그리기\n",
        "- import turtle, t = turtle.Turtle()의 객체와 모듈의 차이?\n",
        "\n",
        "- comm = t.textinput('입력창', '도형의 이름: ')\n",
        "- 오류: AttributeError. 'Turtle' object has no attribute 'textinput'\n",
        "\n",
        "- 객체(t;2번코드 참고)는 textinput을 사용할 수 없다는 의미의 오류 메시지임\n",
        "\n",
        "- input이라는 것은 한개만 생성할 수 있음 모든 자식들이 다 입력하는걸 허용 x 부모레벨에서만 허용하겠다는 의미임\n",
        "- 즉 부모 레벨에서만 사용할 수 있다~~\n",
        "\n",
        "\n",
        "- if - elif - elif - elif 구조가 아무리 많이와도 else문을 안와도됨 필수 xXX\n",
        "\n",
        "\n",
        "\n",
        "---\n",
        "\n",
        "- 터틀 그래픽에서 원이 그려지는 모습을 가지고 시험에 출제할 수 있으니 잘 봐놓자.\n",
        "- 코드만 봐놓고도 어떻게 그려지는 지 알아야하고\n",
        "- 100,100을 중심으로 그려라고하면 처음 어디서 시작하고x y좌표는 구할 수 있어야한다는 점을 알아야한다.\n",
        "\n",
        "- 입력받는 100 100은 중심의 좌표?\n"
      ],
      "metadata": {
        "id": "qaeBSQhb1gZC"
      }
    },
    {
      "cell_type": "code",
      "source": [
        "import turtle\n",
        "t = turtle.Turtle()\n",
        "t.shape('turtle')\n",
        "\n",
        "commm = turtle.textinput('입력창','도형의 이름: ')\n",
        "\n",
        "if comm == '직사각형':\n",
        "\n",
        "elif commm == '정삼각형':\n",
        "\n",
        "elif comm == '원':\n",
        "\n",
        "else:\n",
        "  ('입력이 잘못되었습니다.')"
      ],
      "metadata": {
        "id": "bgB9ddpt171W"
      },
      "execution_count": null,
      "outputs": []
    },
    {
      "cell_type": "markdown",
      "source": [
        "## 두 원의 위치 관계 시뮬레이션\n",
        "- 그럼 테스트 케이스는 몇 개가 필요하고\n",
        "- 어떻게 입력해야만 6개의 조건을 모두 만족시킬지 생각해보자\n",
        "\n",
        "- 코드 다 이메일에 있으니까 그거 복붙하셈\n",
        "- 갤러리에 오늘 찍은 거 정리하고\n",
        "\n",
        "그리고 단락 연산자였나 Fasle or True or True and False 섞여있을 때도 생각해보고 ~"
      ],
      "metadata": {
        "id": "dnvAeaPGBlSB"
      }
    }
  ]
}