{
  "nbformat": 4,
  "nbformat_minor": 0,
  "metadata": {
    "colab": {
      "provenance": [],
      "authorship_tag": "ABX9TyMbo1y6J7GigugCUw4OZO68",
      "include_colab_link": true
    },
    "kernelspec": {
      "name": "python3",
      "display_name": "Python 3"
    },
    "language_info": {
      "name": "python"
    }
  },
  "cells": [
    {
      "cell_type": "markdown",
      "metadata": {
        "id": "view-in-github",
        "colab_type": "text"
      },
      "source": [
        "<a href=\"https://colab.research.google.com/github/clustering-jun/GNU-Computer_Programming/blob/main/L10_%EC%A1%B0%EA%B1%B4%EB%B6%84%EA%B8%B0%ED%99%9C%EC%9A%A9.ipynb\" target=\"_parent\"><img src=\"https://colab.research.google.com/assets/colab-badge.svg\" alt=\"Open In Colab\"/></a>"
      ]
    },
    {
      "cell_type": "markdown",
      "source": [
        "# L10. 조건 분기 구조의 활용\n",
        "---\n",
        "\n",
        "<br>\n",
        "\n",
        "## (1) 연산자의 실행순서\n",
        " > 산술 연산자 - 관계 연산자 - 논리 연산자\n",
        "* 단 괄호는 항상 1순위이다.\n",
        "\n",
        "예를 들어 보자.\n",
        "> 2 + 3 > 6 and 7 * 2 < 40\n",
        "\n",
        "1st. 산술 연산자 수행: 5 > 6 and 14 < 40\n",
        "2nd. 관계 연산자 수행: False and True\n",
        "3rd. 논리 연산자 수행: False\n",
        "\n",
        "**2rd**에서 **3rd** 과정으로 갈 때 '**단락 평가(Short-circuit Evaluation)**' 를 수행한다.\n",
        "\n",
        ">` False and` 까지만 코드를 읽는다.\n",
        "\n",
        "먼저 False를 평가하고 and 연산에서 앞이 False이면 전체 결과는 무조건 False니까, 뒤에 있는 True는 아예 평가하지 않고 넘어간다.\n",
        "\n",
        "<br><br>\n",
        "\n",
        "## (2) 단락 평가(Short-circuit Evaluation)\n",
        "- and, or 같은 논리 연산자에서 필요 이상으로 평가하지 않는 최적화 기법\n",
        "- 조건식의 앞부분만 보고 전체 결과가 확정되면, 뒤는 아예 평가하지 않고 건너뛰는 것\n",
        "\n",
        "> False and True : `False and` 까지만 읽고 ; False\n",
        "\n",
        "> True or False : `True or` 까지만 읽고 ; True\n",
        "\n",
        "> **True or False and True : `False and` 까지만 읽고 `False`, `True or` 까지만 읽고 ; True**\n",
        "\n",
        "* 논리 연산자 우선순위: and가 or보다 우선순위 높음.\n",
        "\n",
        "\n",
        "<br><br>\n",
        "\n",
        "## (3) if문의 실행순서\n",
        "- 시험과 관련하여 소스 코드의 실행 순서가 중요하다는 점을 한 번 더 강조하셨습니다. (2025-04-14)\n",
        "- 밑과 같은 소스 코드가 있다고 하자.\n",
        "```\n",
        "1   a = int(input())\n",
        "2   if a > 0:\n",
        "3     print(0)\n",
        "4   elif a > 4:\n",
        "5     print(1)\n",
        "```\n",
        "- a = -12 인 경우: 조건절이 False이므로 2번 코드(조건절만 평가)까지 실행하고 종료한다.\n",
        "- a = 3 인 경우: 조건절(2번)이 True이므로 3번 코드(0출력)까지 실행하고 종료한다.\n",
        "- a = 5 인 경우: 조건절(2번)이 True이므로 3번 코드(0출력)까지 실행하고 종료한다. 4번, 5번 코드는 실행되지 않음에 유의할 것.\n",
        "\n"
      ],
      "metadata": {
        "id": "chVzaykrsvkB"
      }
    },
    {
      "cell_type": "markdown",
      "source": [
        "## 시나리오에 맞는 알고리즘 작성하고 코딩하기\n",
        "\n",
        "### (1) 나이에 따른 분류\n",
        "나이를 입력 받아서 나이가 8세 미만이면 '미취학 아동', 8세 이상부터 19세 이하이면 '학생' 출력, 나머지는 '성인' 이라고 출력하는 프로그램을 작성하시오."
      ],
      "metadata": {
        "id": "pPmR31TZv-zQ"
      }
    },
    {
      "cell_type": "code",
      "execution_count": null,
      "metadata": {
        "colab": {
          "base_uri": "https://localhost:8080/"
        },
        "id": "0JUmLAGTsp6Y",
        "outputId": "d5dc0282-d353-41e9-ea36-99ec0eaa7d28"
      },
      "outputs": [
        {
          "output_type": "stream",
          "name": "stdout",
          "text": [
            "나이 입력: 12\n",
            "학생\n"
          ]
        }
      ],
      "source": [
        "age = int(input('나이 입력: '))\n",
        "\n",
        "if age < 8:\n",
        "  print('미취학 아동')\n",
        "elif age <= 19:\n",
        "  print('학생')\n",
        "else:\n",
        "  print('성인')"
      ]
    },
    {
      "cell_type": "markdown",
      "source": [
        "### (2) 나이와 키에 따른 분류\n",
        "나이와 키를 입력 받아서, 나이가 8세 이상이고 키가 120cm 이상이면 '탑승 가능' 출력, 8세 이상인데 키가 120cm 미만이면 '키 미달' 출력, 키에 상관없이 나이가 8세 미만이면 '나이 미달'이라고 출력하는 프로그램을 작성하시오.\n",
        "\n",
        "#### 소스코드 01"
      ],
      "metadata": {
        "id": "oQssyqJQwnmJ"
      }
    },
    {
      "cell_type": "code",
      "source": [
        "age = int(input('나이 입력: '))\n",
        "h = int(input('키 입력: '))\n",
        "\n",
        "if age >= 8 and h >= 120:\n",
        "  print('탑승 가능')\n",
        "elif age >= 8 and h < 120:\n",
        "  print('키 미달')\n",
        "else:\n",
        "  print('나이 미달')"
      ],
      "metadata": {
        "id": "9P_AbK7ezXJk",
        "outputId": "eadf290e-f52b-4dbd-9dd2-9461fbf79f84",
        "colab": {
          "base_uri": "https://localhost:8080/"
        }
      },
      "execution_count": 10,
      "outputs": [
        {
          "output_type": "stream",
          "name": "stdout",
          "text": [
            "나이 입력: 10\n",
            "키 입력: 100\n",
            "키 미달\n"
          ]
        }
      ]
    },
    {
      "cell_type": "markdown",
      "source": [
        "- (문제01) 테스트 케이스가 최소 몇가지 필요한가?\n",
        "> 4개\n",
        "\n",
        "<br>\n",
        "\n",
        "* **테스트 케이스**\n",
        "\n",
        "> 나이 = 8, 키 = 130\n",
        "* 탑승 가능\n",
        "\n",
        "> 나이 = 8, 키 = 110\n",
        "* 키 미달\n",
        "\n",
        "> 나이 = 5, 키 = 130\n",
        "* 나이 미달\n",
        "\n",
        "> 나이 = 5, 키 = 110\n",
        "* 나이 미달\n",
        "\n",
        "<br>\n",
        "\n",
        "#### 소스코드 02"
      ],
      "metadata": {
        "id": "9p30ZNb1zfPE"
      }
    },
    {
      "cell_type": "code",
      "source": [
        "if age >= 8:\n",
        "  if h > 120:\n",
        "    print('탑승 가능')\n",
        "  else:\n",
        "    print('키 미달')\n",
        "else:\n",
        "  print('나이 미달')"
      ],
      "metadata": {
        "colab": {
          "base_uri": "https://localhost:8080/"
        },
        "id": "7fx2TB1dwpv0",
        "outputId": "ad607f46-539e-49d2-be1a-6fee368d71b7"
      },
      "execution_count": 11,
      "outputs": [
        {
          "output_type": "stream",
          "name": "stdout",
          "text": [
            "키 미달\n"
          ]
        }
      ]
    },
    {
      "cell_type": "markdown",
      "source": [
        "- (문제01) age = 10, h = 100 일 때의 실행 순서를 서술하시오.\n",
        " > 1번 코드 실행 True, 2번 코드 실행 False, 3번 건너뛰고, 4번 코드 실행, 5번 코드 실행. 실행 종료.\n",
        "  - 결과: `키 미달` 출력\n",
        "\n",
        "- `else:`가 **True**이기 때문에 `print('키 미달')`가 출력된 후 `else:`와 `print('나이 미달')` 코드는 읽지도 않고 실행을 종료한다.\n",
        "\n",
        "\n",
        " #### 소스코드 03 - **가장 가독성이 높고 실행 효율이 좋은 코드**"
      ],
      "metadata": {
        "id": "cerE7J9HzTAF"
      }
    },
    {
      "cell_type": "code",
      "source": [
        "if age < 8:\n",
        "  print('나이 미달')\n",
        "elif h >= 120:\n",
        "  print('탑승 가능')\n",
        "else:\n",
        "  print('키 미달')"
      ],
      "metadata": {
        "id": "9iX8wMau0GYy"
      },
      "execution_count": null,
      "outputs": []
    },
    {
      "cell_type": "markdown",
      "source": [
        "- (문제01) age = 5, h = 120 일 때의 실행 순서를 서술하시오.\n",
        "> 1번 코드 실행 True, 2번코드 실행. 종료.\n",
        " * elif와 else문은 실행하지 않음. if elif else 코드의 특징은 셋 중 하나만 선택하여 실행함.\n",
        "\n",
        "\n",
        "\n",
        "- (문제02) age = 8, h = 100 일 때의 실행 순서를 서술하시오.\n",
        "> 1번 코드 실행 False, 3번으로 건너뜀, 3번 코드 실행 False, 5번으로 건너뜀, 5번 코드 실행, 6번 코드 실행\n",
        " - 결과 : `키 미달` 출력"
      ],
      "metadata": {
        "id": "nvS9CNnA0jc8"
      }
    },
    {
      "cell_type": "markdown",
      "source": [
        "## 사용자가 원하는 도형 그리기\n",
        "- import turtle, t = turtle.Turtle()의 객체와 모듈의 차이?\n",
        "\n",
        "- comm = t.textinput('입력창', '도형의 이름: ')\n",
        "- 오류: AttributeError. 'Turtle' object has no attribute 'textinput'\n",
        "\n",
        "- 객체(t;2번코드 참고)는 textinput을 사용할 수 없다는 의미의 오류 메시지임\n",
        "\n",
        "- input이라는 것은 한개만 생성할 수 있음 모든 자식들이 다 입력하는걸 허용 x 부모레벨에서만 허용하겠다는 의미임\n",
        "- 즉 부모 레벨에서만 사용할 수 있다~~\n",
        "\n",
        "\n",
        "- (참고) if - elif -  else 구조: else 문 필수 아님.\n",
        "\n",
        "---\n",
        "\n",
        "- 터틀 그래픽에서 원이 그려지는 모습을 가지고 시험에 출제할 수 있으니 잘 봐놓자.\n",
        "- 코드만 봐놓고도 어떻게 그려지는 지 알아야하고\n",
        "- 100,100을 중심으로 그려라고하면 처음 어디서 시작하고x y좌표는 구할 수 있어야한다는 점을 알아야한다.\n",
        "\n",
        "- 입력받는 100 100은 중심의 좌표?\n"
      ],
      "metadata": {
        "id": "qaeBSQhb1gZC"
      }
    },
    {
      "cell_type": "code",
      "source": [
        "import turtle\n",
        "t = turtle.Turtle()\n",
        "t.shape('turtle')\n",
        "\n",
        "comm = turtle.textinput('입력창', '도형의 이름:')\n",
        "\n",
        "if comm =='직사각형':\n",
        "    w1 = int(turtle.textinput('입력창', '가로:'))\n",
        "    h1 = int(turtle.textinput('입력창', '세로:'))\n",
        "    t.fd(w1)\n",
        "    t.left(90)\n",
        "    t.fd(h1)\n",
        "    t.left(90)\n",
        "    t.fd(w1)\n",
        "    t.left(90)\n",
        "    t.fd(h1)\n",
        "\n",
        "elif comm == '정삼각형':\n",
        "    w2 = int(turtle.textinput('입력창', '길이:'))\n",
        "    t.fd(w2)\n",
        "    t.left(120)\n",
        "    t.fd(w2)\n",
        "    t.left(120)\n",
        "    t.fd(w2)\n",
        "    t.left(120)\n",
        "\n",
        "elif comm == '원':\n",
        "    r = int(turtle.textinput('입력창', '반지름 길이:'))\n",
        "    t.circle(r)\n",
        "\n",
        "else:\n",
        "    t.write('입력창', '잘못입력되었습니다.') # 자식한테도 상속되어 있구나 ~~~ OOP 개념?\n",
        "\n",
        "    # t.write 와 turtle.write의 차이를 서술하시오."
      ],
      "metadata": {
        "id": "bgB9ddpt171W"
      },
      "execution_count": null,
      "outputs": []
    },
    {
      "cell_type": "markdown",
      "source": [
        "## 두 원의 위치 관계 시뮬레이션\n",
        "- (문제01) 모든 조건을 확인할 수 있는 테스트 케이스의 최소 갯 수는 몇 개인가?\n",
        "- (문제02) 어떻게 입력해야만 6개의 조건을 모두 만족시킬지 서술해보시오."
      ],
      "metadata": {
        "id": "dnvAeaPGBlSB"
      }
    },
    {
      "cell_type": "code",
      "source": [
        "import turtle\n",
        "t = turtle.Turtle()\n",
        "t.shape('turtle')\n",
        "\n",
        "x1 = int(turtle.textinput('입력창', '큰 원의 중심좌표 x1'))\n",
        "y1 = int(turtle.textinput('입력창', '큰 원의 중심좌표 y1'))\n",
        "r1 = int(turtle.textinput('입력창', '큰 원의 반지름'))\n",
        "\n",
        "x2 = int(turtle.textinput('입력창', '작은 원의 중심좌표 x2'))\n",
        "y2 = int(turtle.textinput('입력창', '작은 원의 중심좌표 y2'))\n",
        "r2 = int(turtle.textinput('입력창', '작은 원의 반지름'))\n",
        "\n",
        "t.teleport(x1, y2-r1)\n",
        "t.circle(r1)\n",
        "\n",
        "t.teleport(x2, y2-r2)\n",
        "t.circle(r2)\n",
        "\n",
        "dist = ((x1-x2)**2 + (y1-y2)**2)**0.5\n",
        "\n",
        "if dist == 0:\n",
        "    turtle.write('동심원')\n",
        "elif dist == r1 - r2:\n",
        "    turtle.write('내접')\n",
        "elif r1 - r2 < dist < r1 + r2:\n",
        "    turtle.write('두 점에서 만납니다.')\n",
        "\n",
        "\n",
        "# 이후 내용 더 추가"
      ],
      "metadata": {
        "id": "UmO-i0KaYV2Y"
      },
      "execution_count": null,
      "outputs": []
    }
  ]
}