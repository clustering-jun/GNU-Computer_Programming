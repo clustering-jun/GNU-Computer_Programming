{
  "nbformat": 4,
  "nbformat_minor": 0,
  "metadata": {
    "colab": {
      "provenance": [],
      "authorship_tag": "ABX9TyN4K5uOQL0Jv5WV4Vuh+pq5",
      "include_colab_link": true
    },
    "kernelspec": {
      "name": "python3",
      "display_name": "Python 3"
    },
    "language_info": {
      "name": "python"
    }
  },
  "cells": [
    {
      "cell_type": "markdown",
      "metadata": {
        "id": "view-in-github",
        "colab_type": "text"
      },
      "source": [
        "<a href=\"https://colab.research.google.com/github/clustering-jun/GNU-Computer_Programming/blob/main/L10_%EC%A1%B0%EA%B1%B4%EB%B6%84%EA%B8%B0%ED%99%9C%EC%9A%A9.ipynb\" target=\"_parent\"><img src=\"https://colab.research.google.com/assets/colab-badge.svg\" alt=\"Open In Colab\"/></a>"
      ]
    },
    {
      "cell_type": "markdown",
      "source": [
        "# L10. 조건 분기 구조의 활용\n",
        "---\n",
        "\n",
        "<br>\n",
        "\n",
        "## (1) 연산자의 실행순서\n",
        " > 산술 연산자 - 관계 연산자 - 논리 연산자\n",
        "* 단 괄호는 항상 1순위이다.\n",
        "\n",
        "예를 들어 보자.\n",
        "> 2 + 3 > 6 and 7 * 2 < 40\n",
        "\n",
        "- 1st. 산술 연산자 수행: 5 > 6 and 14 < 40\n",
        "- 2nd. 관계 연산자 수행: False and True\n",
        "- 3rd. 논리 연산자 수행: False\n",
        "\n",
        "**2rd**에서 **3rd** 과정으로 갈 때 '**단락 평가(Short-circuit Evaluation)**' 를 수행한다.\n",
        "\n",
        ">` False and` 까지만 코드를 읽는다.\n",
        "\n",
        "먼저 False를 평가하고 and 연산에서 앞이 False이면 전체 결과는 무조건 False니까, 뒤에 있는 True는 아예 평가하지 않고 넘어간다.\n",
        "\n",
        "<br><br>\n",
        "\n",
        "## (2) 단락 평가(Short-circuit Evaluation)\n",
        "- and, or 같은 논리 연산자에서 필요 이상으로 평가하지 않는 최적화 기법\n",
        "- 조건식의 앞부분만 보고 전체 결과가 확정되면, 뒤는 아예 평가하지 않고 건너뛰는 것\n",
        "\n",
        "> False and True : `False and` 까지만 읽고 ; False\n",
        "\n",
        "> True or False : `True or` 까지만 읽고 ; True\n",
        "\n",
        "> **True or False and True : `False and` 까지만 읽고 `False`, `True or` 까지만 읽고 ; True**\n",
        "\n",
        "* 논리 연산자 우선순위: and가 or보다 우선순위 높음.\n",
        "\n",
        "\n",
        "<br><br>\n",
        "\n",
        "## (3) if문의 실행순서\n",
        "- 시험과 관련하여 소스 코드의 실행 순서가 중요하다는 점을 다시 한 번 강조함.\n",
        "- 예를 들어, 밑과 같은 소스 코드가 있다고 하자.\n",
        "```\n",
        "1   a = int(input())\n",
        "2   if a > 0:\n",
        "3     print(0)\n",
        "4   elif a > 4:\n",
        "5     print(1)\n",
        "6   elif a <= 0:\n",
        "7     print(2)\n",
        "```\n",
        "\n",
        "> 코드를 1번, 2번, 3번, 4번, 5번코드로 명명한다.\n",
        "\n",
        "- a = -12 인 경우: 조건절(1번)이 False이므로 조건절(4번)으로 이동한다. 또 False이다. 조건절(6번)으로 이동한다. 조건절(6번)은 True이므로 7번코드를 실행하고 종료한다.\n",
        "- a = 3 인 경우: 조건절(2번)이 True이므로 3번 코드(0출력)까지 실행하고 종료한다. if-elif-else는 다자택일 구조이므로 밑의 코드를 보지 않는다.\n",
        "- a = 5 인 경우: 조건절(2번)이 조건절(2번)이 True이므로 3번 코드(0출력)까지 실행하고 종료한다. 4번, 5번 코드는 실행되지 않음에 유의할 것.\n",
        "\n"
      ],
      "metadata": {
        "id": "chVzaykrsvkB"
      }
    },
    {
      "cell_type": "markdown",
      "source": [
        "## 시나리오에 맞는 알고리즘 작성하고 코딩하기\n",
        "\n",
        "### (1) 나이에 따른 분류\n",
        "나이를 입력 받아서 나이가 8세 미만이면 '미취학 아동', 8세 이상부터 19세 이하이면 '학생' 출력, 나머지는 '성인' 이라고 출력하는 프로그램을 작성하시오."
      ],
      "metadata": {
        "id": "pPmR31TZv-zQ"
      }
    },
    {
      "cell_type": "code",
      "execution_count": null,
      "metadata": {
        "colab": {
          "base_uri": "https://localhost:8080/"
        },
        "id": "0JUmLAGTsp6Y",
        "outputId": "d5dc0282-d353-41e9-ea36-99ec0eaa7d28"
      },
      "outputs": [
        {
          "output_type": "stream",
          "name": "stdout",
          "text": [
            "나이 입력: 12\n",
            "학생\n"
          ]
        }
      ],
      "source": [
        "age = int(input('나이 입력: '))\n",
        "\n",
        "if age < 8:\n",
        "  print('미취학 아동')\n",
        "elif age <= 19:\n",
        "  print('학생')\n",
        "else:\n",
        "  print('성인')"
      ]
    },
    {
      "cell_type": "markdown",
      "source": [
        "### (2) 나이와 키에 따른 분류\n",
        "나이와 키를 입력 받아서, 나이가 8세 이상이고 키가 120cm 이상이면 '탑승 가능' 출력, 8세 이상인데 키가 120cm 미만이면 '키 미달' 출력, 키에 상관없이 나이가 8세 미만이면 '나이 미달'이라고 출력하는 프로그램을 작성하시오.\n",
        "\n",
        "#### 소스코드 01"
      ],
      "metadata": {
        "id": "oQssyqJQwnmJ"
      }
    },
    {
      "cell_type": "code",
      "source": [
        "age = int(input('나이 입력: '))\n",
        "h = int(input('키 입력: '))\n",
        "\n",
        "if age >= 8 and h >= 120:\n",
        "  print('탑승 가능')\n",
        "elif age >= 8 and h < 120:\n",
        "  print('키 미달')\n",
        "else:\n",
        "  print('나이 미달')"
      ],
      "metadata": {
        "id": "9P_AbK7ezXJk",
        "colab": {
          "base_uri": "https://localhost:8080/"
        },
        "outputId": "eadf290e-f52b-4dbd-9dd2-9461fbf79f84"
      },
      "execution_count": null,
      "outputs": [
        {
          "output_type": "stream",
          "name": "stdout",
          "text": [
            "나이 입력: 10\n",
            "키 입력: 100\n",
            "키 미달\n"
          ]
        }
      ]
    },
    {
      "cell_type": "markdown",
      "source": [
        "- (문제01) 테스트 케이스가 최소 몇가지 필요한가?\n",
        "> 4개\n",
        "\n",
        "<br>\n",
        "\n",
        "* **테스트 케이스**\n",
        "\n",
        "> 나이 = 8, 키 = 130\n",
        "* 탑승 가능\n",
        "\n",
        "> 나이 = 8, 키 = 110\n",
        "* 키 미달\n",
        "\n",
        "> 나이 = 5, 키 = 130\n",
        "* 나이 미달\n",
        "\n",
        "> 나이 = 5, 키 = 110\n",
        "* 나이 미달\n",
        "\n",
        "<br>\n",
        "\n",
        "#### 소스코드 02"
      ],
      "metadata": {
        "id": "9p30ZNb1zfPE"
      }
    },
    {
      "cell_type": "code",
      "source": [
        "if age >= 8:\n",
        "  if h > 120:\n",
        "    print('탑승 가능')\n",
        "  else:\n",
        "    print('키 미달')\n",
        "else:\n",
        "  print('나이 미달')"
      ],
      "metadata": {
        "colab": {
          "base_uri": "https://localhost:8080/"
        },
        "id": "7fx2TB1dwpv0",
        "outputId": "ad607f46-539e-49d2-be1a-6fee368d71b7"
      },
      "execution_count": null,
      "outputs": [
        {
          "output_type": "stream",
          "name": "stdout",
          "text": [
            "키 미달\n"
          ]
        }
      ]
    },
    {
      "cell_type": "markdown",
      "source": [
        "- (문제01) age = 10, h = 100 일 때의 실행 순서를 서술하시오.\n",
        " > 1번 코드 실행 True, 2번 코드 실행 False, 3번 건너뛰고, 4번 코드 실행, 5번 코드 실행. 실행 종료.\n",
        "  - 결과: `키 미달` 출력\n",
        "\n",
        "- `else:`가 **True**이기 때문에 `print('키 미달')`가 출력된 후 `else:`와 `print('나이 미달')` 코드는 읽지도 않고 실행을 종료한다.\n",
        "\n",
        "\n",
        " #### 소스코드 03 - **가장 가독성이 높고 실행 효율이 좋은 코드**"
      ],
      "metadata": {
        "id": "cerE7J9HzTAF"
      }
    },
    {
      "cell_type": "code",
      "source": [
        "if age < 8:\n",
        "  print('나이 미달')\n",
        "elif h >= 120:\n",
        "  print('탑승 가능')\n",
        "else:\n",
        "  print('키 미달')"
      ],
      "metadata": {
        "id": "9iX8wMau0GYy"
      },
      "execution_count": null,
      "outputs": []
    },
    {
      "cell_type": "markdown",
      "source": [
        "- (문제01) age = 5, h = 120 일 때의 실행 순서를 서술하시오.\n",
        "> 1번 코드 실행 True, 2번코드 실행. 종료.\n",
        " * elif와 else문은 실행하지 않음. if elif else 코드의 특징은 셋 중 하나만 선택하여 실행함.\n",
        "\n",
        "\n",
        "\n",
        "- (문제02) age = 8, h = 100 일 때의 실행 순서를 서술하시오.\n",
        "> 1번 코드 실행 False, 3번으로 건너뜀, 3번 코드 실행 False, 5번으로 건너뜀, 5번 코드 실행, 6번 코드 실행\n",
        " - 결과 : `키 미달` 출력"
      ],
      "metadata": {
        "id": "nvS9CNnA0jc8"
      }
    },
    {
      "cell_type": "markdown",
      "source": [
        "## 사용자가 원하는 도형 그리기\n",
        "- (참고) if - elif -  else 구조: else 문 필수 아님.\n",
        "- (시험) 터틀 그래픽에서 원이 그려지는 모습을 시험에 출제할 수 있음.\n",
        "  - 즉, 소스코드만 보고도 어떻게 작동할지 메커니즘을 이해하고 있어야함."
      ],
      "metadata": {
        "id": "qaeBSQhb1gZC"
      }
    },
    {
      "cell_type": "code",
      "source": [
        "import turtle\n",
        "t = turtle.Turtle() # 부모 객체 자식 객체 모듈의 차이 등등\n",
        "t.shape('turtle')\n",
        "\n",
        "comm = turtle.textinput('입력창', '도형의 이름:')\n",
        "\n",
        "if comm =='직사각형':\n",
        "  w1 = int(turtle.textinput('입력창', '가로:')) # str로 들어오기 때문에 int로 바꿔줘야한다는 점\n",
        "  h1 = int(turtle.textinput('입력창', '세로:'))\n",
        "  t.fd(w1)\n",
        "  t.left(90)\n",
        "  t.fd(h1)\n",
        "  t.left(90)\n",
        "  t.fd(w1)\n",
        "  t.left(90)\n",
        "  t.fd(h1)\n",
        "\n",
        "elif comm == '정삼각형':\n",
        "  w2 = int(turtle.textinput('입력창', '길이:'))\n",
        "  t.fd(w2)\n",
        "  t.left(120)\n",
        "  t.fd(w2)\n",
        "  t.left(120)\n",
        "  t.fd(w2)\n",
        "  t.left(120)\n",
        "\n",
        "elif comm == '원':\n",
        "  r = int(turtle.textinput('입력창', '반지름 길이:'))\n",
        "  t.circle(r)\n",
        "\n",
        "else:\n",
        "  t.write('입력창', '잘못입력되었습니다.')"
      ],
      "metadata": {
        "id": "bgB9ddpt171W"
      },
      "execution_count": null,
      "outputs": []
    },
    {
      "cell_type": "markdown",
      "source": [
        "## 두 원의 위치 관계 시뮬레이션\n",
        "- (문제01) 모든 조건을 확인할 수 있는 테스트 케이스의 최소 갯 수는 몇 개인가?\n",
        "- (문제02) 어떻게 입력해야만 6개의 조건을 모두 만족시킬지 서술해보시오.\n",
        "\n",
        "<br>\n",
        "\n",
        "### 집중해야할 몇 가지 부분...\n",
        "#### (1) turtle.textinput('입력창', '큰 원의 중심좌표 x1')\n",
        "- 't.textinput( )' -> 오류 발생\n",
        " > *AttributeError: 'Turtle' object has no attribute 'textinput'*\n",
        "\n",
        "- Turtle 클래스의 상속 구조에는 textinput()이 포함되어 있지 않아서, 인스턴스인 t에서는 사용할 수 없는 것임.\n",
        "- 따라서, 반드시 turtle.textinput(창이름, 메시지) 형식으로 입력할 것.\n",
        "- 또한 turtle.textinput( )으로 받은 값은 항상 문자열(str)로 받기에 산술 연산을 하고 싶다면 형 변환(int, float)이 필요함.\n",
        "\n",
        "<br>\n",
        "\n",
        "#### (2) t.teleport(x1, y2-r1)\n",
        "- turtle이 원을 그리는 방법에 대해 잘 알고 있어야함. (시험)\n",
        "- turtle.circle(radius)를 호출하면, 현재 거북이 위치를 기준으로 자신의 왼쪽 방향에서 시작해 반시계 방향으로 원을 그림.\n",
        "- 거북이의 위치는 원의 중심이 아니라, 원의 원주 위의 한 점임.\n",
        "\n",
        "> ✅ **예시: (0, 0) 위치에서 radius = 100인 원을 그리는 경우**\n",
        "  -  이때 그려지는 원의 중심 좌표는 (0, 100).\n",
        "  - 즉, 거북이는 원의 아래쪽 원주 위에서 시작해 반시계 방향으로 그림.\n",
        "\n",
        "> ✅ **원하는 중심 좌표 (x, y)에 원을 정확히 그리기 위한 방법**\n",
        "  - (1) 거북이 위치 이동: 중심 좌표에서 반지름만큼 아래로 이동한 위치로 이동해야 함.\n",
        "    - 즉, 이동 좌표 = (x, y - 반지름)\n",
        "  - 이 위치에서 원을 그리면, 중심이 정확히 (x, y)인 원이 그려짐.\n",
        "\n",
        "<br>\n",
        "\n",
        "#### (3) `dist = ((x1-x2)**2 + (y1-y2)**2)**0.5`\n",
        "- 두 점 (x1, y1)과 (x2, y2) 사이의 거리는 다음과 같은 수식으로 구할 수 있다.\n",
        "  > `dist = ((x1-x2)**2 + (y1-y2)**2)**0.5`\n",
        "\n",
        "- 루트 계산: sqrt() 함수를 사용하지 않고, 거듭제곱 연산자 `**`를 이용해 제곱근을 표현함.\n",
        "- `**0.5`는 제곱근을 의미함.\n",
        "\n",
        "<br>\n",
        "\n",
        "- **주의할 점: 연산자 우선순위**\n",
        "> `dist = ((x1 - x2)**2 + (y1 - y2)**2)**1/2`\n",
        "\n",
        "  > `dist = (((x1 - x2)**2 + (y1 - y2)**2) / 2)`\n",
        "\n",
        "- 밑처럼 작성하면 `**1`이 먼저 계산된 후 `/2`가 수행되어, 전체 수식은 다음과 같이 잘못 해석됨.\n",
        "- 이 경우 원하는 결과(두 점 사이의 거리)와는 다른 값이 됨.\n",
        "\n",
        "<br>\n",
        "\n",
        "- **올바른 표현 방법**\n",
        "> `**0.5` 또는 `(1/2)`\n",
        "\n",
        "- 와 같이 괄호를 사용하여 연산자 우선순위를 명확히 해야 정확한 계산이 됨."
      ],
      "metadata": {
        "id": "dnvAeaPGBlSB"
      }
    },
    {
      "cell_type": "code",
      "source": [
        "\n",
        "import turtle\n",
        "t = turtle.Turtle()\n",
        "t.shape('turtle')\n",
        "\n",
        "x1 = int(turtle.textinput('입력창', '큰 원의 중심좌표 x1'))\n",
        "y1 = int(turtle.textinput('입력창', '큰 원의 중심좌표 y1'))\n",
        "r1 = int(turtle.textinput('입력창', '큰 원의 반지름'))\n",
        "\n",
        "x2 = int(turtle.textinput('입력창', '작은 원의 중심좌표 x2'))\n",
        "y2 = int(turtle.textinput('입력창', '작은 원의 중심좌표 y2'))\n",
        "r2 = int(turtle.textinput('입력창', '작은 원의 반지름'))\n",
        "\n",
        "\n",
        "t.teleport(x1, y1-r1)\n",
        "t.circle(r1)\n",
        "\n",
        "t.teleport(x2, y2-r2)\n",
        "t.circle(r2)\n",
        "\n",
        "\n",
        "dist = ((x1-x2)**2 + (y1-y2)**2)**0.5\n",
        "\n",
        "\n",
        "if dist == 0:\n",
        "  turtle.write('동심원')\n",
        "elif dist == r1 - r2:\n",
        "  turtle.write('내접')\n",
        "elif r1 - r2 < dist < r1 + r2:\n",
        "  turtle.write('두 점에서 만납니다.')\n",
        "elif dist < r1 + r2:\n",
        "  turtle.write('만나지 않고 외부에 있습니다.')\n",
        "elif dist > r1 + r2:\n",
        "  turtle.write('외접')\n",
        "elif dist > r1 - r2:\n",
        "    turtle.write('만나지 않고 내부에 있습니다.')"
      ],
      "metadata": {
        "id": "Z3pZW5iIllp_"
      },
      "execution_count": null,
      "outputs": []
    },
    {
      "cell_type": "markdown",
      "source": [
        "## (참고) 객체 지향 프로그래밍 (Object-Oriented Programming)\n",
        "\n",
        "### 01. 모듈\n",
        "- 모듈은 파이썬 코드가 담긴 파일입니다. 함수, 클래스, 변수 등이 정의되어 있고, 다른 파일에서 import를 통해 불러올 수 있음.\n",
        "  > `import turtle`\n",
        "- 이 코드는 turtle.py라는 파이썬 표준 라이브러리 모듈을 가져오는 거예요. 이 모듈 안에는 Turtle이라는 클래스가 정의됨.\n",
        "\n",
        "### 02. 객체\n",
        "- 정의: 객체는 클래스의 인스턴스임. 클래스를 호출해서 만들어낸 \"실제 사용하는 것\"임.\n",
        "- 인스턴스(instance): 같은 클래스에 속하는 개개의 객체로, 하나의 클래스에서 생성된 객체를 말한다. 즉 클래스가 구체화되어, 클래스에서 정의된 속성과 성질을 가진 실제적인 객체로 표현된 것을 의미함.\n",
        " > t = turtle.Turtle()\n",
        "- 여기서 turtle.Turtle()은 Turtle 클래스의 생성자를 호출해서 객체를 생성하는 거고, t는 그 객체를 가리키는 변수임.\n",
        "\n",
        "\n",
        "### 02-1. 부모 객체와 자식 객체\n",
        "- 클래스(Class): 설계도 (예: 자동차 설계도)\n",
        "- 객체(Object): 클래스에서 만들어진 실제 인스턴스 (예: 내 차, 친구 차)\n",
        "\n",
        "- 📌 부모 클래스 (Parent Class)\n",
        "  - 다른 클래스에게 **속성과 기능(메서드)**을 물려주는 클래스.\n",
        "  - 보통 기본적인 공통 기능을 정의함.\n",
        "\n",
        "- 📌 자식 클래스 (Child Class)\n",
        "  - 부모 클래스를 상속받아 만들며,\n",
        "  - 부모 클래스의 기능을 그대로 사용하거나, 변경하거나, 새로 추가할 수 있음.\n",
        "\n",
        "- '부모, 자식 클래스'로 만든 객체를 '부모, 자식 객체'\n",
        "\n",
        "### 02-2. 상속(Inheritance)\n",
        "- 상속은 기존 클래스(부모 클래스)의 속성과 메서드를 새로운 클래스(자식 클래스)가 물려받는 것임.\n",
        "- 이를 통해 코드의 재사용성을 높이고, 유지보수를 쉽게 할 수 있음.\n",
        "\n",
        "<br>\n",
        "<br>\n",
        "\n",
        "## 03. 소스 코드 예시\n",
        "\n",
        "\n",
        "```\n",
        "import turtle\n",
        "t = turtle.Turtle()\n",
        "t.shape('turtle')\n",
        "\n",
        "x1 = int(turtle.textinput('입력창', '큰 원의 중심좌표 x1'))\n",
        "...요약...\n",
        "r2 = int(turtle.textinput('입력창', '작은 원의 반지름'))\n",
        "\n",
        "\n",
        "t.teleport(x1, y1-r1)\n",
        "t.circle(r1)\n",
        "\n",
        "t.teleport(x2, y2-r2)\n",
        "t.circle(r2)\n",
        "\n",
        "if dist == 0:\n",
        "  turtle.write('동심원')\n",
        "```\n",
        "\n",
        "<br>\n",
        "\n",
        "### **03-1. turtle.write('동심원') 과 t.write('동심원') 의 차이**\n",
        "\n",
        "##### **- turtle.write('동심원')**\n",
        "> **(0, 0) 기준**\n",
        "\n",
        "- 부모 객체를 사용하여 평면좌표(0,0)에서 '동심원'을 출력한다.\n",
        "- 다시 말하면, **거북이(t 객체)**와 무관하게 고정된 위치에 글자를 출력해요.\n",
        "\n",
        "##### **- t.write('동심원')**\n",
        "> **거북이가 있는 위치 기준**\n",
        "\n",
        "- 자식 객체를 사용하여 마지막 이동한 자리인 `t.teleport(x2, y2-r2)`에서 '동심원'을 출력한다.\n",
        "- 즉, 거북이가 마지막으로 이동한 위치 기준으로 글씨가 나온다.\n",
        "\n"
      ],
      "metadata": {
        "id": "9xkPbWERREc-"
      }
    },
    {
      "cell_type": "markdown",
      "source": [
        "<br>\n",
        "<br>\n",
        "\n",
        "# 04월 17일 수업\n",
        "\n",
        "## 1. 랜덤 모듈"
      ],
      "metadata": {
        "id": "MjNYCDpJn3R5"
      }
    },
    {
      "cell_type": "code",
      "source": [
        "import random  # 보조기억장치에 있는 random 모듈을 주기억장치로 불러옴.\n",
        "r = random.Random()\n",
        "\n",
        "# 정수가 필요하면?\n",
        "r.random() # interval [0,1): 0이상 1미만 사이의 값\n",
        "\n",
        "int(r.random()*100)\n",
        "r.randint(1,10) # 닫힌구간 [a,b]: a이상 b이하 사이의 정수값\n",
        "\n",
        "# int 처리\n",
        "print(int(3.2)) # 3"
      ],
      "metadata": {
        "id": "drMHlln0n6HE"
      },
      "execution_count": null,
      "outputs": []
    },
    {
      "cell_type": "markdown",
      "source": [
        "## 2. 주민등록번호에서 성별 판단하기"
      ],
      "metadata": {
        "id": "mdfBgcOYn_AM"
      }
    },
    {
      "cell_type": "code",
      "source": [
        "import random\n",
        "r = random.Random()\n",
        "\n",
        "print('주민등록번호의 성별 정보를 생성합니다.')\n",
        "\n",
        "num = r.randint(1,4)\n",
        "print('생성번호:', num)\n",
        "\n",
        "\n",
        "\n",
        "# 첫번째 방법\n",
        "if num == 1 or num == 3:\n",
        "  print('남성입니다.')\n",
        "else:\n",
        "  print('여성입니다.')\n",
        "\n",
        "# 두번째 방법\n",
        "if num % 2 == 1:\n",
        "  print('남성입니다.')\n",
        "else:\n",
        "  print('여성입니다.')\n"
      ],
      "metadata": {
        "id": "-6xc_jUWoA9f"
      },
      "execution_count": null,
      "outputs": []
    },
    {
      "cell_type": "markdown",
      "source": [
        "## 3. 객체 변수\n",
        "- 어떤 클래스로부터 생성된 객체가 가지고 있는 변수\n",
        "- 각 객체 고유의 정보를 담고 있는 변수\n",
        "\n",
        "> 문자열 객체\n",
        "\n",
        "> `s = 'iloveyou'`\n",
        "\n",
        "- 우리가 보통 말하는 '변수'의 의미는 기억 저장소라는 의미이다. 방이름으로 생각하지만, 객체 변수라는 개념인 것을 알아야한다.\n",
        "- s라는 객체를 만든다. 객체는 값을 저장하는 역할뿐만 아니라 기능 또한 가지고 있다.\n",
        "- `s.` 이라고 치면 여러 기능이 나온다. 이처럼 객체 변수라는 것을 알 고 있어야 한다.\n",
        "\n",
        "<br>\n",
        "\n",
        "- 여러 가지 기본 내장 함수\n",
        " - 문자열.count(찾을문자): 문자열 안에 특정 문자가 몇 번 나오는지 세어줌\n",
        " - 문자열.upper( ): 문자열을 전부 대문자로 바꿈\n",
        " - find( ): 문자열 안에서 특정 문자가 **처음 등장하는 위치(인덱스)**를 알려줌\n",
        " - len(문자열): 문자열의 길이를 구함.\n",
        "   - len()에서도 문자에 인덱스가 붙는데 번호는 0번부터 시작함.\n",
        "\n",
        "<br><br>\n",
        "\n",
        "## 4. 문자열 인덱싱 및 슬라이싱\n",
        "문자열의 각 문자는 인덱스 번호를 가지고 있어요.\n",
        "인덱스를 이용해서 특정 위치의 문자에 접근할 수 있어요.\n",
        "인덱스는 0부터 시작합니다.\n",
        "\n",
        "\n",
        "```\n",
        "text = \"Hello\"\n",
        "print(text[0])  # 'H'\n",
        "print(text[1])  # 'e'\n",
        "```\n",
        "\n",
        "문자열에서 일정 부분을 잘라내고 싶을 때 사용해요.\n",
        "\n",
        "```\n",
        "text = \"Hello, World!\"\n",
        "print(text[0:5])    # 'Hello' (0번부터 4번까지)\n",
        "```\n",
        "\n",
        "<br>\n",
        "\n",
        "## 5. 주민등록번호를 입력받아 성별을 판단하는 프로그램"
      ],
      "metadata": {
        "id": "gQm53Qo_oKY2"
      }
    },
    {
      "cell_type": "code",
      "source": [
        "num = input('주민등록번호 입력: ')\n",
        "\n",
        "if len(num) != 14:\n",
        "  print('자릿수 맞지 않음.')\n",
        "elif num[7] == '1' or num[7] == '3':\n",
        "  print('남성')\n",
        "elif num[7] == '2' or num[7] == '4':\n",
        "  print('여성')\n",
        "else:\n",
        "  print('올바른 주민번호를 입력하라.')\n",
        "\n",
        "\n",
        "# 생년월일 출력하기\n",
        "if num[7] == '1' or num[7] == '2':\n",
        "  print('19%s년 %s월 %s일' %(num[0:2], num[2:4], num[4:6]))\n",
        "elif num[7] == '3' or num[7] == '4':\n",
        "  print('20%s년 %s월 %s일' %(num[0:2], num[2:4], num[4:6]))"
      ],
      "metadata": {
        "id": "oxX9gFwm8Jev",
        "outputId": "4cdd16d7-982b-4944-b590-3333b74b54eb",
        "colab": {
          "base_uri": "https://localhost:8080/"
        }
      },
      "execution_count": 23,
      "outputs": [
        {
          "output_type": "stream",
          "name": "stdout",
          "text": [
            "주민등록번호 입력: 060407-3000000\n",
            "남성\n",
            "2006년 04월 07일\n"
          ]
        }
      ]
    }
  ]
}