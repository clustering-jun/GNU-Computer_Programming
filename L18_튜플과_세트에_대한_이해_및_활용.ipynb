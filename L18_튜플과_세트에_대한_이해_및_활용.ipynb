{
  "nbformat": 4,
  "nbformat_minor": 0,
  "metadata": {
    "colab": {
      "provenance": [],
      "authorship_tag": "ABX9TyO7kEypKbUt2XcdaXRHNGM1",
      "include_colab_link": true
    },
    "kernelspec": {
      "name": "python3",
      "display_name": "Python 3"
    },
    "language_info": {
      "name": "python"
    }
  },
  "cells": [
    {
      "cell_type": "markdown",
      "metadata": {
        "id": "view-in-github",
        "colab_type": "text"
      },
      "source": [
        "<a href=\"https://colab.research.google.com/github/clustering-jun/GNU-Computer_Programming/blob/main/L18_%ED%8A%9C%ED%94%8C%EA%B3%BC_%EC%84%B8%ED%8A%B8%EC%97%90_%EB%8C%80%ED%95%9C_%EC%9D%B4%ED%95%B4_%EB%B0%8F_%ED%99%9C%EC%9A%A9.ipynb\" target=\"_parent\"><img src=\"https://colab.research.google.com/assets/colab-badge.svg\" alt=\"Open In Colab\"/></a>"
      ]
    },
    {
      "cell_type": "markdown",
      "source": [
        "# L18. 튜플과 세트에 대한 이해 및 활용\n",
        "\n",
        "## **Tuple**\n",
        "\n",
        "- 변경할 수 없는 열거 데이터의 모음\n",
        "- 값을 변경할 수 있는 리스트와 달리, 한 번 값이 정해지면 항목의 값을 변경할 수 없음.\n",
        "\n",
        "<br>\n",
        "\n",
        "### **튜플과 리스트 구분해서 사용하기 1**\n",
        "- 리스트는 일반적으로 '동일한 종류의 자료들'로 이루어진 항목들을 저장하고 관리함.\n",
        "- 리스트 내의 자료는 인덱스를 이용하여 접근할 수 있음.\n",
        "\n",
        "<br>\n",
        "\n",
        "- 튜플은 일반적으로 서로 다른 종류의 자료들로 이루어진 항목들을 저장하고 관리함.\n",
        "- 튜플 속의 자료는 인덱스를 이용해서 접근할 수 있음.\n",
        "\n",
        "<br>\n",
        "\n",
        "- 튜플 속의 자료들을 풀어서 변수에 할당하여 사용할 수 있음. **(Unpacking)**"
      ],
      "metadata": {
        "id": "zTu-VrtaMnBA"
      }
    },
    {
      "cell_type": "code",
      "execution_count": 1,
      "metadata": {
        "id": "4rsZjXD8McXC"
      },
      "outputs": [],
      "source": [
        "tu = ('jslee', 20, '진주시', '여')"
      ]
    },
    {
      "cell_type": "code",
      "source": [
        "print(type(tu))\n",
        "print(len(tu))"
      ],
      "metadata": {
        "colab": {
          "base_uri": "https://localhost:8080/"
        },
        "id": "mT-RROj3OqC-",
        "outputId": "d8d27e23-7fcc-405f-a8d5-f10d0177510d"
      },
      "execution_count": 2,
      "outputs": [
        {
          "output_type": "stream",
          "name": "stdout",
          "text": [
            "<class 'tuple'>\n",
            "4\n"
          ]
        }
      ]
    },
    {
      "cell_type": "code",
      "source": [
        "tu[0] = 'park'"
      ],
      "metadata": {
        "colab": {
          "base_uri": "https://localhost:8080/",
          "height": 141
        },
        "id": "SXeMQ5NoPZEV",
        "outputId": "a50c2842-1bd1-42de-a795-c31ab4030c41"
      },
      "execution_count": 3,
      "outputs": [
        {
          "output_type": "error",
          "ename": "TypeError",
          "evalue": "'tuple' object does not support item assignment",
          "traceback": [
            "\u001b[0;31m---------------------------------------------------------------------------\u001b[0m",
            "\u001b[0;31mTypeError\u001b[0m                                 Traceback (most recent call last)",
            "\u001b[0;32m<ipython-input-3-d4e3677628d0>\u001b[0m in \u001b[0;36m<cell line: 0>\u001b[0;34m()\u001b[0m\n\u001b[0;32m----> 1\u001b[0;31m \u001b[0mtu\u001b[0m\u001b[0;34m[\u001b[0m\u001b[0;36m0\u001b[0m\u001b[0;34m]\u001b[0m \u001b[0;34m=\u001b[0m \u001b[0;34m'park'\u001b[0m\u001b[0;34m\u001b[0m\u001b[0;34m\u001b[0m\u001b[0m\n\u001b[0m",
            "\u001b[0;31mTypeError\u001b[0m: 'tuple' object does not support item assignment"
          ]
        }
      ]
    },
    {
      "cell_type": "code",
      "source": [
        "ll = list(tu)\n",
        "type(ll)"
      ],
      "metadata": {
        "colab": {
          "base_uri": "https://localhost:8080/"
        },
        "id": "mXM7CHVFPc_F",
        "outputId": "54b39b56-d51c-444d-88a3-cf33c0b64c5a"
      },
      "execution_count": 5,
      "outputs": [
        {
          "output_type": "execute_result",
          "data": {
            "text/plain": [
              "list"
            ]
          },
          "metadata": {},
          "execution_count": 5
        }
      ]
    },
    {
      "cell_type": "markdown",
      "source": [
        "### **튜플과 리스트 구분해서 사용하기 2**\n",
        "- 튜플은 리스트와 같은 방식으로 각각의 항목을 쉼표 기호(,)로 구분함.\n",
        "- 대괄호 기호 [ ] 가 아닌 **소괄호 기호 ( )**로 감싸거나, **아예 감싸지 않는 방법으로 선언**함.\n",
        "- 어떤 방법으로 생성하더라도 튜플 선언 결과는 소괄호 기호로 감싸여 있음.\n",
        "\n",
        "\n",
        "<br>\n",
        "<br>\n",
        "\n",
        "## **Set**\n",
        "- 데이터의 **중복을 허용하지 않고 순서가 없는 데이터들**을 관리하기 위한 데이터 구조"
      ],
      "metadata": {
        "id": "zA-YOMQLSnc6"
      }
    },
    {
      "cell_type": "code",
      "source": [
        "s = {10, 30, 10, 10, 20}\n",
        "s"
      ],
      "metadata": {
        "colab": {
          "base_uri": "https://localhost:8080/"
        },
        "id": "rhH_s9mZSzMJ",
        "outputId": "f67eb41f-d5cd-4e4c-b598-e2adb5308454"
      },
      "execution_count": 10,
      "outputs": [
        {
          "output_type": "execute_result",
          "data": {
            "text/plain": [
              "{10, 20, 30}"
            ]
          },
          "metadata": {},
          "execution_count": 10
        }
      ]
    },
    {
      "cell_type": "code",
      "source": [
        "s.add(15)\n",
        "s"
      ],
      "metadata": {
        "colab": {
          "base_uri": "https://localhost:8080/"
        },
        "id": "l7RRZ5s6UJmP",
        "outputId": "b22e0a8e-a978-4f6a-c392-afa207db1585"
      },
      "execution_count": 13,
      "outputs": [
        {
          "output_type": "execute_result",
          "data": {
            "text/plain": [
              "{10, 15, 20, 30, 50}"
            ]
          },
          "metadata": {},
          "execution_count": 13
        }
      ]
    },
    {
      "cell_type": "code",
      "source": [
        "s = set()\n",
        "# 세트 빈 자료구조 만드는 방법 (이전 배운 자료 구조와 차이)\n",
        "# 세트는 순서가 없다는 점이 차이점"
      ],
      "metadata": {
        "id": "iEwFkkPjUsO_"
      },
      "execution_count": null,
      "outputs": []
    }
  ]
}