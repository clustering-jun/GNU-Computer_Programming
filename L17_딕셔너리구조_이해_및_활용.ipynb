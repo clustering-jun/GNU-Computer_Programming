{
  "nbformat": 4,
  "nbformat_minor": 0,
  "metadata": {
    "colab": {
      "provenance": [],
      "authorship_tag": "ABX9TyOsboj/DGGgJc+NMYcL/V55",
      "include_colab_link": true
    },
    "kernelspec": {
      "name": "python3",
      "display_name": "Python 3"
    },
    "language_info": {
      "name": "python"
    }
  },
  "cells": [
    {
      "cell_type": "markdown",
      "metadata": {
        "id": "view-in-github",
        "colab_type": "text"
      },
      "source": [
        "<a href=\"https://colab.research.google.com/github/clustering-jun/GNU-Computer_Programming/blob/main/L17_%EB%94%95%EC%85%94%EB%84%88%EB%A6%AC%EA%B5%AC%EC%A1%B0_%EC%9D%B4%ED%95%B4_%EB%B0%8F_%ED%99%9C%EC%9A%A9.ipynb\" target=\"_parent\"><img src=\"https://colab.research.google.com/assets/colab-badge.svg\" alt=\"Open In Colab\"/></a>"
      ]
    },
    {
      "cell_type": "markdown",
      "source": [
        "# L17. 딕셔너리 구조 이해 및 활용\n",
        "\n",
        "- **딕셔너리(dictionary)**: 전체 항목(item)들, 즉 데이터들은 정렬되지 않은 키(key)와 값(value)의 쌍으로 데이터를 저장하는 자료구조"
      ],
      "metadata": {
        "id": "BxmFVfXnCpW5"
      }
    },
    {
      "cell_type": "code",
      "execution_count": null,
      "metadata": {
        "id": "hkdzw5EYCeKT",
        "outputId": "7b1b0092-f58a-4c31-d13c-7accd649919c",
        "colab": {
          "base_uri": "https://localhost:8080/"
        }
      },
      "outputs": [
        {
          "output_type": "stream",
          "name": "stdout",
          "text": [
            "<class 'dict'>\n",
            "4\n"
          ]
        }
      ],
      "source": [
        "dd = {'C':5, 'Java':2, 'C++':2, 'Python':10}\n",
        "\n",
        "print(type(dd))\n",
        "print(len(dd))"
      ]
    },
    {
      "cell_type": "code",
      "source": [
        "print('C 능력자:', dd['C'])\n",
        "print('Java 능력자:', dd['Java'])"
      ],
      "metadata": {
        "id": "33t5SL1a7Q2J",
        "outputId": "6c306a3f-3d96-4e8d-c743-819f26533018",
        "colab": {
          "base_uri": "https://localhost:8080/"
        }
      },
      "execution_count": null,
      "outputs": [
        {
          "output_type": "stream",
          "name": "stdout",
          "text": [
            "C 능력자: 5\n",
            "Java 능력자: 2\n"
          ]
        }
      ]
    },
    {
      "cell_type": "markdown",
      "source": [
        "- 딕셔너리의 값 변경하기 (키 이용해서 값 변경)\n",
        " - 딕셔너리는 키를 이용하여 특정 항목의 값을 변경할 수 있음."
      ],
      "metadata": {
        "id": "YdNJzwNt7XNt"
      }
    },
    {
      "cell_type": "code",
      "source": [
        "dd['Python'] = 30\n",
        "\n",
        "if 'java' in dd:\n",
        "  dd['Java'] = 10\n",
        "\n",
        "print(dd)"
      ],
      "metadata": {
        "id": "tV7Pseb87UwI",
        "outputId": "9a5707f9-22a6-4cc9-d653-810ee39ee15d",
        "colab": {
          "base_uri": "https://localhost:8080/"
        }
      },
      "execution_count": null,
      "outputs": [
        {
          "output_type": "stream",
          "name": "stdout",
          "text": [
            "{'C': 5, 'Java': 2, 'C++': 2, 'Python': 30}\n"
          ]
        }
      ]
    },
    {
      "cell_type": "markdown",
      "source": [
        "- 딕셔너리에 값 추가하기 (키를 이용해서 값 추가)"
      ],
      "metadata": {
        "id": "RdAQb14F7b6U"
      }
    },
    {
      "cell_type": "code",
      "source": [
        "dd['Ruby'] = 3\n",
        "print(dd)\n",
        "\n",
        "dd['php'] = 10\n",
        "print(dd)"
      ],
      "metadata": {
        "id": "Vdttle777bVv",
        "outputId": "aa157aec-64a5-4ef3-9996-4eebe733c117",
        "colab": {
          "base_uri": "https://localhost:8080/"
        }
      },
      "execution_count": null,
      "outputs": [
        {
          "output_type": "stream",
          "name": "stdout",
          "text": [
            "{'Ruby': 3}\n",
            "{'Ruby': 3, 'php': 10}\n"
          ]
        }
      ]
    },
    {
      "cell_type": "markdown",
      "source": [
        "- 키-값 삭제\n",
        " - clear(): 딕셔너리 안에 들어있는 모든 키-값 쌍을 한꺼번에 삭제하는 메서드"
      ],
      "metadata": {
        "id": "soFMrtq37f9i"
      }
    },
    {
      "cell_type": "code",
      "source": [
        "del dd['C']\n",
        "print(dd)\n",
        "\n",
        "dd.clear()\n",
        "print(dd)"
      ],
      "metadata": {
        "id": "ri0wgpgO7fZ8",
        "outputId": "21655016-ed3f-4a82-abb6-3ada46f37dee",
        "colab": {
          "base_uri": "https://localhost:8080/"
        }
      },
      "execution_count": null,
      "outputs": [
        {
          "output_type": "stream",
          "name": "stdout",
          "text": [
            "{'Java': 2, 'C++': 2, 'Python': 10}\n",
            "{}\n"
          ]
        }
      ]
    },
    {
      "cell_type": "markdown",
      "source": [
        "- 딕셔너리에서 키 참조하기 및 값 참조하기"
      ],
      "metadata": {
        "id": "eTgzxXl08Zco"
      }
    },
    {
      "cell_type": "code",
      "source": [
        "dd = {'C':5, 'Java':2, 'C++':2, 'Python':10}\n",
        "\n",
        "dd.keys() # dict_keys(['C', 'Java', 'C++', 'Python']) : 뷰 객체\n",
        "\n",
        "list(dd.keys())"
      ],
      "metadata": {
        "id": "oHonxP3K8beu",
        "outputId": "e7a69ab7-6dcc-422e-f89d-3b8c4212b813",
        "colab": {
          "base_uri": "https://localhost:8080/"
        }
      },
      "execution_count": null,
      "outputs": [
        {
          "output_type": "execute_result",
          "data": {
            "text/plain": [
              "['C', 'Java', 'C++', 'Python']"
            ]
          },
          "metadata": {},
          "execution_count": 12
        }
      ]
    },
    {
      "cell_type": "code",
      "source": [
        "list(dd.values())"
      ],
      "metadata": {
        "id": "WFmT_E_Z8qo0",
        "outputId": "79cbcea8-dd43-47d3-f7cd-d4b5272c8ec5",
        "colab": {
          "base_uri": "https://localhost:8080/"
        }
      },
      "execution_count": null,
      "outputs": [
        {
          "output_type": "execute_result",
          "data": {
            "text/plain": [
              "[5, 2, 2, 10]"
            ]
          },
          "metadata": {},
          "execution_count": 13
        }
      ]
    },
    {
      "cell_type": "markdown",
      "source": [
        "- 딕셔너리에서 특정 키 존재 여부 확인하기"
      ],
      "metadata": {
        "id": "CZ96EJLi8u5z"
      }
    },
    {
      "cell_type": "code",
      "source": [
        "dd = {'C':5, 'Java':2, 'C++':2, 'Python':10}\n",
        "\n",
        "print('Python' in dd)\n",
        "print('Swift' in dd)"
      ],
      "metadata": {
        "id": "eYfOQR3P8uj0",
        "outputId": "aa79c1bc-bee5-45c0-f231-be19952a2d89",
        "colab": {
          "base_uri": "https://localhost:8080/"
        }
      },
      "execution_count": null,
      "outputs": [
        {
          "output_type": "stream",
          "name": "stdout",
          "text": [
            "True\n",
            "False\n"
          ]
        }
      ]
    },
    {
      "cell_type": "code",
      "source": [
        "# 리스트 딕셔너리 차이점"
      ],
      "metadata": {
        "id": "12QYYg_qhQaf"
      },
      "execution_count": null,
      "outputs": []
    },
    {
      "cell_type": "code",
      "source": [
        "s = \"\"\"The sky passing through\n",
        "the seasons is full of autumn. I seem to be\n",
        "staring at the stars in the fall without any\n",
        "worries. It is because the morning is coming,\n",
        "and the night is tomorrow, and yet my youth\n",
        "is not yet done. One star in memory One star\n",
        "in love and one in star One in star and one in\n",
        "star And one in star and one in star And mother,\n",
        "mother, mother in mother and mother I call a\n",
        "beautiful word by star.\"\"\"\n",
        "\n",
        "# 데이터 정제하기 (소문자로 통일, 문장부호 없애기)\n",
        "\n",
        "s.lower()\n",
        "s.replace(\".\",\"\")\n",
        "s.replace(\",\",\"\")\n",
        "\n",
        "print(s)\n",
        "\n",
        "# 문자열 쪼개기\n",
        "\n",
        ""
      ],
      "metadata": {
        "id": "nQcuUyLqhPxH"
      },
      "execution_count": null,
      "outputs": []
    }
  ]
}