{
  "nbformat": 4,
  "nbformat_minor": 0,
  "metadata": {
    "colab": {
      "provenance": [],
      "authorship_tag": "ABX9TyMY+5WxC8iuVjO0gkYP/KeF",
      "include_colab_link": true
    },
    "kernelspec": {
      "name": "python3",
      "display_name": "Python 3"
    },
    "language_info": {
      "name": "python"
    }
  },
  "cells": [
    {
      "cell_type": "markdown",
      "metadata": {
        "id": "view-in-github",
        "colab_type": "text"
      },
      "source": [
        "<a href=\"https://colab.research.google.com/github/clustering-jun/GNU-Computer_Programming/blob/main/L17_%EB%94%95%EC%85%94%EB%84%88%EB%A6%AC%EA%B5%AC%EC%A1%B0_%EC%9D%B4%ED%95%B4_%EB%B0%8F_%ED%99%9C%EC%9A%A9.ipynb\" target=\"_parent\"><img src=\"https://colab.research.google.com/assets/colab-badge.svg\" alt=\"Open In Colab\"/></a>"
      ]
    },
    {
      "cell_type": "markdown",
      "source": [
        "# L17. 딕셔너리 구조 이해 및 활용\n",
        "\n",
        "- **딕셔너리(dictionary)**: 전체 항목(item)들, 즉 데이터들은 정렬되지 않은 키(key)와 값(value)의 쌍으로 데이터를 저장하는 자료구조"
      ],
      "metadata": {
        "id": "BxmFVfXnCpW5"
      }
    },
    {
      "cell_type": "code",
      "execution_count": null,
      "metadata": {
        "id": "hkdzw5EYCeKT",
        "outputId": "7b1b0092-f58a-4c31-d13c-7accd649919c",
        "colab": {
          "base_uri": "https://localhost:8080/"
        }
      },
      "outputs": [
        {
          "output_type": "stream",
          "name": "stdout",
          "text": [
            "<class 'dict'>\n",
            "4\n"
          ]
        }
      ],
      "source": [
        "dd = {'C':5, 'Java':2, 'C++':2, 'Python':10}\n",
        "\n",
        "print(type(dd))\n",
        "print(len(dd))"
      ]
    },
    {
      "cell_type": "code",
      "source": [
        "print('C 능력자:', dd['C'])\n",
        "print('Java 능력자:', dd['Java'])"
      ],
      "metadata": {
        "id": "33t5SL1a7Q2J",
        "outputId": "6c306a3f-3d96-4e8d-c743-819f26533018",
        "colab": {
          "base_uri": "https://localhost:8080/"
        }
      },
      "execution_count": null,
      "outputs": [
        {
          "output_type": "stream",
          "name": "stdout",
          "text": [
            "C 능력자: 5\n",
            "Java 능력자: 2\n"
          ]
        }
      ]
    },
    {
      "cell_type": "markdown",
      "source": [
        "- 딕셔너리의 값 변경하기 (키 이용해서 값 변경)\n",
        " - 딕셔너리는 키를 이용하여 특정 항목의 값을 변경할 수 있음."
      ],
      "metadata": {
        "id": "YdNJzwNt7XNt"
      }
    },
    {
      "cell_type": "code",
      "source": [
        "dd['Python'] = 30\n",
        "\n",
        "if 'java' in dd:\n",
        "  dd['Java'] = 10\n",
        "\n",
        "print(dd)"
      ],
      "metadata": {
        "id": "tV7Pseb87UwI",
        "outputId": "9a5707f9-22a6-4cc9-d653-810ee39ee15d",
        "colab": {
          "base_uri": "https://localhost:8080/"
        }
      },
      "execution_count": null,
      "outputs": [
        {
          "output_type": "stream",
          "name": "stdout",
          "text": [
            "{'C': 5, 'Java': 2, 'C++': 2, 'Python': 30}\n"
          ]
        }
      ]
    },
    {
      "cell_type": "markdown",
      "source": [
        "- 딕셔너리에 값 추가하기 (키를 이용해서 값 추가)"
      ],
      "metadata": {
        "id": "RdAQb14F7b6U"
      }
    },
    {
      "cell_type": "code",
      "source": [
        "dd['Ruby'] = 3\n",
        "print(dd)\n",
        "\n",
        "dd['php'] = 10\n",
        "print(dd)"
      ],
      "metadata": {
        "id": "Vdttle777bVv",
        "outputId": "aa157aec-64a5-4ef3-9996-4eebe733c117",
        "colab": {
          "base_uri": "https://localhost:8080/"
        }
      },
      "execution_count": null,
      "outputs": [
        {
          "output_type": "stream",
          "name": "stdout",
          "text": [
            "{'Ruby': 3}\n",
            "{'Ruby': 3, 'php': 10}\n"
          ]
        }
      ]
    },
    {
      "cell_type": "markdown",
      "source": [
        "- 키-값 삭제\n",
        " - clear(): 딕셔너리 안에 들어있는 모든 키-값 쌍을 한꺼번에 삭제하는 메서드"
      ],
      "metadata": {
        "id": "soFMrtq37f9i"
      }
    },
    {
      "cell_type": "code",
      "source": [
        "del dd['C']\n",
        "print(dd)\n",
        "\n",
        "dd.clear()\n",
        "print(dd)"
      ],
      "metadata": {
        "id": "ri0wgpgO7fZ8",
        "outputId": "21655016-ed3f-4a82-abb6-3ada46f37dee",
        "colab": {
          "base_uri": "https://localhost:8080/"
        }
      },
      "execution_count": null,
      "outputs": [
        {
          "output_type": "stream",
          "name": "stdout",
          "text": [
            "{'Java': 2, 'C++': 2, 'Python': 10}\n",
            "{}\n"
          ]
        }
      ]
    },
    {
      "cell_type": "markdown",
      "source": [
        "- 딕셔너리에서 키 참조하기 및 값 참조하기\n",
        " - 뷰 객체: 데이터의 실제 복사본을 만들지 않고, 기존 데이터에 대한 \"읽기 전용\" 또는 \"읽기-쓰기 가능한\" 창을 제공하는 객체"
      ],
      "metadata": {
        "id": "eTgzxXl08Zco"
      }
    },
    {
      "cell_type": "code",
      "source": [
        "dd = {'C':5, 'Java':2, 'C++':2, 'Python':10}\n",
        "\n",
        "dd.keys() # dict_keys(['C', 'Java', 'C++', 'Python']) : 뷰 객체\n",
        "\n",
        "list(dd.keys())"
      ],
      "metadata": {
        "id": "oHonxP3K8beu",
        "outputId": "e7a69ab7-6dcc-422e-f89d-3b8c4212b813",
        "colab": {
          "base_uri": "https://localhost:8080/"
        }
      },
      "execution_count": null,
      "outputs": [
        {
          "output_type": "execute_result",
          "data": {
            "text/plain": [
              "['C', 'Java', 'C++', 'Python']"
            ]
          },
          "metadata": {},
          "execution_count": 12
        }
      ]
    },
    {
      "cell_type": "code",
      "source": [
        "list(dd.values())"
      ],
      "metadata": {
        "id": "WFmT_E_Z8qo0",
        "outputId": "79cbcea8-dd43-47d3-f7cd-d4b5272c8ec5",
        "colab": {
          "base_uri": "https://localhost:8080/"
        }
      },
      "execution_count": null,
      "outputs": [
        {
          "output_type": "execute_result",
          "data": {
            "text/plain": [
              "[5, 2, 2, 10]"
            ]
          },
          "metadata": {},
          "execution_count": 13
        }
      ]
    },
    {
      "cell_type": "markdown",
      "source": [
        "- 딕셔너리에서 특정 키 존재 여부 확인하기"
      ],
      "metadata": {
        "id": "CZ96EJLi8u5z"
      }
    },
    {
      "cell_type": "code",
      "source": [
        "dd = {'C':5, 'Java':2, 'C++':2, 'Python':10}\n",
        "\n",
        "print('Python' in dd)\n",
        "print('Swift' in dd)"
      ],
      "metadata": {
        "id": "eYfOQR3P8uj0",
        "outputId": "aa79c1bc-bee5-45c0-f231-be19952a2d89",
        "colab": {
          "base_uri": "https://localhost:8080/"
        }
      },
      "execution_count": null,
      "outputs": [
        {
          "output_type": "stream",
          "name": "stdout",
          "text": [
            "True\n",
            "False\n"
          ]
        }
      ]
    },
    {
      "cell_type": "markdown",
      "source": [
        "<br>\n",
        "<br>\n",
        "<br>\n",
        "\n",
        "## **리스트와 딕셔너리의 차이점**\n",
        "\n",
        "### **1. 데이터 저장 방식**\n",
        "\n",
        "| 항목        | 리스트 (List)      | 딕셔너리 (Dictionary)             |\n",
        "| --------- | --------------- | ----------------------------- |\n",
        "| **구조**    | 순서가 있는 데이터들의 집합 | 키(Key)와 값(Value)의 쌍으로 이루어진 집합 |\n",
        "| **형태**    | `[1, 2, 3, 4]`  | `{'이름': '홍길동', '나이': 30}`     |\n",
        "| **접근 방식** | 인덱스(index)로 접근  | 키(key)로 접근                    |\n",
        "\n",
        "<br>\n",
        "<br>\n",
        "\n",
        "### **2. 인덱싱과 접근 방식**\n",
        "- 리스트는 index를 사용해 값을 가져옴."
      ],
      "metadata": {
        "id": "J0R9-t3Y0Wev"
      }
    },
    {
      "cell_type": "code",
      "source": [
        "fruits = ['사과', '바나나', '포도']\n",
        "print(fruits[1])  # 출력: 바나나"
      ],
      "metadata": {
        "id": "DK8A67LC0kXI",
        "outputId": "003deae8-8902-4c79-c380-0fd80f7eec7e",
        "colab": {
          "base_uri": "https://localhost:8080/"
        }
      },
      "execution_count": 21,
      "outputs": [
        {
          "output_type": "stream",
          "name": "stdout",
          "text": [
            "바나나\n"
          ]
        }
      ]
    },
    {
      "cell_type": "markdown",
      "source": [
        "- 딕셔너리는 key를 사용해 값을 가져옵니다."
      ],
      "metadata": {
        "id": "PyJhEDJo0p0t"
      }
    },
    {
      "cell_type": "code",
      "source": [
        "person = {'이름': '철수', '나이': 25}\n",
        "print(person['이름'])  # 출력: 철수"
      ],
      "metadata": {
        "id": "A1xIftp60rRc",
        "outputId": "efa5c714-b93b-44e5-ac05-47c311969f83",
        "colab": {
          "base_uri": "https://localhost:8080/"
        }
      },
      "execution_count": 22,
      "outputs": [
        {
          "output_type": "stream",
          "name": "stdout",
          "text": [
            "철수\n"
          ]
        }
      ]
    },
    {
      "cell_type": "markdown",
      "source": [
        "<br>\n",
        "\n",
        "### **3. 순서 보장 여부**\n",
        "- 리스트: 순서를 항상 보장합니다. 입력한 순서 그대로 유지됨.\n",
        "- 딕셔너리: 파이썬 3.7 이상에서는 삽입 순서가 유지되지만, 본질적으로는 키로 데이터에 접근하는 구조임.\n",
        "\n",
        "<br>\n",
        "<br>\n",
        "\n",
        "### **4. 중복 허용 여부**\n",
        "- 리스트: 값의 중복 허용"
      ],
      "metadata": {
        "id": "Mj3F3ps40t0i"
      }
    },
    {
      "cell_type": "code",
      "source": [
        "[1, 2, 2, 3]  # 가능"
      ],
      "metadata": {
        "id": "O0n6ZL1V1EWX",
        "outputId": "39728cfb-b327-4927-daa7-6ca1c3e9d6b5",
        "colab": {
          "base_uri": "https://localhost:8080/"
        }
      },
      "execution_count": 24,
      "outputs": [
        {
          "output_type": "execute_result",
          "data": {
            "text/plain": [
              "[1, 2, 2, 3]"
            ]
          },
          "metadata": {},
          "execution_count": 24
        }
      ]
    },
    {
      "cell_type": "markdown",
      "source": [
        "- 딕셔너리: 키는 중복 불가, 값은 중복 가능"
      ],
      "metadata": {
        "id": "D8o2T6Sh1HfX"
      }
    },
    {
      "cell_type": "code",
      "source": [
        "{'a': 1, 'b': 1}  # 가능\n",
        "{'a': 1, 'a': 2}  # 불가능 → 마지막 값으로 덮어씀"
      ],
      "metadata": {
        "id": "8lHEc9Mn1FGa",
        "outputId": "57fff55c-affd-4139-ede9-26e1d205bb1b",
        "colab": {
          "base_uri": "https://localhost:8080/"
        }
      },
      "execution_count": 25,
      "outputs": [
        {
          "output_type": "execute_result",
          "data": {
            "text/plain": [
              "{'a': 2}"
            ]
          },
          "metadata": {},
          "execution_count": 25
        }
      ]
    },
    {
      "cell_type": "markdown",
      "source": [
        "<br>\n",
        "\n",
        "### **5. 주요 메서드**\n",
        "- 리스트 주요 메서드: append(), insert(), sort(), remove(), pop()\n",
        "- 딕셔너리 주요 메서드: keys(), values(), items()\n",
        "\n",
        "<br>\n",
        "<br>\n",
        "\n",
        "---\n",
        "\n",
        "<br>\n",
        "\n",
        "## **주사위 눈의 빈도수 계산하기**\n",
        "- 딕셔너리를 이용한 문제 해결"
      ],
      "metadata": {
        "id": "grX5qr8G1jAa"
      }
    },
    {
      "cell_type": "code",
      "source": [
        "import random\n",
        "r = random.Random()\n",
        "\n",
        "dice = {}\n",
        "\n",
        "for i in range(10):\n",
        "  nun = r.randint(1,6)\n",
        "\n",
        "  if nun not in dice:\n",
        "    dice[nun] = 0\n",
        "\n",
        "  dice[nun] += 1\n",
        "\n",
        "for i in sorted(dice):\n",
        "  print('%d번 눈이 %d번 나왔다'%(i, dice[i]))"
      ],
      "metadata": {
        "id": "BivRvMPd19bK",
        "outputId": "4694f0a7-bf54-4df7-e830-425c1cfb23a6",
        "colab": {
          "base_uri": "https://localhost:8080/"
        }
      },
      "execution_count": 28,
      "outputs": [
        {
          "output_type": "stream",
          "name": "stdout",
          "text": [
            "1번 눈이 1번 나왔다\n",
            "2번 눈이 3번 나왔다\n",
            "4번 눈이 3번 나왔다\n",
            "5번 눈이 3번 나왔다\n"
          ]
        }
      ]
    },
    {
      "cell_type": "markdown",
      "source": [
        "> **`dice.setdefault(nun, 0)`**\n",
        "\n",
        "- `dict.setdefault(key, default)`는 딕셔너리에서 특정 키가 없을 경우, 해당 키를 추가하고 지정된 기본값을 설정하는 메서드이다.\n",
        "\n",
        "- 다음과 같은 의미이다.\n",
        " - nun이라는 키가 dice 딕셔너리에 없다면, nun: 0을 추가한다.\n",
        " - nun이라는 키가 이미 존재한다면, 아무 것도 하지 않고 기존 값을 그대로 유지한다.\n",
        " - 최종적으로 dice[nun] 값을 반환한다.\n",
        "\n",
        "\n",
        "<br>\n",
        "\n",
        "이를 이용하여 간결한 코드는 다음과 같다:\n",
        "\n",
        "\n"
      ],
      "metadata": {
        "id": "QZ4BvTzk2uJN"
      }
    },
    {
      "cell_type": "code",
      "source": [
        "import random\n",
        "r = random.Random()\n",
        "\n",
        "dice = {}\n",
        "\n",
        "for i in range(10):\n",
        "    nun = r.randint(1, 6)\n",
        "\n",
        "    # setdefault를 이용해 기본값을 설정\n",
        "    dice.setdefault(nun, 0)\n",
        "    dice[nun] += 1\n",
        "\n",
        "for i in sorted(dice):\n",
        "    print('%d번 눈이 %d번 나왔다' % (i, dice[i]))"
      ],
      "metadata": {
        "id": "CbIdTVIw4FLQ",
        "outputId": "40769dce-3da0-4886-ba9a-139389fe3eee",
        "colab": {
          "base_uri": "https://localhost:8080/"
        }
      },
      "execution_count": 30,
      "outputs": [
        {
          "output_type": "stream",
          "name": "stdout",
          "text": [
            "1번 눈이 3번 나왔다\n",
            "2번 눈이 2번 나왔다\n",
            "3번 눈이 1번 나왔다\n",
            "4번 눈이 1번 나왔다\n",
            "5번 눈이 2번 나왔다\n",
            "6번 눈이 1번 나왔다\n"
          ]
        }
      ]
    },
    {
      "cell_type": "markdown",
      "source": [
        "<br>\n",
        "<br>\n",
        "<br>\n",
        "\n",
        "## **단어의 빈도수 계산하기 및 시각화**"
      ],
      "metadata": {
        "id": "KEKEFjIv4XGR"
      }
    },
    {
      "cell_type": "code",
      "source": [
        "s = \"\"\"The sky passing through\n",
        "the seasons is full of autumn. I seem to be\n",
        "staring at the stars in the fall without any\n",
        "worries. It is because the morning is coming,\n",
        "and the night is tomorrow, and yet my youth\n",
        "is not yet done. One star in memory One star\n",
        "in love and one in star One in star and one in\n",
        "star And one in star and one in star And mother,\n",
        "mother, mother in mother and mother I call a\n",
        "beautiful word by star.\"\"\"\n",
        "\n",
        "# 데이터 정제(refinement)하기 (소문자로 통일, 문장부호 없애기)\n",
        "s = s.lower()\n",
        "s = s.replace(\".\",\"\")\n",
        "s = s.replace(\",\",\"\")\n",
        "\n",
        "\n",
        "# 문자열 쪼개기\n",
        "splObj = s.split()\n",
        "\n",
        "\n",
        "# 리스트 순회하면서 단어 수 세기\n",
        "word_freq = {}\n",
        "\n",
        "for w in splObj:\n",
        "    if w not in word_freq:\n",
        "        word_freq[w] = 0\n",
        "    word_freq[w] += 1\n",
        "\n",
        "print(word_freq)\n",
        "print(len(word_freq),'가지 단어 나옴')"
      ],
      "metadata": {
        "id": "nQcuUyLqhPxH",
        "outputId": "4b77b2d1-0ed7-4b59-cb9b-43a29fea009f",
        "colab": {
          "base_uri": "https://localhost:8080/"
        }
      },
      "execution_count": 31,
      "outputs": [
        {
          "output_type": "stream",
          "name": "stdout",
          "text": [
            "{'the': 6, 'sky': 1, 'passing': 1, 'through': 1, 'seasons': 1, 'is': 5, 'full': 1, 'of': 1, 'autumn': 1, 'i': 2, 'seem': 1, 'to': 1, 'be': 1, 'staring': 1, 'at': 1, 'stars': 1, 'in': 9, 'fall': 1, 'without': 1, 'any': 1, 'worries': 1, 'it': 1, 'because': 1, 'morning': 1, 'coming': 1, 'and': 8, 'night': 1, 'tomorrow': 1, 'yet': 2, 'my': 1, 'youth': 1, 'not': 1, 'done': 1, 'one': 7, 'star': 8, 'memory': 1, 'love': 1, 'mother': 5, 'call': 1, 'a': 1, 'beautiful': 1, 'word': 1, 'by': 1}\n",
            "43 가지 단어 나옴\n"
          ]
        }
      ]
    },
    {
      "cell_type": "markdown",
      "source": [
        "<br>\n",
        "\n",
        "## **Visualization**\n",
        "- with matplotlib"
      ],
      "metadata": {
        "id": "2mw7Kd6a4uiC"
      }
    },
    {
      "cell_type": "code",
      "source": [
        "from matplotlib import pyplot\n",
        "\n",
        "# 1. 시각화를 위해 필요한 자료를 저장할 저장 구조를 만든다.\n",
        "\n",
        "xList = [] # x축 자료로 사용할 단어 이름들을 저장할 리스트 생성\n",
        "yList = [] # y축 자료로 사용할 단어의 빈도수들을 저장할 리스트 생성\n",
        "\n",
        "\n",
        "# 2. 딕셔너리의 키와 값들을 각 리스트에 저장한다.\n",
        "for word in word_freq:\n",
        "  xList.append(word)\n",
        "  yList.append(word_freq[word])\n",
        "\n",
        "print(xList)\n",
        "print(yList)"
      ],
      "metadata": {
        "id": "0rDnjYF94_Gq",
        "outputId": "023bd55b-fdcb-4397-8e6c-5ea001d049a1",
        "colab": {
          "base_uri": "https://localhost:8080/"
        }
      },
      "execution_count": 37,
      "outputs": [
        {
          "output_type": "stream",
          "name": "stdout",
          "text": [
            "['the', 'sky', 'passing', 'through', 'seasons', 'is', 'full', 'of', 'autumn', 'i', 'seem', 'to', 'be', 'staring', 'at', 'stars', 'in', 'fall', 'without', 'any', 'worries', 'it', 'because', 'morning', 'coming', 'and', 'night', 'tomorrow', 'yet', 'my', 'youth', 'not', 'done', 'one', 'star', 'memory', 'love', 'mother', 'call', 'a', 'beautiful', 'word', 'by']\n",
            "[6, 1, 1, 1, 1, 5, 1, 1, 1, 2, 1, 1, 1, 1, 1, 1, 9, 1, 1, 1, 1, 1, 1, 1, 1, 8, 1, 1, 2, 1, 1, 1, 1, 7, 8, 1, 1, 5, 1, 1, 1, 1, 1]\n"
          ]
        }
      ]
    },
    {
      "cell_type": "code",
      "source": [
        "# 3. 각 단어의 빈도수의 막대 그래프로 시각화한다.\n",
        "\n",
        "pyplot.bar(xList, yList)\n",
        "pyplot.xlabel('word')\n",
        "pyplot.ylabel('frequency')\n",
        "pyplot.title('words frequency')\n",
        "pyplot.show()"
      ],
      "metadata": {
        "id": "EcgAVy6I5zB7",
        "outputId": "9f0e6263-2b2e-4e24-8bf2-1f91d521a352",
        "colab": {
          "base_uri": "https://localhost:8080/",
          "height": 472
        }
      },
      "execution_count": 39,
      "outputs": [
        {
          "output_type": "display_data",
          "data": {
            "text/plain": [
              "<Figure size 640x480 with 1 Axes>"
            ],
            "image/png": "[encoded data removed]"
          },
          "metadata": {}
        }
      ]
    },
    {
      "cell_type": "markdown",
      "source": [
        "<br>\n",
        "\n",
        "### 높은 가시성을 위해 **단어의 빈도수가 2 이상**인 단어만 시각화"
      ],
      "metadata": {
        "id": "evAgOdWM6h84"
      }
    },
    {
      "cell_type": "code",
      "source": [
        "xList = []\n",
        "yList = []\n",
        "\n",
        "\n",
        "for word in word_freq:\n",
        "  if word_freq[word] >= 2:\n",
        "    xList.append(word)\n",
        "    yList.append(word_freq[word])\n",
        "\n",
        "pyplot.bar(xList, yList)\n",
        "pyplot.xlabel('word')\n",
        "pyplot.ylabel('frequency')\n",
        "pyplot.title('words frequency')\n",
        "pyplot.show()"
      ],
      "metadata": {
        "id": "oCS8DomF6Obo",
        "outputId": "e92f3a83-5fb8-4195-d952-4477257237d8",
        "colab": {
          "base_uri": "https://localhost:8080/",
          "height": 472
        }
      },
      "execution_count": 45,
      "outputs": [
        {
          "output_type": "display_data",
          "data": {
            "text/plain": [
              "<Figure size 640x480 with 1 Axes>"
            ],
            "image/png": "[encoded data removed]"
          },
          "metadata": {}
        }
      ]
    }
  ]
}