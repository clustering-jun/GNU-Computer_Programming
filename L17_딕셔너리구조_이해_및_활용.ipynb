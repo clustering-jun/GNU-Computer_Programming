{
  "nbformat": 4,
  "nbformat_minor": 0,
  "metadata": {
    "colab": {
      "provenance": [],
      "authorship_tag": "ABX9TyMVx10nxNHDHO0pWFuu5Gyn",
      "include_colab_link": true
    },
    "kernelspec": {
      "name": "python3",
      "display_name": "Python 3"
    },
    "language_info": {
      "name": "python"
    }
  },
  "cells": [
    {
      "cell_type": "markdown",
      "metadata": {
        "id": "view-in-github",
        "colab_type": "text"
      },
      "source": [
        "<a href=\"https://colab.research.google.com/github/clustering-jun/GNU-Computer_Programming/blob/main/L17_%EB%94%95%EC%85%94%EB%84%88%EB%A6%AC%EA%B5%AC%EC%A1%B0_%EC%9D%B4%ED%95%B4_%EB%B0%8F_%ED%99%9C%EC%9A%A9.ipynb\" target=\"_parent\"><img src=\"https://colab.research.google.com/assets/colab-badge.svg\" alt=\"Open In Colab\"/></a>"
      ]
    },
    {
      "cell_type": "markdown",
      "source": [
        "# L17. 딕셔너리 구조 이해 및 활용\n",
        "- 딕셔너리: key와 value가 pair로 이루어진 자료구조\n",
        "- key를 가지고 참조함!!"
      ],
      "metadata": {
        "id": "BxmFVfXnCpW5"
      }
    },
    {
      "cell_type": "code",
      "execution_count": 33,
      "metadata": {
        "id": "hkdzw5EYCeKT",
        "outputId": "3c0e7d7a-48d6-4b8b-cd24-0f71ce1c5293",
        "colab": {
          "base_uri": "https://localhost:8080/"
        }
      },
      "outputs": [
        {
          "output_type": "stream",
          "name": "stdout",
          "text": [
            "<class 'dict'>\n",
            "4\n",
            "\n",
            "C 능력자: 5\n",
            "Java 능력자: 2\n",
            "{'C': 5, 'Java': 2, 'C++': 2, 'Python': 30}\n",
            "{'C': 5, 'Java': 2, 'C++': 2, 'Python': 30, 'Ruby': 3}\n",
            "{'C': 5, 'Java': 2, 'C++': 2, 'Python': 30, 'Ruby': 3, 'php': 10}\n",
            "{'Java': 2, 'C++': 2, 'Python': 30, 'Ruby': 3, 'php': 10}\n",
            "{}\n"
          ]
        }
      ],
      "source": [
        "dd = {'C':5, 'Java':2, 'C++':2, 'Python':10}\n",
        "\n",
        "print(type(dd))\n",
        "print(len(dd))\n",
        "print()\n",
        "\n",
        "print('C 능력자:', dd['C'])\n",
        "print('Java 능력자:', dd['Java'])\n",
        "\n",
        "# value 값 변경하기\n",
        "dd['Python'] = 30\n",
        "\n",
        "if 'java' in dd:\n",
        "  dd['Java'] = 10\n",
        "\n",
        "print(dd)\n",
        "\n",
        "\n",
        "# 추가하기\n",
        "dd['Ruby'] = 3\n",
        "print(dd)\n",
        "\n",
        "dd['php'] = 10\n",
        "print(dd)\n",
        "\n",
        "\n",
        "# 삭제하기\n",
        "del dd['C']\n",
        "print(dd)\n",
        "\n",
        "dd.clear()\n",
        "print(dd) # {} - 아예 딕셔너리가 없어지진 않음. 안의 item만 지워진다."
      ]
    }
  ]
}