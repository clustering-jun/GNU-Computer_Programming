{
  "nbformat": 4,
  "nbformat_minor": 0,
  "metadata": {
    "colab": {
      "provenance": [],
      "authorship_tag": "ABX9TyOX2F4Mgo/zkDzqyG4qctHf",
      "include_colab_link": true
    },
    "kernelspec": {
      "name": "python3",
      "display_name": "Python 3"
    },
    "language_info": {
      "name": "python"
    }
  },
  "cells": [
    {
      "cell_type": "markdown",
      "metadata": {
        "id": "view-in-github",
        "colab_type": "text"
      },
      "source": [
        "<a href=\"https://colab.research.google.com/github/clustering-jun/GNU-Computer_Programming/blob/main/L11_1_%EB%B0%98%EB%B3%B5%EA%B5%AC%EC%A1%B0%EB%A1%9C_%EB%AC%B8%EC%A0%9C%ED%95%B4%EA%B2%B0%ED%95%98%EA%B8%B0.ipynb\" target=\"_parent\"><img src=\"https://colab.research.google.com/assets/colab-badge.svg\" alt=\"Open In Colab\"/></a>"
      ]
    },
    {
      "cell_type": "markdown",
      "source": [
        "# L11-1. 반복 구조로 문제 해결하기"
      ],
      "metadata": {
        "id": "VfJVHJxF9LFa"
      }
    },
    {
      "cell_type": "markdown",
      "source": [
        "## 01. for문 - 횟수 제어를 이용한 반복\n",
        "\n",
        "### (1) 횟수 제어 반복\n",
        "- 반복 횟수를 미리 아는 경우에 사용\n",
        "- 이때 주로 사용하는 반복문이 for 루프\n",
        "\n",
        "<br><br>\n",
        "\n",
        "\n",
        "### (2) range( ) 함수란\n",
        "- range( )는 정수를 생성해주는 함수\n",
        "\n",
        "  > range(5): 0, 1, 2, 3, 4, 5과 같이 5개의 정수를 생성함.\n",
        "    - 시작값 기본은 0, 종료값은 지정한 수보다 1 작은 값까지 생성됨\n",
        "\n",
        "> range( start = 0, stop, step = 1 )\n",
        "\n",
        "- start와 step은 생략할 수 있음.\n",
        "- 생략할 경우 start는 0을 step은 1을 기본 값으로 갖는다.\n",
        "\n",
        "\n",
        "<br><br>\n",
        "\n",
        "\n",
        "### (3) for문의 기본 구조\n",
        "```\n",
        "for 변수 in range(횟수):\n",
        "    실행할 문장\n",
        "```\n",
        "- range(5) → 0, 1, 2, 3, 4 순으로 값을 생성\n",
        "- 각 값이 차례대로 변수에 할당되면서, 반복문 내의 문장을 실행함\n",
        "\n",
        "<br><br>\n",
        "\n",
        "\n",
        "### (4) in 연산자의 역할\n",
        "- `in`은 값이 존재하는지를 확인하는 연산자\n",
        "- `for i in range(5)`는 `range(5)`가 생성한 값 중 다음 값이 존재하는지를 확인하며 반복을 제어\n",
        "- 값이 더 이상 없으면 반복을 종료하고 다음 코드로 넘어감\n",
        "\n",
        "<br><br>\n",
        "<br>\n",
        "\n",
        "\n",
        "### (5) for문 동작 절차 설명\n",
        "```\n",
        "for i in range(5):\n",
        "    print(i)\n",
        "```\n",
        "- range(5) → [0, 1, 2, 3, 4] 생성됨\n",
        "- 첫 번째 반복:\n",
        " - i = 0이 변수에 할당됨\n",
        " - print(i) 실행 → 0 출력\n",
        "\n",
        "- 두 번째 반복:\n",
        " - i = 1 할당\n",
        " - print(i) 실행 → 1 출력\n",
        "\n",
        "- 이 과정을 반복하여 i = 4까지 실행됨\n",
        "- 다음 반복에서 더 이상 값이 없으므로 반복 종료\n",
        "- 반복문 아래의 다음 코드로 흐름이 이동함\n",
        "\n",
        "<br><br>\n",
        "\n",
        "### (6) 정리 요약\n",
        "- for문은 정해진 횟수만큼 반복할 때 사용\n",
        "- range()는 반복에 필요한 정수 목록을 생성\n",
        "- in은 값의 존재를 판단하여 반복을 계속할지 종료할지 결정\n",
        "- for문은 변수에 값이 존재할 때마다 반복하고, 값이 없으면 종료"
      ],
      "metadata": {
        "id": "OokWwViJvoFo"
      }
    },
    {
      "cell_type": "markdown",
      "source": [
        "<br>\n",
        "\n",
        "---\n",
        "\n",
        "<br>\n",
        "\n",
        "## for문 연습하기"
      ],
      "metadata": {
        "id": "6SadRy8aJ2tA"
      }
    },
    {
      "cell_type": "code",
      "source": [
        "print('방문을 환영합니다.')\n",
        "print('방문을 환영합니다.')\n",
        "print('방문을 환영합니다.')\n",
        "print('방문을 환영합니다.')\n",
        "print('방문을 환영합니다.')"
      ],
      "metadata": {
        "colab": {
          "base_uri": "https://localhost:8080/"
        },
        "id": "3DieCboGyEPs",
        "outputId": "9551b8ab-f4a9-4174-db05-b919f131d8d3"
      },
      "execution_count": null,
      "outputs": [
        {
          "output_type": "stream",
          "name": "stdout",
          "text": [
            "방문을 환영합니다.\n",
            "방문을 환영합니다.\n",
            "방문을 환영합니다.\n",
            "방문을 환영합니다.\n",
            "방문을 환영합니다.\n"
          ]
        }
      ]
    },
    {
      "cell_type": "code",
      "source": [
        "for i in range(5):\n",
        "  print('방문을 환영합니다.')"
      ],
      "metadata": {
        "id": "ytCaPdQq-uk3",
        "outputId": "dea258a6-b8bd-4393-eb65-ef3c9a41f70d",
        "colab": {
          "base_uri": "https://localhost:8080/"
        }
      },
      "execution_count": null,
      "outputs": [
        {
          "output_type": "stream",
          "name": "stdout",
          "text": [
            "방문을 환영합니다.\n",
            "방문을 환영합니다.\n",
            "방문을 환영합니다.\n",
            "방문을 환영합니다.\n",
            "방문을 환영합니다.\n"
          ]
        }
      ]
    },
    {
      "cell_type": "markdown",
      "source": [
        "## range 함수와 제어변수 i"
      ],
      "metadata": {
        "id": "nzqMwexXrdqE"
      }
    },
    {
      "cell_type": "code",
      "source": [
        "for i in range(10):\n",
        "  print('123')\n",
        "\n",
        "for i in range(0,11):\n",
        "  print(i)"
      ],
      "metadata": {
        "colab": {
          "base_uri": "https://localhost:8080/"
        },
        "id": "DS8vhLTFqQAn",
        "outputId": "1a6cbf62-8287-49ee-e2d2-e7f5c429ad67"
      },
      "execution_count": null,
      "outputs": [
        {
          "output_type": "stream",
          "name": "stdout",
          "text": [
            "123\n",
            "123\n",
            "123\n",
            "123\n",
            "123\n",
            "123\n",
            "123\n",
            "123\n",
            "123\n",
            "123\n",
            "0\n",
            "1\n",
            "2\n",
            "3\n",
            "4\n",
            "5\n",
            "6\n",
            "7\n",
            "8\n",
            "9\n",
            "10\n"
          ]
        }
      ]
    },
    {
      "cell_type": "markdown",
      "source": [
        "- 두 소스코드 비교\n",
        "\n",
        "> 공통점\n",
        " - 두 코드 모두 `i`를 반복문의 제어변수로 사용함\n",
        " - `i in range(...)` 구조에서 `i`가 있어야 반복문이 실행됨\n",
        " - 반복 횟수를 결정짓는 핵심 역할 수행\n",
        "\n",
        "\n",
        "> 차이점\n",
        "\n",
        "| 항목           | 첫 번째 코드 (`print('123')`)    | 두 번째 코드 (`print(i)`)        |\n",
        "|----------------|----------------------------------|-----------------------------------|\n",
        "| 출력 결과      | `123`을 10번 출력                | 0부터 10까지 숫자 출력 (총 11개) |\n",
        "| `i`의 역할     | 반복 제어만 수행 (`i`는 미사용) | 반복 제어 + 데이터로 활용됨      |\n",
        "| 반복 목적      | 고정된 값의 반복 출력            | 순차적인 데이터 출력              |\n",
        "\n",
        "<br><br>"
      ],
      "metadata": {
        "id": "7oagKWLyqPQS"
      }
    },
    {
      "cell_type": "markdown",
      "source": [
        "## print( ) 함수에서 줄이 바뀌는 이유와 제어 방법\n",
        "### (1) 기본 동작\n",
        "- `print( )` 함수는 기본적으로 출력 후 자동으로 줄바꿈을 한다.\n",
        "- 이는 `print( )` 함수의 `end` 매개변수 기본값이 `'\\n'(줄바꿈 문자)`이기 때문.\n"
      ],
      "metadata": {
        "id": "QjBwu_iur4bR"
      }
    },
    {
      "cell_type": "code",
      "source": [
        "print(\"Hello\")  # 줄바꿈 됨\n",
        "print(\"World\")  # 다음 줄에 출력됨"
      ],
      "metadata": {
        "colab": {
          "base_uri": "https://localhost:8080/"
        },
        "id": "YAMeyaJFsG3i",
        "outputId": "9f7c06cb-92c2-44a0-ff8b-0898c612325c"
      },
      "execution_count": null,
      "outputs": [
        {
          "output_type": "stream",
          "name": "stdout",
          "text": [
            "Hello\n",
            "World\n"
          ]
        }
      ]
    },
    {
      "cell_type": "markdown",
      "source": [
        "### 줄바꿈 없이 출력하고 싶을 때\n",
        "- end 매개변수를 수정하면 줄바꿈 대신 다른 문자(또는 빈 문자열)를 지정할 수 있음.\n"
      ],
      "metadata": {
        "id": "xTNZX6VysHa3"
      }
    },
    {
      "cell_type": "code",
      "source": [
        "for i in range(10):\n",
        "    print(i, end=' ')  # 줄바꿈 한칸(스페이스 한 번) 출력됨"
      ],
      "metadata": {
        "colab": {
          "base_uri": "https://localhost:8080/"
        },
        "id": "iUCWlpZdsMHy",
        "outputId": "dd242f65-7806-42c2-a86b-17457329b629"
      },
      "execution_count": null,
      "outputs": [
        {
          "output_type": "stream",
          "name": "stdout",
          "text": [
            "0 1 2 3 4 5 6 7 8 9 "
          ]
        }
      ]
    },
    {
      "cell_type": "markdown",
      "source": [
        "- (참고) `print()`와 `print(\"\\n\")`의 차이점\n",
        "\n",
        "> print( )\n",
        " - 아무 인자도 없이 쓰면 줄바꿈 한 번만 일어남.\n",
        " - 내부적으로 end='\\n'이 기본값이라서 줄이 한 번 바뀜.\n",
        "\n",
        "> print(\\n)\n",
        " - \\n은 줄바꿈 문자니까 이걸 출력하면 줄이 두 번 바뀌는 것처럼 보임.\n",
        " - 하나는 \\n 자체\n",
        " - 하나는 print()의 기본 end='\\n'\n"
      ],
      "metadata": {
        "id": "fgobIv4-sfN2"
      }
    },
    {
      "cell_type": "code",
      "source": [
        "print(\"Hello\")\n",
        "print(\"\\n\") # 두 번 줄바꿈\n",
        "print(\"World\")"
      ],
      "metadata": {
        "colab": {
          "base_uri": "https://localhost:8080/"
        },
        "id": "4zUobduqs2Ro",
        "outputId": "bf6fc9fc-d636-4e0e-e420-0be379b203e9"
      },
      "execution_count": null,
      "outputs": [
        {
          "output_type": "stream",
          "name": "stdout",
          "text": [
            "Hello\n",
            "\n",
            "\n",
            "World\n"
          ]
        }
      ]
    },
    {
      "cell_type": "markdown",
      "source": [
        "## for문 활용\n",
        "\n",
        "#### 10이하의 홀수를 출력하는 프로그램을 작성하시오.\n",
        "- range 함수만을 사용할 것\n",
        "- 줄바꿈 없이 공백으로 한 줄에 출력할 것"
      ],
      "metadata": {
        "id": "v4083gchs9qM"
      }
    },
    {
      "cell_type": "code",
      "source": [
        "for i in range(1,10,2):\n",
        "  print(i, end=' ')"
      ],
      "metadata": {
        "colab": {
          "base_uri": "https://localhost:8080/"
        },
        "id": "VreoGH4ytLod",
        "outputId": "9fb9b000-7d8f-45f5-bde5-5640f88b25e5"
      },
      "execution_count": null,
      "outputs": [
        {
          "output_type": "stream",
          "name": "stdout",
          "text": [
            "1 3 5 7 9 "
          ]
        }
      ]
    },
    {
      "cell_type": "code",
      "source": [
        "for i in range(1,10):\n",
        "  if i % 2 == 1:\n",
        "    print(i, end=' ')"
      ],
      "metadata": {
        "colab": {
          "base_uri": "https://localhost:8080/"
        },
        "id": "ONzrZqFgttff",
        "outputId": "fe0eabc1-ca0a-4f5a-a5bb-ee00c204f70a"
      },
      "execution_count": null,
      "outputs": [
        {
          "output_type": "stream",
          "name": "stdout",
          "text": [
            "1 3 5 7 9 "
          ]
        }
      ]
    },
    {
      "cell_type": "markdown",
      "source": [
        "<br><br>\n",
        "\n",
        "## 02. range( ) 함수의 활용\n",
        "\n",
        "> range( ) 함수는 파이썬에서 정수의 연속된 시퀀스(sequence)를 생성할 때 사용됨. 형식은 다음과 같다:\n",
        "```\n",
        "range(start, stop, step)\n",
        "```\n",
        "- `start` (시작값): 생략 시 0부터 시작\n",
        "- `stop` (끝값): 도달하지 않고 멈춤 (즉, 포함되지 않음)\n",
        "- `step` (간격): 생략 시 기본값은 1\n",
        "\n",
        "<br>\n",
        "\n",
        "> 예시:\n",
        " - `range(1, 10, 2) → [1, 3, 5, 7, 9]`\n",
        "\n",
        "<br>\n",
        "\n",
        "### 역순 출력방법\n",
        "\n",
        "- range() 함수는 `step` 값을 **음수(-)**로 설정하면 역순으로 감소하는 숫자 시퀀스를 만들 수 있음.\n",
        "```\n",
        "for i in range(10, 0, -1):\n",
        "    print(i, end=\" \")\n",
        "```\n",
        "- 출력: 10 9 8 7 6 5 4 3 2 1"
      ],
      "metadata": {
        "id": "TaNQM6aZKjo4"
      }
    },
    {
      "cell_type": "markdown",
      "source": [
        "<br><br>\n",
        "<br>\n",
        "\n",
        "\n",
        "## range 함수 활용 연습문제\n",
        "\n",
        "1. 다음 결과를 출력하는 코드를 range( ) 함수를 사용하여 작성하시오.\n",
        "- [1, 4, 7, 10, 13, 16, 19]\n",
        " - 정답: range(1, 20, 3)\n",
        "\n",
        "<br>\n",
        "\n",
        "2. 다음을 출력하는 range( ) 함수를 작성하시오.\n",
        "- [10, 8, 6, 4, 2]\n",
        " - 정답: range(10, 1, -2)\n",
        "\n",
        "<br>\n",
        "\n",
        "3. 다음을 출력하는 range( ) 함수를 작성하시오.\n",
        "- [100, 90, 80, 70, 60]\n",
        " - 정답: range(100, 50, -10)\n",
        "\n",
        "<br>\n",
        "\n",
        "4. 1부터 20이하의 짝수를 출력하는 range( ) 함수를 작성하시오.\n",
        " - 정답: range(2, 21, 2)\n",
        "\n",
        "<br>\n",
        "\n",
        "5. 다음 range( )함수가 생성해내는 리스트를 작성하시오.\n",
        "- range(0, 21, 7)\n",
        " - 정답: [0, 7, 14]\n",
        "\n",
        "<br>\n",
        "<br>\n",
        "\n",
        "6. 다음 조건을 모두 만족하는 range() 함수를 작성하고, 해당 함수가 생성하는 리스트의 값을 서술하시오. 또한, 이 range() 함수의 각 매개변수(start, stop, step)가 어떻게 작용하는지 직접 설명하시오.\n",
        "  - 조건: 50보다 크고 100 이하이며, 7의 배수만 출력되고 출력되는 수는 내림차순이어야 함.\n",
        "\n",
        "  > 정답 및 출력\n",
        "   - 정답: range(98, 50, -7)\n",
        "   - 출력: [98, 91, 84, 77, 70, 63, 56]\n",
        "\n",
        "\n",
        "\n",
        "\n",
        "\n",
        "\n",
        "\n"
      ],
      "metadata": {
        "id": "6IPvqpt5v4PP"
      }
    },
    {
      "cell_type": "markdown",
      "source": [
        "---\n",
        "중간고사 화이팅\n",
        "---"
      ],
      "metadata": {
        "id": "FeQfSynlHPGV"
      }
    }
  ]
}