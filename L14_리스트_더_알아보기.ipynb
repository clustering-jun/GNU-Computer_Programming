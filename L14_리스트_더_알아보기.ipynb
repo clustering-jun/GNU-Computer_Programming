{
  "nbformat": 4,
  "nbformat_minor": 0,
  "metadata": {
    "colab": {
      "provenance": [],
      "authorship_tag": "ABX9TyOyBRvNzxXlalOhWHW2n7Z8",
      "include_colab_link": true
    },
    "kernelspec": {
      "name": "python3",
      "display_name": "Python 3"
    },
    "language_info": {
      "name": "python"
    }
  },
  "cells": [
    {
      "cell_type": "markdown",
      "metadata": {
        "id": "view-in-github",
        "colab_type": "text"
      },
      "source": [
        "<a href=\"https://colab.research.google.com/github/clustering-jun/GNU-Computer_Programming/blob/main/L14_%EB%A6%AC%EC%8A%A4%ED%8A%B8_%EB%8D%94_%EC%95%8C%EC%95%84%EB%B3%B4%EA%B8%B0.ipynb\" target=\"_parent\"><img src=\"https://colab.research.google.com/assets/colab-badge.svg\" alt=\"Open In Colab\"/></a>"
      ]
    },
    {
      "cell_type": "markdown",
      "source": [
        "# L14. 리스트 더 알아보기\n",
        "\n",
        "## 빈 리스트의 생성과 항목 추가"
      ],
      "metadata": {
        "id": "WPAkBbtuMi1C"
      }
    },
    {
      "cell_type": "code",
      "execution_count": null,
      "metadata": {
        "id": "gXAwILZCMiZK"
      },
      "outputs": [],
      "source": [
        "fr = [ ]\n",
        "type(fr) # <class list>\n",
        "len(fr) # 0\n",
        "\n",
        "fr.append('사과')\n",
        "fr.append('딸기')\n",
        "fr.append('참외')\n",
        "print(fr) # ['사과', '딸기', '참외']\n",
        "\n",
        "len(fr) # 3\n",
        "\n",
        "print(fr[0]) # '사과'\n",
        "\n",
        "# list circuit\n",
        "for i in fr:\n",
        "  print(i)"
      ]
    },
    {
      "cell_type": "markdown",
      "source": [
        "<br>\n",
        "\n",
        "## 리스트 항목의 변경"
      ],
      "metadata": {
        "id": "1eky8QLNPgS_"
      }
    },
    {
      "cell_type": "code",
      "source": [
        "fr = ['사과', '딸기', '참외']\n",
        "print(fr) # ['사과', '딸기', '참외']\n",
        "\n",
        "fr[0] = '배'\n",
        "print(fr) # ['배', '딸기', '참외']\n",
        "\n",
        "# 인덱스 번호를 모르는 경우 '배'를 '수박'으로 바꾸고 싶을 때\n",
        "a = fr.index('배')\n",
        "fr[a] = '수박'\n",
        "print(fr) # ['수박', '딸기', '참외']"
      ],
      "metadata": {
        "id": "CrVkmnusPm0_"
      },
      "execution_count": null,
      "outputs": []
    },
    {
      "cell_type": "markdown",
      "source": [
        "- **문제1. fr =  [ '호두' , '수박' , '사과' ] 일 때,**\n",
        " - '사과'를 '배'로 변경하는 코드를 한 줄로 작성하시오."
      ],
      "metadata": {
        "id": "qsRkeOM3PtkO"
      }
    },
    {
      "cell_type": "code",
      "source": [
        "fr[ fr.index('사과') ] = '배'"
      ],
      "metadata": {
        "id": "7BENsqOzPzV-"
      },
      "execution_count": null,
      "outputs": []
    },
    {
      "cell_type": "markdown",
      "source": [
        "- **문제2. fr =  [ '호두' , '수박' , '배' ] 일 때,**\n",
        " - `fr[ fr.index('사과') ] = '참외'` 를 실행했을 때의 결과를 서술하시오\n",
        "\n",
        " > ValueError: '사과' is not in list"
      ],
      "metadata": {
        "id": "4_8LrE6bQWum"
      }
    },
    {
      "cell_type": "code",
      "source": [
        "# 그렇다면 다음과 같이 예외처리할 수 있음.\n",
        "\n",
        "if '사과' in fr:\n",
        "  fr[ fr.index('사과') ] = '참외'\n",
        "else:\n",
        "  print('사과 없음.')"
      ],
      "metadata": {
        "id": "qQc1bEEWQs9d"
      },
      "execution_count": null,
      "outputs": []
    },
    {
      "cell_type": "markdown",
      "source": [
        "<br>\n",
        "\n",
        "## 리스트 항목 삽입"
      ],
      "metadata": {
        "id": "GPAHS34OQ5D9"
      }
    },
    {
      "cell_type": "code",
      "source": [
        "fr = ['호두', '수박', '배']\n",
        "print(fr) # ['호두', '수박', '배']\n",
        "\n",
        "fr.insert(0, '호박')\n",
        "print(fr) # ['호박', '호두', '수박', '배']\n",
        "\n",
        "fr.insert(1, '사과')\n",
        "print(fr) # ['호박', '사과', '호두', '수박', '배']"
      ],
      "metadata": {
        "id": "dpugLzewRFw1"
      },
      "execution_count": null,
      "outputs": []
    },
    {
      "cell_type": "markdown",
      "source": [
        "- 문제1. 리스트 fr에서 '수박' 항목 앞에 '참외'를 추가하는 코드를 작성하시오."
      ],
      "metadata": {
        "id": "XQcGIlHqRXzl"
      }
    },
    {
      "cell_type": "code",
      "source": [
        "fr.insert[ fr.index('수박'), '참외' ]"
      ],
      "metadata": {
        "id": "LUlCeJ-hRfI1"
      },
      "execution_count": null,
      "outputs": []
    }
  ]
}