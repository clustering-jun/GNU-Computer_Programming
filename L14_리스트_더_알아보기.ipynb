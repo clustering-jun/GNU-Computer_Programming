{
  "nbformat": 4,
  "nbformat_minor": 0,
  "metadata": {
    "colab": {
      "provenance": [],
      "authorship_tag": "ABX9TyPKxB753C8rjK89vr7oX5Bt",
      "include_colab_link": true
    },
    "kernelspec": {
      "name": "python3",
      "display_name": "Python 3"
    },
    "language_info": {
      "name": "python"
    }
  },
  "cells": [
    {
      "cell_type": "markdown",
      "metadata": {
        "id": "view-in-github",
        "colab_type": "text"
      },
      "source": [
        "<a href=\"https://colab.research.google.com/github/clustering-jun/GNU-Computer_Programming/blob/main/L14_%EB%A6%AC%EC%8A%A4%ED%8A%B8_%EB%8D%94_%EC%95%8C%EC%95%84%EB%B3%B4%EA%B8%B0.ipynb\" target=\"_parent\"><img src=\"https://colab.research.google.com/assets/colab-badge.svg\" alt=\"Open In Colab\"/></a>"
      ]
    },
    {
      "cell_type": "markdown",
      "source": [
        "# L14. 리스트 더 알아보기\n",
        "\n",
        "<br>\n",
        "\n",
        "## **[정리] 다양한 메서드**\n",
        "\n",
        "### 1. append( )\n",
        "- 기능: 리스트의 끝에 요소 하나를 추가합니다.\n",
        " - 리스트의 길이가 1 증가합니다.\n",
        " - 반환값은 None입니다.\n",
        "\n",
        "<br>\n",
        "\n",
        "### 2. index( )\n",
        "- 기능: 리스트에서 지정한 값의 첫 번째 인덱스 위치를 반환합니다.\n",
        "- 주의: 값이 리스트에 없으면 ValueError가 발생합니다.\n",
        "\n",
        "```\n",
        "fruits = ['apple', 'banana', 'cherry', 'banana']\n",
        "print(fruits.index('banana'))      # 1 (첫 번째 banana)\n",
        "print(fruits.index('banana', 2))   # 3 (두 번째 banana)\n",
        "```\n",
        "\n",
        "<br>\n",
        "\n",
        "\n",
        "### 3. insert( )\n",
        "- 형식: list.insert(index, x)\n",
        "- 기능: 지정한 인덱스 위치에 값 x를 삽입합니다.\n",
        "- 주의:\n",
        " - 기존 요소들은 한 칸씩 뒤로 밀림.\n",
        " - 리스트 길이는 1 증가\n",
        " - 음수 인덱스도 가능\n",
        " - 범위를 벗어난 인덱스도 허용\n",
        "\n",
        "<br>\n",
        "\n",
        "### 4. remove( )\n",
        "- 형식: list.remove(x)\n",
        "- 기능: 리스트에서 값 x를 찾아 가장 먼저 나오는 항목을 삭제합니다.\n",
        "- 주의:\n",
        " - 해당 값이 여러 개 있더라도 가장 앞의 하나만 제거됩니다.\n",
        " - 값이 리스트에 없으면 ValueError가 발생합니다.\n",
        "\n",
        "- 예외처리 예시\n",
        "```\n",
        "if 'banana' in fruits:\n",
        "    fruits.remove('banana')\n",
        "```\n",
        "\n",
        "\n",
        "\n",
        "\n",
        "<br>\n",
        "\n",
        "### 5. del\n",
        "- 형식: del list[index] 또는 del list[start:stop]\n",
        "- 기능: 지정한 인덱스나 슬라이스 범위의 요소를 삭제합니다.\n",
        "- 주의:\n",
        " - 슬라이스를 사용할 경우 여러 요소를 한 번에 삭제할 수 있습니다.\n",
        " - 삭제 후 리스트의 길이는 줄어듭니다.\n",
        " - 존재하지 않는 인덱스를 지정하면 IndexError가 발생합니다.\n",
        " - 변수 자체를 삭제할 수도 있음: del list\n",
        "\n",
        "<br>\n",
        "\n",
        "### 6. pop( )\n",
        "- 형식: list.pop() 또는 list.pop(index)\n",
        "- 기능: 지정한 인덱스 위치의 요소를 제거하고 그 값을 반환합니다.\n",
        "- 주의:\n",
        " - 인덱스를 생략하면 마지막 요소를 제거하고 반환합니다.\n",
        " - 지정한 인덱스가 리스트 범위를 벗어나면 IndexError가 발생합니다.\n",
        " - 제거된 값을 사용해야 할 때 유용합니다.\n",
        "\n",
        "<br>\n",
        "<br>\n",
        "<br>\n",
        "\n",
        "---\n",
        "\n",
        "## **빈 리스트의 생성과 항목 추가**"
      ],
      "metadata": {
        "id": "WPAkBbtuMi1C"
      }
    },
    {
      "cell_type": "code",
      "execution_count": null,
      "metadata": {
        "id": "gXAwILZCMiZK"
      },
      "outputs": [],
      "source": [
        "fr = [ ]\n",
        "type(fr) # <class list>\n",
        "len(fr) # 0\n",
        "\n",
        "fr.append('사과')\n",
        "fr.append('딸기')\n",
        "fr.append('참외')\n",
        "print(fr) # ['사과', '딸기', '참외']\n",
        "\n",
        "len(fr) # 3\n",
        "\n",
        "print(fr[0]) # '사과'\n",
        "\n",
        "# list circuit\n",
        "for i in fr:\n",
        "  print(i)"
      ]
    },
    {
      "cell_type": "markdown",
      "source": [
        "<br>\n",
        "\n",
        "## 리스트 항목의 변경"
      ],
      "metadata": {
        "id": "1eky8QLNPgS_"
      }
    },
    {
      "cell_type": "code",
      "source": [
        "fr = ['사과', '딸기', '참외']\n",
        "print(fr) # ['사과', '딸기', '참외']\n",
        "\n",
        "fr[0] = '배'\n",
        "print(fr) # ['배', '딸기', '참외']\n",
        "\n",
        "# 인덱스 번호를 모르는 경우 '배'를 '수박'으로 바꾸고 싶을 때\n",
        "a = fr.index('배')\n",
        "fr[a] = '수박'\n",
        "print(fr) # ['수박', '딸기', '참외']"
      ],
      "metadata": {
        "id": "CrVkmnusPm0_"
      },
      "execution_count": null,
      "outputs": []
    },
    {
      "cell_type": "markdown",
      "source": [
        "- **문제1. fr =  [ '호두' , '수박' , '사과' ] 일 때,**\n",
        " - '사과'를 '배'로 변경하는 코드를 한 줄로 작성하시오."
      ],
      "metadata": {
        "id": "qsRkeOM3PtkO"
      }
    },
    {
      "cell_type": "code",
      "source": [
        "fr[ fr.index('사과') ] = '배'"
      ],
      "metadata": {
        "id": "7BENsqOzPzV-"
      },
      "execution_count": null,
      "outputs": []
    },
    {
      "cell_type": "markdown",
      "source": [
        "- **문제2. fr =  [ '호두' , '수박' , '배' ] 일 때,**\n",
        " - `fr[ fr.index('사과') ] = '참외'` 를 실행했을 때의 결과를 서술하시오\n",
        "\n",
        " > ValueError: '사과' is not in list"
      ],
      "metadata": {
        "id": "4_8LrE6bQWum"
      }
    },
    {
      "cell_type": "code",
      "source": [
        "# 그렇다면 다음과 같이 예외처리할 수 있음.\n",
        "\n",
        "if '사과' in fr:\n",
        "  fr[ fr.index('사과') ] = '참외'\n",
        "else:\n",
        "  print('존재하지 않음.')"
      ],
      "metadata": {
        "id": "qQc1bEEWQs9d"
      },
      "execution_count": null,
      "outputs": []
    },
    {
      "cell_type": "markdown",
      "source": [
        "<br>\n",
        "\n",
        "## 리스트 항목 삽입"
      ],
      "metadata": {
        "id": "GPAHS34OQ5D9"
      }
    },
    {
      "cell_type": "code",
      "source": [
        "fr = ['호두', '수박', '배']\n",
        "print(fr) # ['호두', '수박', '배']\n",
        "\n",
        "fr.insert(0, '호박')\n",
        "print(fr) # ['호박', '호두', '수박', '배']"
      ],
      "metadata": {
        "id": "dpugLzewRFw1"
      },
      "execution_count": null,
      "outputs": []
    },
    {
      "cell_type": "markdown",
      "source": [
        "- 문제1. 리스트 fr에서 '수박' 항목 앞에 '참외'를 추가하는 코드를 작성하시오."
      ],
      "metadata": {
        "id": "XQcGIlHqRXzl"
      }
    },
    {
      "cell_type": "code",
      "source": [
        "fr.insert[ fr.index('수박'), '참외' ]\n",
        "\n",
        "print(fr) # ['호박', '호두', '참외', '수박', '배']"
      ],
      "metadata": {
        "id": "LUlCeJ-hRfI1"
      },
      "execution_count": null,
      "outputs": []
    },
    {
      "cell_type": "markdown",
      "source": [
        "<br>\n",
        "\n",
        "## 리스트 항목 삭제\n",
        "\n",
        "### **1. remove( )**"
      ],
      "metadata": {
        "id": "obZTrfOdRwUs"
      }
    },
    {
      "cell_type": "code",
      "source": [
        "fr = ['호박', '호두', '참외', '수박', '배']\n",
        "\n",
        "fr.remove('수박')\n",
        "print(fr) # ['호박', '호두', '참외', '배']"
      ],
      "metadata": {
        "id": "zVD34g1-Rxf0",
        "outputId": "4cfb72c4-21de-4285-946e-44574b8a8c73",
        "colab": {
          "base_uri": "https://localhost:8080/"
        }
      },
      "execution_count": null,
      "outputs": [
        {
          "output_type": "stream",
          "name": "stdout",
          "text": [
            "['호박', '호두', '참외', '배']\n"
          ]
        }
      ]
    },
    {
      "cell_type": "markdown",
      "source": [
        "- **문제1. fr =  [ '호박' , '호두' , '참외' , '배' ] 일 때,**\n",
        " - `fr.remove('수박')` 를 실행했을 때의 결과를 서술하시오\n",
        "\n",
        " > ValueError: list.remove(x): x is not in list"
      ],
      "metadata": {
        "id": "sSVh7G8KR_ul"
      }
    },
    {
      "cell_type": "code",
      "source": [
        "# 그렇다면 다음과 같이 예외처리할 수 있음.\n",
        "fr = ['호박', '호두', '참외', '수박', '배']\n",
        "\n",
        "if '수박' in fr:\n",
        "  fr.remove('수박')\n",
        "  print(fr) # ['호박', '호두', '참외', '배']\n",
        "else:\n",
        "  print('존재하지 않음.')"
      ],
      "metadata": {
        "id": "22g5J0lGSLzE",
        "outputId": "27860b99-e9e9-4516-d524-645e8701f4a4",
        "colab": {
          "base_uri": "https://localhost:8080/"
        }
      },
      "execution_count": null,
      "outputs": [
        {
          "output_type": "stream",
          "name": "stdout",
          "text": [
            "['호박', '호두', '참외', '배']\n"
          ]
        }
      ]
    },
    {
      "cell_type": "code",
      "source": [
        "fr = ['호박', '호두', '참외', '수박', '배']\n",
        "\n",
        "for i in range( len(fr) ):\n",
        "  if '수박' in fr:\n",
        "    fr.remove('수박')\n",
        "    print(fr) # ['호박', '호두', '참외', '배']\n",
        "  else:\n",
        "    print('존재하지 않음.')"
      ],
      "metadata": {
        "id": "6f78bF0RR52N",
        "outputId": "f8eda9d4-3b52-47f6-a782-78bd82196718",
        "colab": {
          "base_uri": "https://localhost:8080/"
        }
      },
      "execution_count": null,
      "outputs": [
        {
          "output_type": "stream",
          "name": "stdout",
          "text": [
            "['호박', '호두', '참외', '배']\n",
            "존재하지 않음.\n",
            "존재하지 않음.\n",
            "존재하지 않음.\n",
            "존재하지 않음.\n"
          ]
        }
      ]
    },
    {
      "cell_type": "markdown",
      "source": [
        "- **활용**"
      ],
      "metadata": {
        "id": "67iy1ungTEJr"
      }
    },
    {
      "cell_type": "code",
      "source": [
        "fr = ['호박', '호두', '참외', '배']\n",
        "\n",
        "fr.append('호박')\n",
        "print(fr) # fr = ['호박', '호두', '참외', '배', '호박']\n",
        "\n",
        "fr.remove('호박')\n",
        "print(fr) # ['호두', '참외', '배', '호박']\n",
        "\n",
        "fr.append('호박')\n",
        "print(fr) # fr = ['호두', '참외', '배', '호박', '호박']\n",
        "\n",
        "\n",
        "\n",
        "for i in range( len(fr) ):\n",
        "  if fr[i] == '호박':\n",
        "    fr.remove('호박')\n",
        "  else:\n",
        "    print('존재하지 않음.')\n",
        "\n",
        "print(fr) # ['호두', '참외', '배']"
      ],
      "metadata": {
        "id": "5loMheP0SZNE"
      },
      "execution_count": null,
      "outputs": []
    },
    {
      "cell_type": "markdown",
      "source": [
        "- 리스트에서 값 x를 찾아 가장 먼저 나오는 항목을 삭제한다. 다만, 해당 값이 여러 개 있더라도 가장 앞의 하나만 제거된다.\n",
        "\n"
      ],
      "metadata": {
        "id": "krIXQLf2TMdE"
      }
    },
    {
      "cell_type": "markdown",
      "source": [
        "### **2. del**"
      ],
      "metadata": {
        "id": "CyMXFXL3QqSV"
      }
    },
    {
      "cell_type": "code",
      "source": [
        "als = ['부산','진주','김해','고흥']\n",
        "\n",
        "del (als[0])\n",
        "print(als)\n",
        "\n",
        "del (als[:])\n",
        "print(als)"
      ],
      "metadata": {
        "id": "xLYBt8NIQxSd",
        "outputId": "c9bc53e9-e1cd-40d1-a0f2-8813ac2c382b",
        "colab": {
          "base_uri": "https://localhost:8080/"
        }
      },
      "execution_count": null,
      "outputs": [
        {
          "output_type": "stream",
          "name": "stdout",
          "text": [
            "['진주', '김해', '고흥']\n",
            "[]\n"
          ]
        }
      ]
    },
    {
      "cell_type": "code",
      "source": [
        "als = ['부산','진주','김해','고흥']\n",
        "del (als)\n",
        "\n",
        "print(als) # NameError: name 'als' is not defined"
      ],
      "metadata": {
        "id": "MHRFxf51TDrr",
        "outputId": "454f0b2f-da08-4714-efe2-9b81aadf2993",
        "colab": {
          "base_uri": "https://localhost:8080/",
          "height": 176
        }
      },
      "execution_count": null,
      "outputs": [
        {
          "output_type": "error",
          "ename": "NameError",
          "evalue": "name 'als' is not defined",
          "traceback": [
            "\u001b[0;31m---------------------------------------------------------------------------\u001b[0m",
            "\u001b[0;31mNameError\u001b[0m                                 Traceback (most recent call last)",
            "\u001b[0;32m<ipython-input-57-f9a1eccc2ff1>\u001b[0m in \u001b[0;36m<cell line: 0>\u001b[0;34m()\u001b[0m\n\u001b[1;32m      2\u001b[0m \u001b[0;32mdel\u001b[0m \u001b[0;34m(\u001b[0m\u001b[0mals\u001b[0m\u001b[0;34m)\u001b[0m\u001b[0;34m\u001b[0m\u001b[0;34m\u001b[0m\u001b[0m\n\u001b[1;32m      3\u001b[0m \u001b[0;34m\u001b[0m\u001b[0m\n\u001b[0;32m----> 4\u001b[0;31m \u001b[0mprint\u001b[0m\u001b[0;34m(\u001b[0m\u001b[0mals\u001b[0m\u001b[0;34m)\u001b[0m \u001b[0;31m# NameError: name 'als' is not defined\u001b[0m\u001b[0;34m\u001b[0m\u001b[0;34m\u001b[0m\u001b[0m\n\u001b[0m",
            "\u001b[0;31mNameError\u001b[0m: name 'als' is not defined"
          ]
        }
      ]
    },
    {
      "cell_type": "markdown",
      "source": [
        "### **3. pop**"
      ],
      "metadata": {
        "id": "rlzPU0gKTqka"
      }
    },
    {
      "cell_type": "code",
      "source": [
        "li = [1,5,2,6]\n",
        "li.pop() # 6\n",
        "\n",
        "data = li.pop()\n",
        "print(data) # 2\n",
        "print(type(data)) # int\n",
        "\n",
        "print(li) # [1, 5]\n",
        "\n",
        "a = li.pop(0)\n",
        "print(a) # 1\n",
        "\n",
        "print(li) # [5]"
      ],
      "metadata": {
        "id": "bqJRBbaMTKBq",
        "outputId": "6e99dbf2-0d63-4e25-d89b-c2a1cf05b41b",
        "colab": {
          "base_uri": "https://localhost:8080/"
        }
      },
      "execution_count": null,
      "outputs": [
        {
          "output_type": "stream",
          "name": "stdout",
          "text": [
            "2\n",
            "<class 'int'>\n",
            "[1, 5]\n",
            "1\n",
            "[5]\n"
          ]
        }
      ]
    },
    {
      "cell_type": "markdown",
      "source": [
        "<br>\n",
        "<br>\n",
        "\n",
        "## **리스트 슬라이싱(slicing)**\n",
        "- 여러 개의 항목을 추출하는 기법\n",
        "- 슬라이싱을 해 와도 원본은 그대로 유지됨. 잘라서 가져오는 것이 아니라 읽어 오는 것"
      ],
      "metadata": {
        "id": "VoCg7EEuNOzA"
      }
    },
    {
      "cell_type": "code",
      "source": [
        "letters = ['A', 'B', 'C', 'D', 'E', 'F']\n",
        "print(letters[0:3])\n",
        "print(letters[:3])\n",
        "print(letters[3:])\n",
        "print(letters[:])"
      ],
      "metadata": {
        "id": "9ARaZIcTNTzQ",
        "outputId": "d39a60d8-88e0-4007-ba51-9220e1d6379e",
        "colab": {
          "base_uri": "https://localhost:8080/"
        }
      },
      "execution_count": null,
      "outputs": [
        {
          "output_type": "stream",
          "name": "stdout",
          "text": [
            "['A', 'B', 'C']\n",
            "['A', 'B', 'C']\n",
            "['D', 'E', 'F']\n",
            "['A', 'B', 'C', 'D', 'E', 'F']\n"
          ]
        }
      ]
    },
    {
      "cell_type": "code",
      "source": [
        "print(letters[0:len(letters)])\n",
        "print(letters[:])\n",
        "\n",
        "letters2 = letters[0:3] # ['A', 'B', 'C']\n",
        "letters3 = letters2 # 복사하라는 뜻이 아님 새로운 이름을 부여\n",
        "\n",
        "print(letters3)\n",
        "letters3.remove('A')\n",
        "\n",
        "print(letters3)\n",
        "print(letters2)"
      ],
      "metadata": {
        "id": "2hmHZ2S_OMrv",
        "outputId": "7153d259-9e9b-43b2-dc87-016786c23b64",
        "colab": {
          "base_uri": "https://localhost:8080/"
        }
      },
      "execution_count": null,
      "outputs": [
        {
          "output_type": "stream",
          "name": "stdout",
          "text": [
            "['A', 'B', 'C', 'D', 'E', 'F']\n",
            "['A', 'B', 'C', 'D', 'E', 'F']\n",
            "['A', 'B', 'C']\n",
            "['B', 'C']\n",
            "['B', 'C']\n"
          ]
        }
      ]
    },
    {
      "cell_type": "markdown",
      "source": [
        "- 정리\n",
        "파이썬에서 리스트는 변경 가능한(mutable) 자료형이기 때문에, 리스트를 복사하거나 다른 변수에 할당할 때 참조(Reference) 와 복사(Copy) 의 차이를 정확히 이해하는 것이 매우 중요.\n",
        "\n",
        "- 우선, 리스트를 다른 변수에 그대로 할당하는 경우를 살펴보면, 이는 실제로 복사를 하는 것이 아니라 같은 객체를 두 이름으로 가리키는 것임. 예를 들어 `letters2 = letters[0:3]`으로 리스트의 일부를 슬라이싱해서 새 리스트를 만들고, 그 결과를 `letters3 = letters2`로 할당하면, `letters3`는 `letters2`와 동일한 리스트 객체를 참조하게 됨. 이 상태에서 `letters3.remove('A')`와 같이 리스트를 수정하면, letters2 역시 함께 변경됨. 두 변수는 동일한 메모리 주소를 공유하고 있기 때문.\n",
        "\n",
        "- 반면에 리스트의 독립적인 사본을 만들고 싶다면, 복사 기능을 명시적으로 사용해야 함. 가장 간단한 방법은 슬라이싱을 활용한 `letters3 = letters2[:]` 이 방법은 리스트의 얕은 복사(shallow copy)를 수행하여, 새로운 리스트 객체를 생성함. 이렇게 생성된 리스트는 `letters2`와 같은 값을 가지지만, 서로 독립적인 객체이기 때문에 한쪽을 수정해도 다른 쪽에 영향을 주지 않음.\n"
      ],
      "metadata": {
        "id": "FAc4tooXPD_P"
      }
    },
    {
      "cell_type": "code",
      "source": [
        "letters4 = letters2[:]\n",
        "print(letters2)\n",
        "\n",
        "letters2[1] = 'Z'\n",
        "print(letters2)\n",
        "\n",
        "print(letters)"
      ],
      "metadata": {
        "id": "bTrDt3CFQANe",
        "outputId": "20c36ebe-ae96-42b8-956e-b0d371cfe2d9",
        "colab": {
          "base_uri": "https://localhost:8080/"
        }
      },
      "execution_count": null,
      "outputs": [
        {
          "output_type": "stream",
          "name": "stdout",
          "text": [
            "['B', 'C']\n",
            "['B', 'Z']\n",
            "['A', 'B', 'C', 'D', 'E', 'F']\n"
          ]
        }
      ]
    },
    {
      "cell_type": "markdown",
      "source": [
        "<br>\n",
        "<br>\n",
        "\n",
        "## **리스트 기본 기능을 이용한 학생 명단 관리 구현**\n",
        "![image.png](data:image/png;base64,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)"
      ],
      "metadata": {
        "id": "jYQzP4_QXpU2"
      }
    },
    {
      "cell_type": "code",
      "source": [
        "# 빈 리스트 생성\n",
        "NList = [] #NList = list()\n",
        "\n",
        "while True:\n",
        "  menu = input('[1:입력]  [2:출력]  [3:삭제]  [4:종료]  [5:변경]  : ')\n",
        "\n",
        "  # 프로그램 종료\n",
        "  if menu == '4':\n",
        "    break\n",
        "\n",
        "\n",
        "  # 이름 추가하기\n",
        "  elif menu == '1':\n",
        "    for i in range(5):\n",
        "      name = input('이름: ')\n",
        "      NList.append(name)\n",
        "\n",
        "\n",
        "  # 출력양식에 맞도록 학생 명단 출력하기\n",
        "  elif menu == '2':\n",
        "    if len(NList) == 0:\n",
        "      print('출력할 자료 없음.')\n",
        "\n",
        "    else:\n",
        "      print('\\n==학생 명단==')\n",
        "      for name in NList:\n",
        "        print(name)\n",
        "\n",
        "\n",
        "  # 특정학생 삭제\n",
        "  elif menu == '3':\n",
        "    name = input('삭제할 이름: ')\n",
        "\n",
        "    for i in range( len(NList) ):\n",
        "      if name in NList:\n",
        "        NList.remove(name)\n",
        "\n",
        "\n",
        "    if len(NList) == 0:\n",
        "      print('출력할 자료 없음.')\n",
        "\n",
        "    else:\n",
        "      print('==학생 명단==')\n",
        "      for name in NList:\n",
        "        print(name)\n",
        "\n",
        "\n",
        "  # 변경하기\n",
        "  elif menu == '5':\n",
        "    target = input('변경하고 싶은 이름: ')\n",
        "    new_name = input('새 이름: ')\n",
        "\n",
        "    NList[ NList.index(target) ] = new_name"
      ],
      "metadata": {
        "id": "yYUV-2UXXy62",
        "outputId": "9e87cbe9-58d8-4ee6-f9ab-2513910006fa",
        "colab": {
          "base_uri": "https://localhost:8080/"
        }
      },
      "execution_count": null,
      "outputs": [
        {
          "name": "stdout",
          "output_type": "stream",
          "text": [
            "[1:입력]  [2:출력]  [3:삭제]  [4:종료]  [5:변경]  : 1\n",
            "이름: a\n",
            "이름: b\n",
            "이름: c\n",
            "이름: d\n",
            "이름: e\n",
            "[1:입력]  [2:출력]  [3:삭제]  [4:종료]  [5:변경]  : 5\n",
            "변경하고 싶은 이름: a\n",
            "새 이름: z\n",
            "[1:입력]  [2:출력]  [3:삭제]  [4:종료]  [5:변경]  : 3\n",
            "삭제할 이름: c\n",
            "==학생 명단==\n",
            "z\n",
            "b\n",
            "d\n",
            "e\n",
            "[1:입력]  [2:출력]  [3:삭제]  [4:종료]  [5:변경]  : 2\n",
            "\n",
            "==학생 명단==\n",
            "z\n",
            "b\n",
            "d\n",
            "e\n",
            "[1:입력]  [2:출력]  [3:삭제]  [4:종료]  [5:변경]  : 5\n",
            "변경하고 싶은 이름: e\n",
            "새 이름: v\n",
            "[1:입력]  [2:출력]  [3:삭제]  [4:종료]  [5:변경]  : 2\n",
            "\n",
            "==학생 명단==\n",
            "z\n",
            "b\n",
            "d\n",
            "v\n",
            "[1:입력]  [2:출력]  [3:삭제]  [4:종료]  [5:변경]  : 4\n"
          ]
        }
      ]
    },
    {
      "cell_type": "markdown",
      "source": [
        "## 정렬(sorting)\n",
        "- 일정한 규칙에 따라 자료를 순서대로 나열하는 것.\n",
        " - 종류: 오름차순, 내림차순\n",
        "\n",
        "<br>\n",
        "\n",
        "- **sort( )**: 정렬시키는 메서드. 원본 리스트를 변경시킴. (기본값: 오름차순)"
      ],
      "metadata": {
        "id": "6FGOoD8V_uXH"
      }
    },
    {
      "cell_type": "code",
      "source": [
        "li = [ 30, 20, 10 , 50, 20] # 1차원 리스트\n",
        "\n",
        "li.sort()\n",
        "print(li) # [10, 20, 20, 30, 50] : 오름차순 정렬\n",
        "\n",
        "li.sort(reverse=True)\n",
        "print(li) # [50, 30, 20, 20, 10] : 내림차순 정렬"
      ],
      "metadata": {
        "id": "gUwyyQ7w_73-",
        "outputId": "9a431e9d-8655-4a90-aa66-895690aa844a",
        "colab": {
          "base_uri": "https://localhost:8080/"
        }
      },
      "execution_count": null,
      "outputs": [
        {
          "output_type": "stream",
          "name": "stdout",
          "text": [
            "[10, 20, 20, 30, 50]\n",
            "[50, 30, 20, 20, 10]\n"
          ]
        }
      ]
    },
    {
      "cell_type": "markdown",
      "source": [
        "- **sorted( )**: 원래의 데이터를 변경하지 않고, 정렬된 새로운 리스트를 반환 (기본: 오름차순)"
      ],
      "metadata": {
        "id": "ZRX01RONBoQF"
      }
    },
    {
      "cell_type": "code",
      "source": [
        "li = [ 30, 20, 10 , 50, 20] # 1차원 리스트\n",
        "\n",
        "print(sorted(li)) # [10, 20, 20, 30, 50]\n",
        "print(li) # [30, 20, 10, 50, 20] : 원래의 데이터는 변경하지 않음. (sort()메서드와의 차이점)"
      ],
      "metadata": {
        "id": "HG6vhOjTBe39",
        "outputId": "87702381-1b73-499d-92da-a064b5104a8b",
        "colab": {
          "base_uri": "https://localhost:8080/"
        }
      },
      "execution_count": null,
      "outputs": [
        {
          "output_type": "stream",
          "name": "stdout",
          "text": [
            "[10, 20, 20, 30, 50]\n",
            "[30, 20, 10, 50, 20]\n"
          ]
        }
      ]
    },
    {
      "cell_type": "markdown",
      "source": [
        "<br>\n",
        "<br>\n",
        "\n",
        "## **학생명단 관리 프로그램에 정렬 기능 추가하기.**"
      ],
      "metadata": {
        "id": "m0iC5_IkCC0T"
      }
    },
    {
      "cell_type": "code",
      "source": [
        "# 빈 리스트 생성\n",
        "NList = [] #NList = list()\n",
        "\n",
        "while True:\n",
        "  menu = input('[1:입력]  [2:출력]  [3:삭제]  [4:종료]  [5:변경]  [6:정렬]  : ')\n",
        "\n",
        "  # 프로그램 종료\n",
        "  if menu == '4':\n",
        "    break\n",
        "\n",
        "\n",
        "  # 이름 추가하기\n",
        "  elif menu == '1':\n",
        "    for i in range(5):\n",
        "      name = input('이름: ')\n",
        "      NList.append(name)\n",
        "\n",
        "\n",
        "  # 출력양식에 맞도록 학생 명단 출력하기\n",
        "  elif menu == '2':\n",
        "    if len(NList) == 0:\n",
        "      print('출력할 자료 없음.')\n",
        "\n",
        "    else:\n",
        "      print('\\n==학생 명단==')\n",
        "      for name in NList:\n",
        "        print(name)\n",
        "\n",
        "\n",
        "  # 특정학생 삭제\n",
        "  elif menu == '3':\n",
        "    name = input('삭제할 이름: ')\n",
        "\n",
        "    for i in range( len(NList) ):\n",
        "      if name in NList:\n",
        "        NList.remove(name)\n",
        "\n",
        "\n",
        "    if len(NList) == 0:\n",
        "      print('출력할 자료 없음.')\n",
        "\n",
        "    else:\n",
        "      print('==학생 명단==')\n",
        "      for name in NList:\n",
        "        print(name)\n",
        "\n",
        "\n",
        "  # 변경하기\n",
        "  elif menu == '5':\n",
        "    target = input('변경하고 싶은 이름: ')\n",
        "    new_name = input('새 이름: ')\n",
        "\n",
        "    NList[ NList.index(target) ] = new_name\n",
        "\n",
        "\n",
        "  elif menu == '6':\n",
        "    NList.sort()\n",
        "\n",
        "    if len(NList) == 0:\n",
        "      print('출력할 자료 없음.')\n",
        "\n",
        "    else:\n",
        "      print('\\n==학생 명단==')\n",
        "      for name in NList:\n",
        "        print(name)"
      ],
      "metadata": {
        "id": "6xhSQmMtCMyT",
        "outputId": "16f4f609-5d56-4b08-91fb-731dc8a21bbb",
        "colab": {
          "base_uri": "https://localhost:8080/"
        }
      },
      "execution_count": null,
      "outputs": [
        {
          "name": "stdout",
          "output_type": "stream",
          "text": [
            "[1:입력]  [2:출력]  [3:삭제]  [4:종료]  [5:변경]  [6:정렬]  : 1\n",
            "이름: c\n",
            "이름: e\n",
            "이름: a\n",
            "이름: c\n",
            "이름: b\n",
            "[1:입력]  [2:출력]  [3:삭제]  [4:종료]  [5:변경]  [6:정렬]  : 6\n",
            "\n",
            "==학생 명단==\n",
            "a\n",
            "b\n",
            "c\n",
            "c\n",
            "e\n",
            "[1:입력]  [2:출력]  [3:삭제]  [4:종료]  [5:변경]  [6:정렬]  : 4\n"
          ]
        }
      ]
    },
    {
      "cell_type": "markdown",
      "source": [
        "<br>\n",
        "\n",
        "## **학생명단 관리 프로그램에 삽입 기능 추가하기.**"
      ],
      "metadata": {
        "id": "qpN9wI-zDG4K"
      }
    },
    {
      "cell_type": "code",
      "source": [
        "from token import NL\n",
        "# 빈 리스트 생성\n",
        "NList = [] #NList = list()\n",
        "\n",
        "while True:\n",
        "  menu = input('[1:입력]  [2:출력]  [3:삭제]  [4:종료]  [5:변경]  [6:정렬]  [7:삽입]  : ')\n",
        "\n",
        "  # 프로그램 종료\n",
        "  if menu == '4':\n",
        "    break\n",
        "\n",
        "\n",
        "  # 이름 추가하기\n",
        "  elif menu == '1':\n",
        "    for i in range(5):\n",
        "      name = input('이름: ')\n",
        "      NList.append(name)\n",
        "\n",
        "\n",
        "  # 출력양식에 맞도록 학생 명단 출력하기\n",
        "  elif menu == '2':\n",
        "    if len(NList) == 0:\n",
        "      print('출력할 자료 없음.')\n",
        "\n",
        "    else:\n",
        "      print('\\n==학생 명단==')\n",
        "      for name in NList:\n",
        "        print(name)\n",
        "\n",
        "\n",
        "  # 특정학생 삭제\n",
        "  elif menu == '3':\n",
        "    name = input('삭제할 이름: ')\n",
        "\n",
        "    for i in range( len(NList) ):\n",
        "      if name in NList:\n",
        "        NList.remove(name)\n",
        "\n",
        "\n",
        "    if len(NList) == 0:\n",
        "      print('출력할 자료 없음.')\n",
        "\n",
        "    else:\n",
        "      print('==학생 명단==')\n",
        "      for name in NList:\n",
        "        print(name)\n",
        "\n",
        "\n",
        "  # 변경하기\n",
        "  elif menu == '5':\n",
        "    target = input('변경하고 싶은 이름: ')\n",
        "    new_name = input('새 이름: ')\n",
        "\n",
        "    NList[ NList.index(target) ] = new_name\n",
        "\n",
        "\n",
        "  elif menu == '6':\n",
        "    NList.sort()\n",
        "\n",
        "    if len(NList) == 0:\n",
        "      print('출력할 자료 없음.')\n",
        "\n",
        "    else:\n",
        "      print('\\n==학생 명단==')\n",
        "      for name in NList:\n",
        "        print(name)\n",
        "\n",
        "  elif menu == '7':\n",
        "    src = input('삽입할 이름 입력: ')\n",
        "    print(NList)\n",
        "    trg = input('어떤 이름 앞에 삽입: ')\n",
        "\n",
        "    if trg in NList:\n",
        "      NList.insert(NList.index(trg) , src)\n",
        "      print('\\n==삽입결과==')\n",
        "      print(NList)\n",
        "\n",
        "    else:\n",
        "      print('오류: 범위가 올바르지 않습니다.')"
      ],
      "metadata": {
        "id": "PShoPcasDGgT",
        "outputId": "23eb438e-4c88-42f5-9e6d-5a15cab52492",
        "colab": {
          "base_uri": "https://localhost:8080/"
        }
      },
      "execution_count": null,
      "outputs": [
        {
          "name": "stdout",
          "output_type": "stream",
          "text": [
            "[1:입력]  [2:출력]  [3:삭제]  [4:종료]  [5:변경]  [6:정렬]  [7:삽입]  : 1\n",
            "이름: a\n",
            "이름: b\n",
            "이름: c\n",
            "이름: d\n",
            "이름: e\n",
            "[1:입력]  [2:출력]  [3:삭제]  [4:종료]  [5:변경]  [6:정렬]  [7:삽입]  : 7\n",
            "삽입할 이름 입력: AAA\n",
            "['a', 'b', 'c', 'd', 'e']\n",
            "어떤 이름 앞에 삽입: c\n",
            "\n",
            "==삽입결과==\n",
            "['a', 'b', 'AAA', 'c', 'd', 'e']\n",
            "[1:입력]  [2:출력]  [3:삭제]  [4:종료]  [5:변경]  [6:정렬]  [7:삽입]  : 4\n"
          ]
        }
      ]
    },
    {
      "cell_type": "markdown",
      "source": [
        "\n",
        "<br>\n",
        "<br>\n",
        "<br>\n",
        "\n",
        "---\n",
        "\n",
        "<br>\n",
        "<br>\n",
        "\n",
        "## **2차원 리스트에 대한 이해**"
      ],
      "metadata": {
        "id": "rtyw_FDkD4vw"
      }
    },
    {
      "cell_type": "code",
      "source": [
        "li = [ 20, 30, 40]\n",
        "print(type(li))\n",
        "print(len(li))\n",
        "print(li[0])"
      ],
      "metadata": {
        "id": "vqKBH6N1D-O4",
        "outputId": "4f0c1766-4b67-4355-c0c8-c9344bbd3173",
        "colab": {
          "base_uri": "https://localhost:8080/"
        }
      },
      "execution_count": 2,
      "outputs": [
        {
          "output_type": "stream",
          "name": "stdout",
          "text": [
            "<class 'list'>\n",
            "3\n",
            "20\n"
          ]
        }
      ]
    },
    {
      "cell_type": "code",
      "source": [
        "ll = [ [ 20, 40, 60 ], [ 10, 30, 50 ] ]\n",
        "\n",
        "print(ll[0]) # 0번 행을 출력\n",
        "print(ll[0][2]) # 0번 행의 2번째 열의 데이터 출력\n",
        "print(ll[1][1]) # 1행 1열 데이터 출력\n",
        "\n",
        "ll[0][0] = 25   # 20을 25로 수정\n",
        "ll[1][2] = 500  # 50을 500으로 수정\n",
        "print(ll)"
      ],
      "metadata": {
        "id": "g8IpyiTOF_RO",
        "outputId": "37da21f2-db13-4458-94b0-324cbe1ebb2b",
        "colab": {
          "base_uri": "https://localhost:8080/"
        }
      },
      "execution_count": 13,
      "outputs": [
        {
          "output_type": "stream",
          "name": "stdout",
          "text": [
            "[20, 40, 60]\n",
            "60\n",
            "30\n",
            "[[25, 40, 60], [10, 30, 500]]\n"
          ]
        }
      ]
    },
    {
      "cell_type": "markdown",
      "source": [
        "### 2차원 리스트를 순회하는 방법 1"
      ],
      "metadata": {
        "id": "7exMBAcpIbc0"
      }
    },
    {
      "cell_type": "code",
      "source": [
        "for i in range(len(ll)):\n",
        "  for j in range(len(ll[i])):\n",
        "    print(ll[i][j], end=' ')\n",
        "  print()"
      ],
      "metadata": {
        "id": "Gu7v3E6oHTU1",
        "outputId": "0e5798c3-2be1-4142-fdec-62b594500358",
        "colab": {
          "base_uri": "https://localhost:8080/"
        }
      },
      "execution_count": 15,
      "outputs": [
        {
          "output_type": "stream",
          "name": "stdout",
          "text": [
            "25 40 60 \n",
            "10 30 500 \n"
          ]
        }
      ]
    },
    {
      "cell_type": "markdown",
      "source": [
        "### 2차원 리스트를 순회하는 방법 2"
      ],
      "metadata": {
        "id": "5T7VKzy_IhFz"
      }
    },
    {
      "cell_type": "code",
      "source": [
        "for row in ll:\n",
        "  for col in row:\n",
        "    print(col, end=' ')\n",
        "  print()"
      ],
      "metadata": {
        "id": "xAsYKnKPIjL8",
        "outputId": "ae5882a9-7989-43e9-8854-86d8dba8632b",
        "colab": {
          "base_uri": "https://localhost:8080/"
        }
      },
      "execution_count": 17,
      "outputs": [
        {
          "output_type": "stream",
          "name": "stdout",
          "text": [
            "25 40 60 \n",
            "10 30 500 \n"
          ]
        }
      ]
    }
  ]
}