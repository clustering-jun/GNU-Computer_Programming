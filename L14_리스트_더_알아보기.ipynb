{
  "nbformat": 4,
  "nbformat_minor": 0,
  "metadata": {
    "colab": {
      "provenance": [],
      "authorship_tag": "ABX9TyNi2iL3d9xwmV40DsERTxnP",
      "include_colab_link": true
    },
    "kernelspec": {
      "name": "python3",
      "display_name": "Python 3"
    },
    "language_info": {
      "name": "python"
    }
  },
  "cells": [
    {
      "cell_type": "markdown",
      "metadata": {
        "id": "view-in-github",
        "colab_type": "text"
      },
      "source": [
        "<a href=\"https://colab.research.google.com/github/clustering-jun/GNU-Computer_Programming/blob/main/L14_%EB%A6%AC%EC%8A%A4%ED%8A%B8_%EB%8D%94_%EC%95%8C%EC%95%84%EB%B3%B4%EA%B8%B0.ipynb\" target=\"_parent\"><img src=\"https://colab.research.google.com/assets/colab-badge.svg\" alt=\"Open In Colab\"/></a>"
      ]
    },
    {
      "cell_type": "markdown",
      "source": [
        "# L14. 리스트 더 알아보기\n",
        "\n",
        "## 빈 리스트의 생성과 항목 추가"
      ],
      "metadata": {
        "id": "WPAkBbtuMi1C"
      }
    },
    {
      "cell_type": "code",
      "execution_count": null,
      "metadata": {
        "id": "gXAwILZCMiZK"
      },
      "outputs": [],
      "source": [
        "fr = [ ]\n",
        "type(fr) # <class list>\n",
        "len(fr) # 0\n",
        "\n",
        "fr.append('사과')\n",
        "fr.append('딸기')\n",
        "fr.append('참외')\n",
        "print(fr) # ['사과', '딸기', '참외']\n",
        "\n",
        "len(fr) # 3\n",
        "\n",
        "print(fr[0]) # '사과'\n",
        "\n",
        "# list circuit\n",
        "for i in fr:\n",
        "  print(i)"
      ]
    },
    {
      "cell_type": "markdown",
      "source": [
        "<br>\n",
        "\n",
        "## 리스트 항목의 변경"
      ],
      "metadata": {
        "id": "1eky8QLNPgS_"
      }
    },
    {
      "cell_type": "code",
      "source": [
        "fr = ['사과', '딸기', '참외']\n",
        "print(fr) # ['사과', '딸기', '참외']\n",
        "\n",
        "fr[0] = '배'\n",
        "print(fr) # ['배', '딸기', '참외']\n",
        "\n",
        "# 인덱스 번호를 모르는 경우 '배'를 '수박'으로 바꾸고 싶을 때\n",
        "a = fr.index('배')\n",
        "fr[a] = '수박'\n",
        "print(fr) # ['수박', '딸기', '참외']"
      ],
      "metadata": {
        "id": "CrVkmnusPm0_"
      },
      "execution_count": null,
      "outputs": []
    },
    {
      "cell_type": "markdown",
      "source": [
        "- **문제1. fr =  [ '호두' , '수박' , '사과' ] 일 때,**\n",
        " - '사과'를 '배'로 변경하는 코드를 한 줄로 작성하시오."
      ],
      "metadata": {
        "id": "qsRkeOM3PtkO"
      }
    },
    {
      "cell_type": "code",
      "source": [
        "fr[ fr.index('사과') ] = '배'"
      ],
      "metadata": {
        "id": "7BENsqOzPzV-"
      },
      "execution_count": null,
      "outputs": []
    },
    {
      "cell_type": "markdown",
      "source": [
        "- **문제2. fr =  [ '호두' , '수박' , '배' ] 일 때,**\n",
        " - `fr[ fr.index('사과') ] = '참외'` 를 실행했을 때의 결과를 서술하시오\n",
        "\n",
        " > ValueError: '사과' is not in list"
      ],
      "metadata": {
        "id": "4_8LrE6bQWum"
      }
    },
    {
      "cell_type": "code",
      "source": [
        "# 그렇다면 다음과 같이 예외처리할 수 있음.\n",
        "\n",
        "if '사과' in fr:\n",
        "  fr[ fr.index('사과') ] = '참외'\n",
        "else:\n",
        "  print('존재하지 않음.')"
      ],
      "metadata": {
        "id": "qQc1bEEWQs9d"
      },
      "execution_count": null,
      "outputs": []
    },
    {
      "cell_type": "markdown",
      "source": [
        "<br>\n",
        "\n",
        "## 리스트 항목 삽입"
      ],
      "metadata": {
        "id": "GPAHS34OQ5D9"
      }
    },
    {
      "cell_type": "code",
      "source": [
        "fr = ['호두', '수박', '배']\n",
        "print(fr) # ['호두', '수박', '배']\n",
        "\n",
        "fr.insert(0, '호박')\n",
        "print(fr) # ['호박', '호두', '수박', '배']"
      ],
      "metadata": {
        "id": "dpugLzewRFw1"
      },
      "execution_count": null,
      "outputs": []
    },
    {
      "cell_type": "markdown",
      "source": [
        "- 문제1. 리스트 fr에서 '수박' 항목 앞에 '참외'를 추가하는 코드를 작성하시오."
      ],
      "metadata": {
        "id": "XQcGIlHqRXzl"
      }
    },
    {
      "cell_type": "code",
      "source": [
        "fr.insert[ fr.index('수박'), '참외' ]\n",
        "\n",
        "print(fr) # ['호박', '호두', '참외', '수박', '배']"
      ],
      "metadata": {
        "id": "LUlCeJ-hRfI1"
      },
      "execution_count": null,
      "outputs": []
    },
    {
      "cell_type": "markdown",
      "source": [
        "<br>\n",
        "\n",
        "## 리스트 항목 삭제"
      ],
      "metadata": {
        "id": "obZTrfOdRwUs"
      }
    },
    {
      "cell_type": "code",
      "source": [
        "fr = ['호박', '호두', '참외', '수박', '배']\n",
        "\n",
        "fr.remove('수박')\n",
        "print(fr) # ['호박', '호두', '참외', '배']"
      ],
      "metadata": {
        "id": "zVD34g1-Rxf0"
      },
      "execution_count": null,
      "outputs": []
    },
    {
      "cell_type": "markdown",
      "source": [
        "- **문제1. fr =  [ '호박' , '호두' , '참외' , '배' ] 일 때,**\n",
        " - `fr.remove('수박')` 를 실행했을 때의 결과를 서술하시오\n",
        "\n",
        " > ValueError: list.remove(x): x is not in list"
      ],
      "metadata": {
        "id": "sSVh7G8KR_ul"
      }
    },
    {
      "cell_type": "code",
      "source": [
        "# 그렇다면 다음과 같이 예외처리할 수 있음.\n",
        "\n",
        "if '수박' in fr:\n",
        "  fr.remove('참외')\n",
        "else:\n",
        "  print('존재하지 않음.')"
      ],
      "metadata": {
        "id": "22g5J0lGSLzE"
      },
      "execution_count": null,
      "outputs": []
    },
    {
      "cell_type": "markdown",
      "source": [
        "- **활용**"
      ],
      "metadata": {
        "id": "67iy1ungTEJr"
      }
    },
    {
      "cell_type": "code",
      "source": [
        "fr = ['호박', '호두', '참외', '배']\n",
        "\n",
        "fr.append('호박')\n",
        "print(fr) # fr = ['호박', '호두', '참외', '배', '호박']\n",
        "\n",
        "fr.remove('호박')\n",
        "print(fr) # ['호두', '참외', '배', '호박']\n",
        "\n",
        "fr.append('호박')\n",
        "print(fr) # fr = ['호두', '참외', '배', '호박', '호박']\n",
        "\n",
        "\n",
        "\n",
        "for i in range( len(fr) ):\n",
        "  if fr[i] == '호박':\n",
        "    fr.remove('호박')\n",
        "  else:\n",
        "    print('존재하지 않음.')\n",
        "\n",
        "print(fr) # ['호두', '참외', '배']"
      ],
      "metadata": {
        "id": "5loMheP0SZNE"
      },
      "execution_count": null,
      "outputs": []
    },
    {
      "cell_type": "markdown",
      "source": [
        "- 리스트에서 값 x를 찾아 가장 먼저 나오는 항목을 삭제한다. 다만, 해당 값이 여러 개 있더라도 가장 앞의 하나만 제거된다.\n",
        "\n"
      ],
      "metadata": {
        "id": "krIXQLf2TMdE"
      }
    },
    {
      "cell_type": "markdown",
      "source": [
        "<br>\n",
        "<br>\n",
        "\n",
        "## **[정리] 다양한 메서드**\n",
        "\n",
        "### 1. append( )\n",
        "- 기능: 리스트의 끝에 요소 하나를 추가합니다.\n",
        " - 리스트의 길이가 1 증가합니다.\n",
        " - 반환값은 None입니다.\n",
        "\n",
        "<br>\n",
        "\n",
        "### 2. index( )\n",
        "- 기능: 리스트에서 지정한 값의 첫 번째 인덱스 위치를 반환합니다.\n",
        "- 주의: 값이 리스트에 없으면 ValueError가 발생합니다.\n",
        "\n",
        "```\n",
        "fruits = ['apple', 'banana', 'cherry', 'banana']\n",
        "print(fruits.index('banana'))      # 1 (첫 번째 banana)\n",
        "print(fruits.index('banana', 2))   # 3 (두 번째 banana)\n",
        "```\n",
        "\n",
        "<br>\n",
        "\n",
        "\n",
        "### 3. insert( )\n",
        "- 형식: list.insert(index, x)\n",
        "- 기능: 지정한 인덱스 위치에 값 x를 삽입합니다.\n",
        "- 주의:\n",
        " - 기존 요소들은 한 칸씩 뒤로 밀림.\n",
        " - 리스트 길이는 1 증가\n",
        " - 음수 인덱스도 가능\n",
        " - 범위를 벗어난 인덱스도 허용\n",
        "\n",
        "<br>\n",
        "\n",
        "### 4. remove( )\n",
        "- 형식: list.remove(x)\n",
        "- 기능: 리스트에서 값 x를 찾아 가장 먼저 나오는 항목을 삭제합니다.\n",
        "- 주의:\n",
        " - 해당 값이 여러 개 있더라도 가장 앞의 하나만 제거됩니다.\n",
        " - 값이 리스트에 없으면 ValueError가 발생합니다.\n",
        "\n",
        "\n",
        "- 예외처리 예시\n",
        "```\n",
        "if 'banana' in fruits:\n",
        "    fruits.remove('banana')\n",
        "```\n",
        "\n",
        "\n",
        "\n",
        "\n",
        "\n"
      ],
      "metadata": {
        "id": "ikG15uo-hZFl"
      }
    }
  ]
}