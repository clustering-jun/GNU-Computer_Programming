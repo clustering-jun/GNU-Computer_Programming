{
  "nbformat": 4,
  "nbformat_minor": 0,
  "metadata": {
    "colab": {
      "provenance": [],
      "include_colab_link": true
    },
    "kernelspec": {
      "name": "python3",
      "display_name": "Python 3"
    },
    "language_info": {
      "name": "python"
    }
  },
  "cells": [
    {
      "cell_type": "markdown",
      "metadata": {
        "id": "view-in-github",
        "colab_type": "text"
      },
      "source": [
        "<a href=\"https://colab.research.google.com/github/clustering-jun/GNU-Computer_Programming/blob/main/L12_%EC%A1%B0%EA%B1%B4_%EB%B0%8F_%EB%B0%98%EB%B3%B5_%EA%B5%AC%EC%A1%B0%EC%9D%98_%ED%99%9C%EC%9A%A9.ipynb\" target=\"_parent\"><img src=\"https://colab.research.google.com/assets/colab-badge.svg\" alt=\"Open In Colab\"/></a>"
      ]
    },
    {
      "cell_type": "markdown",
      "source": [
        "# L12. 조건 및 반복 구조의 활용\n",
        "\n",
        "## 사용자의 명령 입력으로 거북이 제어하기 (무한반복)\n",
        "- 입력되는 문자에 따라 다른 방향으로 움직이게 하는 프로그램을 작성하시오.\n",
        "- l이 입력되면 왼쪽으로 100만큼, r이 입력되면 오른쪽으로 100만큼으로 이동하는 프로그램을 작성하시오.\n",
        "- 단, Q 또는 q를 입력하면 무한 루프를 빠져 나오도록 코딩하시오."
      ],
      "metadata": {
        "id": "kpbouTOeCUOg"
      }
    },
    {
      "cell_type": "code",
      "execution_count": null,
      "metadata": {
        "id": "hvZYJxLKCS63"
      },
      "outputs": [],
      "source": [
        "# 사용자 명령 입력에 따라 움직이도록\n",
        "\n",
        "import turtle\n",
        "t = turtle.Turtle()\n",
        "\n",
        "while True:\n",
        "\n",
        "    comm = input('명령 입력(R/L/r/l/Q/q): ')\n",
        "\n",
        "    if comm == \"R\" or comm == \"r\":\n",
        "        t.rt(90)\n",
        "        t.fd(100)\n",
        "\n",
        "    elif comm == \"L\" or comm == \"l\":\n",
        "        t.lt(90)\n",
        "        t.fd(100)\n",
        "\n",
        "    elif comm == \"Q\" or comm == \"q\":\n",
        "        break\n",
        "\n",
        "    else:\n",
        "        print('잘못된 명령')"
      ]
    },
    {
      "cell_type": "markdown",
      "source": [
        "<br>\n",
        "\n",
        "## 임의의 방향으로 100번 이동하는 거북이 구현하기\n",
        "- 거북이가 임의의 방향으로 이동하면서 선을 그리도록 코딩하시오."
      ],
      "metadata": {
        "id": "3LnViERtGcSC"
      }
    },
    {
      "cell_type": "code",
      "source": [
        "import turtle\n",
        "import random\n",
        "\n",
        "t = turtle.Turtle()\n",
        "r = random.Random()\n",
        "\n",
        "for i in range(10):\n",
        "\n",
        "    num = r.randint(1,2)\n",
        "\n",
        "    if num == 1:\n",
        "        t.lf(90)\n",
        "        t.fd(100)\n",
        "    else:\n",
        "        t.rt(90)\n",
        "        t.fd(100)"
      ],
      "metadata": {
        "id": "o9QCxPsDDELc"
      },
      "execution_count": null,
      "outputs": []
    },
    {
      "cell_type": "code",
      "source": [
        "import turtle\n",
        "import random\n",
        "\n",
        "t = turtle.Turtle()\n",
        "r = random.Random()\n",
        "t.speed(0)\n",
        "\n",
        "for i in range(1000):\n",
        "\n",
        "    num = r.randint(1,2) # 방향 결정\n",
        "    ang = r.randint(0,90)\n",
        "    dist = r.randint(50,200)\n",
        "\n",
        "    if num == 1:\n",
        "        t.lt(ang)\n",
        "        t.fd(dist)\n",
        "    else:\n",
        "        t.rt(ang)\n",
        "        t.fd(dist)\n",
        "\n",
        "    t.circle(dist)\n"
      ],
      "metadata": {
        "id": "GrHjvfktEEcb"
      },
      "execution_count": null,
      "outputs": []
    },
    {
      "cell_type": "markdown",
      "source": [
        "<br>\n",
        "\n",
        "## 사칙연산 훈련 프로그램\n",
        "- 제어문(조건문과 반복문)을 이용하여 덧셈, 뺄셈, 곱셈, 나눗셈 4가지 연산 훈련을 시켜주는 프로그램을 작성하시오.\n",
        " - 예를 들어 덧셈을 선택하면 5개의 덧셈 문제를 출제한다.\n",
        "   - 컴퓨터는 한 자리 숫자 2개를 제시(난수발생필요: 0~9 중 난수 생성)\n",
        "   - 사용자는 덧셈한 결과를 입력하고\n",
        "   - 사용자가 입력한 것이 정답이면 '정답' 그렇지 않으면 '오답'이라는 메시지를 출력\n",
        "   - 정답이면 점수를 1점 증가\n",
        " - 뺄셈, 곱셈, 나눗셈을 선택해도 위와 같은 방법으로 수행되며, 종료를 선택하면 연산 훈련이 끝난다."
      ],
      "metadata": {
        "id": "0ZC-RBG6G16C"
      }
    },
    {
      "cell_type": "code",
      "source": [
        "import random\n",
        "r = random.Random()\n",
        "\n",
        "\n",
        "while True:\n",
        "    print('\\n========사칙연산 훈련 프로그램입니다.========')\n",
        "    print('==  [1.덧셈]  [2.뺄셈]  [3.곱셈]  [4.나눗셈]  [5.종료]  ==')\n",
        "    menu = input('원하는 메뉴 번호를 선택하세요: ')\n",
        "\n",
        "# 덧셈부분\n",
        "    if menu == '1':\n",
        "        count = 0\n",
        "        for i in range(5):\n",
        "            n1 = r.randint(0,9)\n",
        "            n2 = r.randint(0,9)\n",
        "\n",
        "            user_i = int(input('%d + %d = ' %(n1, n2)))\n",
        "\n",
        "            if n1 + n2 == user_i:\n",
        "                print('정답')\n",
        "                count += 1\n",
        "            else:\n",
        "                print('오답')\n",
        "\n",
        "        print('5문제 중', count, '문제 맞추었습니다.')\n",
        "\n",
        "# 뺄셈 부분\n",
        "    elif menu == '2':\n",
        "        count = 0\n",
        "        for i in range(5):\n",
        "            n1 = r.randint(0,9)\n",
        "            n2 = r.randint(0,9)\n",
        "\n",
        "            user_i = int(input('%d - %d = ' %(n1, n2)))\n",
        "\n",
        "            if n1 - n2 == user_i:\n",
        "                print('정답')\n",
        "                count += 1\n",
        "            else:\n",
        "                print('오답')\n",
        "\n",
        "        print('5문제 중', count, '문제 맞추었습니다.')\n",
        "\n",
        "# 곱셈부분\n",
        "    elif menu == '3':\n",
        "        count = 0\n",
        "        for i in range(5):\n",
        "            n1 = r.randint(0,9)\n",
        "            n2 = r.randint(0,9)\n",
        "\n",
        "            user_i = int(input('%d x %d = ' %(n1, n2)))\n",
        "\n",
        "            if n1 * n2 == user_i:\n",
        "                print('정답')\n",
        "                count += 1\n",
        "            else:\n",
        "                print('오답')\n",
        "\n",
        "        print('5문제 중', count, '문제 맞추었습니다.')\n",
        "\n",
        "# 나눗셈부분\n",
        "    elif menu == '4':\n",
        "        count = 0\n",
        "        for i in range(5):\n",
        "            n2 = r.randint(1, 9)\n",
        "            result = r.randint(0, 9)\n",
        "            n1 = n2 * result  # 이렇게 하면 항상 n1 % n2 == 0\n",
        "\n",
        "            user_i = int(input('%d ÷ %d = ' % (n1, n2)))\n",
        "\n",
        "            if user_i == result:\n",
        "                print('정답')\n",
        "                count += 1\n",
        "            else:\n",
        "                print('오답')\n",
        "\n",
        "        print('5문제 중', count, '문제 맞추었습니다.')\n",
        "\n",
        "# 종료부분\n",
        "    elif menu == '5':\n",
        "        print('프로그램 종료')\n",
        "        break\n",
        "\n",
        "    else:\n",
        "        print('잘못된 입력')\n"
      ],
      "metadata": {
        "id": "FaG-GCc4KI19"
      },
      "execution_count": null,
      "outputs": []
    },
    {
      "cell_type": "markdown",
      "source": [
        "### 나눗셈 계산 부분과 관련한 예외처리\n",
        "- 0으로 나누는 경우와 (ZeroDivisionError)\n",
        "- 나눈값이 무한 소수가 나오는 경우를 반올림(round함수)을 통해 예외처리함.\n",
        "- `정수 / 정수 = 실수형`이기에 `float`으로 입력받음. (ValueError)"
      ],
      "metadata": {
        "id": "AlYoGAaPHzfe"
      }
    },
    {
      "cell_type": "code",
      "source": [
        "# 나눗셈부분\n",
        "\n",
        "    elif menu == '4':\n",
        "        count = 0\n",
        "        for i in range(5):\n",
        "            n1 = r.randint(0,9)\n",
        "            n2 = r.randint(1,9)  # 0은 제외\n",
        "\n",
        "            user_i = round(float(input('%d / %d = ' %(n1, n2))), 2) # int로 하면 안됨. int/int = float 이기 때문임.\n",
        "\n",
        "            if round(n1 / n2, 2) == user_i:\n",
        "                print('정답')\n",
        "                count += 1\n",
        "            else:\n",
        "                print('오답')\n",
        "\n",
        "        print('5문제 중', count, '문제 맞추었습니다.')"
      ],
      "metadata": {
        "id": "RJJWty8vKyFO"
      },
      "execution_count": null,
      "outputs": []
    },
    {
      "cell_type": "markdown",
      "source": [
        "- 부동소수점 오차 문제를 피하면서 비교를 단순화하기 위한 방법"
      ],
      "metadata": {
        "id": "RRtKCblWJ5ko"
      }
    },
    {
      "cell_type": "code",
      "source": [
        "            user_i = str(round(float(input('%d / %d = ' %(n1, n2))), 2))\n",
        "\n",
        "            if str(round(n1 / n2, 2)) == str(user_i):"
      ],
      "metadata": {
        "id": "LIat9l3-JC8J"
      },
      "execution_count": null,
      "outputs": []
    }
  ]
}