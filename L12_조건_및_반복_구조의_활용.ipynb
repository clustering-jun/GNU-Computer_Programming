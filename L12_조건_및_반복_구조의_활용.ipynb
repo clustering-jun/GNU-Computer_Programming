{
  "nbformat": 4,
  "nbformat_minor": 0,
  "metadata": {
    "colab": {
      "provenance": [],
      "include_colab_link": true
    },
    "kernelspec": {
      "name": "python3",
      "display_name": "Python 3"
    },
    "language_info": {
      "name": "python"
    }
  },
  "cells": [
    {
      "cell_type": "markdown",
      "metadata": {
        "id": "view-in-github",
        "colab_type": "text"
      },
      "source": [
        "<a href=\"https://colab.research.google.com/github/clustering-jun/GNU-Computer_Programming/blob/main/L12_%EC%A1%B0%EA%B1%B4_%EB%B0%8F_%EB%B0%98%EB%B3%B5_%EA%B5%AC%EC%A1%B0%EC%9D%98_%ED%99%9C%EC%9A%A9.ipynb\" target=\"_parent\"><img src=\"https://colab.research.google.com/assets/colab-badge.svg\" alt=\"Open In Colab\"/></a>"
      ]
    },
    {
      "cell_type": "markdown",
      "source": [
        "# L12. 조건 및 반복 구조의 활용"
      ],
      "metadata": {
        "id": "kpbouTOeCUOg"
      }
    },
    {
      "cell_type": "code",
      "execution_count": null,
      "metadata": {
        "id": "hvZYJxLKCS63"
      },
      "outputs": [],
      "source": [
        "# 사용자 명령 입력에 따라 움직이도록\n",
        "\n",
        "import turtle\n",
        "t = turtle.Turtle()\n",
        "\n",
        "while True:\n",
        "\n",
        "    comm = input('명령 입력(R/L/r/l/Q/q): ')\n",
        "\n",
        "    if comm == \"R\" or comm == \"r\":\n",
        "        t.rt(90)\n",
        "        t.fd(100)\n",
        "\n",
        "    elif comm == \"L\" or comm == \"l\":\n",
        "        t.lt(90)\n",
        "        t.fd(100)\n",
        "\n",
        "    elif comm == \"Q\" or comm == \"q\":\n",
        "        break\n",
        "\n",
        "    else:\n",
        "        print('잘못된 명령')"
      ]
    },
    {
      "cell_type": "code",
      "source": [
        "# 10번 임의의 방향으로 움직이도록\n",
        "\n",
        "import turtle\n",
        "import random\n",
        "\n",
        "for i in range(10):\n",
        "\n",
        "    num = r.randint(1,2)\n",
        "\n",
        "    if num == 1:\n",
        "        t.lf(90)\n",
        "        t.fd(100)\n",
        "    else:\n",
        "        t.rt(90)\n",
        "        t.fd(100)"
      ],
      "metadata": {
        "id": "o9QCxPsDDELc"
      },
      "execution_count": null,
      "outputs": []
    },
    {
      "cell_type": "code",
      "source": [
        "# 10번 임의의 방향으로 움직이도록\n",
        "\n",
        "import turtle\n",
        "import random\n",
        "\n",
        "t = turtle.Turtle()\n",
        "r = random.Random()\n",
        "t.speed(0)\n",
        "\n",
        "for i in range(1000):\n",
        "\n",
        "    num = r.randint(1,2) # 방향 결정\n",
        "    ang = r.randint(0,90)\n",
        "    dist = r.randint(50,200)\n",
        "\n",
        "    if num == 1:\n",
        "        t.lt(ang)\n",
        "        t.fd(dist)\n",
        "    else:\n",
        "        t.rt(ang)\n",
        "        t.fd(dist)\n",
        "\n",
        "    t.circle(dist)\n"
      ],
      "metadata": {
        "id": "GrHjvfktEEcb"
      },
      "execution_count": null,
      "outputs": []
    },
    {
      "cell_type": "code",
      "source": [
        "import random\n",
        "r = random.Random()\n",
        "\n",
        "\n",
        "while True:\n",
        "    print('\\n========사칙연산 훈련 프로그램입니다.========')\n",
        "    print('==  [1.덧셈]  [2.뺄셈]  [3.곱셈]  [4.나눗셈]  [5.종료]  ==')\n",
        "    menu = input('원하는 메뉴 번호를 선택하세요: ')\n",
        "\n",
        "# 덧셈부분\n",
        "    if menu == '1':\n",
        "        count = 0\n",
        "        for i in range(5):\n",
        "            n1 = r.randint(0,9)\n",
        "            n2 = r.randint(0,9)\n",
        "\n",
        "            user_i = int(input('%d + %d = ' %(n1, n2)))\n",
        "\n",
        "            if n1 + n2 == user_i:\n",
        "                print('정답')\n",
        "                count += 1\n",
        "            else:\n",
        "                print('오답')\n",
        "\n",
        "        print('5문제 중', count, '문제 맞추었습니다.')\n",
        "\n",
        "# 뺄셈 부분\n",
        "    elif menu == '2':\n",
        "        count = 0\n",
        "        for i in range(5):\n",
        "            n1 = r.randint(0,9)\n",
        "            n2 = r.randint(0,9)\n",
        "\n",
        "            user_i = int(input('%d - %d = ' %(n1, n2)))\n",
        "\n",
        "            if n1 - n2 == user_i:\n",
        "                print('정답')\n",
        "                count += 1\n",
        "            else:\n",
        "                print('오답')\n",
        "\n",
        "        print('5문제 중', count, '문제 맞추었습니다.')\n",
        "\n",
        "# 곱셈부분\n",
        "    elif menu == '3':\n",
        "        count = 0\n",
        "        for i in range(5):\n",
        "            n1 = r.randint(0,9)\n",
        "            n2 = r.randint(0,9)\n",
        "\n",
        "            user_i = int(input('%d x %d = ' %(n1, n2)))\n",
        "\n",
        "            if n1 * n2 == user_i:\n",
        "                print('정답')\n",
        "                count += 1\n",
        "            else:\n",
        "                print('오답')\n",
        "\n",
        "        print('5문제 중', count, '문제 맞추었습니다.')\n",
        "\n",
        "# 나눗셈부분\n",
        "    elif menu == '4':\n",
        "        count = 0\n",
        "        for i in range(5):\n",
        "            n2 = r.randint(1, 9)\n",
        "            result = r.randint(0, 9)\n",
        "            n1 = n2 * result  # 이렇게 하면 항상 n1 % n2 == 0\n",
        "\n",
        "            user_i = int(input('%d ÷ %d = ' % (n1, n2)))\n",
        "\n",
        "            if user_i == result:\n",
        "                print('정답')\n",
        "                count += 1\n",
        "            else:\n",
        "                print('오답')\n",
        "\n",
        "        print('5문제 중', count, '문제 맞추었습니다.')\n",
        "\n",
        "# 종료부분\n",
        "    elif menu == '5':\n",
        "        print('프로그램 종료')\n",
        "        break\n",
        "\n",
        "    else:\n",
        "        print('잘못된 입력')\n"
      ],
      "metadata": {
        "id": "FaG-GCc4KI19"
      },
      "execution_count": null,
      "outputs": []
    },
    {
      "cell_type": "code",
      "source": [
        "# 나눗셈부분\n",
        "    elif menu == '4':\n",
        "        count = 0\n",
        "        for i in range(5):\n",
        "            n1 = r.randint(0,9)\n",
        "            n2 = r.randint(1,9) # (0,9)가 아닌 (1,9)으로 하면 됨.\n",
        "\n",
        "            user_i = round(float(input('%d / %d = ' %(n1, n2))), 2)# int로 하면 안됨. 정수/정수 = 실수형 이기 때문임.\n",
        "\n",
        "            if round(n1 / n2, 2) == user_i:\n",
        "                print('정답')\n",
        "                count += 1\n",
        "            else:\n",
        "                print('오답')\n",
        "\n",
        "        print('5문제 중', count, '문제 맞추었습니다.')\n",
        "\n",
        "# 따라서 나눗셈할 때는 제약 조건을 줘야겠구나 ~~~\n",
        "# 소수아래 2번째자리 까지... 입력하도록 하자. round 함수를 사용해서...\n",
        "\n",
        "# 근데 8/0하면 ZeroDivisionError 오류가 발생함...\n",
        "\n",
        "            user_i = str(round(float(input('%d / %d = ' %(n1, n2))), 2)) # int로 하면 안됨. 정수/정수 = 실수형 이기 때문임.\n",
        "\n",
        "            if str(round(n1 / n2, 2)) == str(user_i):\n",
        "# 이것과 같이 코드를 입력하면 됨."
      ],
      "metadata": {
        "id": "RJJWty8vKyFO"
      },
      "execution_count": null,
      "outputs": []
    },
    {
      "cell_type": "markdown",
      "source": [
        "## 정리"
      ],
      "metadata": {
        "id": "UgAyfjfaMRD7"
      }
    },
    {
      "cell_type": "code",
      "source": [
        "# 자연수가 들어올 동안 데이터의 평균 구하기\n",
        "# 0이하의 값이 들어오면 더 이상 입력 받지 않는다\n",
        "# 데이터가 몇 개가 들어올 지 알 수 없다. 언제 0이하의 값이 들어올 지 알 수 없다\n",
        "# 그러면 일단 while로 구현하자\n",
        "\n",
        "# 컨트롤 C하면 강제종료할 수 있다고 한다... 무한루프 while문\n",
        "\n",
        "h = 0\n",
        "c = 0\n",
        "\n",
        "while True:\n",
        "  n = int(input('자연수 입력 (0이하 입력되면 종료): '))\n",
        "\n",
        "  if n > 0:\n",
        "    h += n\n",
        "    c += 1\n",
        "  else:\n",
        "    break\n",
        "\n",
        "if c > 0:\n",
        "  ave = h / c\n",
        "  print(h,c,ave)\n",
        "else:\n",
        "  print('데이터가 없습니다.')\n",
        "\n",
        "\"\"\"\n",
        "ave = h /c\n",
        "\n",
        "print(h, c, ave)\n",
        "\"\"\"\n",
        "# 첫입력이 0인 경우 예외처리를 생각해봐야함. h / c에서 ZeroDivisionError 가 발생하니...\n",
        "# 그럼 예외처리를 어떻게하면 될까.. c가 0보다 클때 하는 작업이므로 조건문을 넣으면됨.\n",
        "\n",
        "# 하나 더 완벽한 프로그램은 아님... 0.2 0.02를 입력하면 어떻게 할거임? 바로 ValueError 나오잖아...\n",
        "# 이런 잡아야될 예외가 매우 많음.\n",
        "# 그래서 if문으로 다 하는 건 너무 시간이 많이 드니까 에외처리 하는 방법이 잇음. try 문법이였나...\n",
        "# 실질적으로생각해야할 부분이 많이 숨어있다. 에외처리는 별도 공부하신다고 함.(교수님)"
      ],
      "metadata": {
        "colab": {
          "base_uri": "https://localhost:8080/",
          "height": 244
        },
        "id": "FqypMMq0Myn7",
        "outputId": "0e312dcd-ca68-4653-8cdf-4c85a31fa81c"
      },
      "execution_count": 6,
      "outputs": [
        {
          "output_type": "stream",
          "name": "stdout",
          "text": [
            "자연수 입력 (0이하 입력되면 종료): 10\n",
            "자연수 입력 (0이하 입력되면 종료): 20\n",
            "자연수 입력 (0이하 입력되면 종료): 30\n",
            "자연수 입력 (0이하 입력되면 종료): 40\n",
            "자연수 입력 (0이하 입력되면 종료): 50\n",
            "자연수 입력 (0이하 입력되면 종료): 60\n",
            "자연수 입력 (0이하 입력되면 종료): 70\n",
            "자연수 입력 (0이하 입력되면 종료): 80\n",
            "자연수 입력 (0이하 입력되면 종료): 90\n",
            "자연수 입력 (0이하 입력되면 종료): 100\n",
            "자연수 입력 (0이하 입력되면 종료): 0\n",
            "550 10 55.0\n"
          ]
        },
        {
          "output_type": "execute_result",
          "data": {
            "text/plain": [
              "'\\nave = h /c\\n\\nprint(h, c, ave)\\n'"
            ],
            "application/vnd.google.colaboratory.intrinsic+json": {
              "type": "string"
            }
          },
          "metadata": {},
          "execution_count": 6
        }
      ]
    },
    {
      "cell_type": "code",
      "source": [
        "for i in range(1,10):\n",
        "  print('2 * %d = %d' %(i, 2*i))"
      ],
      "metadata": {
        "colab": {
          "base_uri": "https://localhost:8080/"
        },
        "id": "gWboVgyRS_Ge",
        "outputId": "1428db70-5c53-4ae6-b86a-69ce8d652c6a"
      },
      "execution_count": 15,
      "outputs": [
        {
          "output_type": "stream",
          "name": "stdout",
          "text": [
            "2 * 1 = 2\n",
            "2 * 2 = 4\n",
            "2 * 3 = 6\n",
            "2 * 4 = 8\n",
            "2 * 5 = 10\n",
            "2 * 6 = 12\n",
            "2 * 7 = 14\n",
            "2 * 8 = 16\n",
            "2 * 9 = 18\n"
          ]
        }
      ]
    },
    {
      "cell_type": "markdown",
      "source": [
        "# f-string"
      ],
      "metadata": {
        "id": "w18yzPpyTUlt"
      }
    },
    {
      "cell_type": "code",
      "source": [
        "for i in range(1,10):\n",
        "  print(f'2 * {i} = {2*i}')"
      ],
      "metadata": {
        "colab": {
          "base_uri": "https://localhost:8080/"
        },
        "id": "lEUmCZ15TWEd",
        "outputId": "6816802e-0661-4524-b71d-503f455a3537"
      },
      "execution_count": 17,
      "outputs": [
        {
          "output_type": "stream",
          "name": "stdout",
          "text": [
            "2 * 1 = 2\n",
            "2 * 2 = 4\n",
            "2 * 3 = 6\n",
            "2 * 4 = 8\n",
            "2 * 5 = 10\n",
            "2 * 6 = 12\n",
            "2 * 7 = 14\n",
            "2 * 8 = 16\n",
            "2 * 9 = 18\n"
          ]
        }
      ]
    },
    {
      "cell_type": "code",
      "source": [
        "# 구구단을 출력하는 프로그램\n",
        "\n",
        "for i in range(2,10):\n",
        "  print(f'\\n{i}단 시작!')\n",
        "  for j in range(1,10):\n",
        "    print(f'{i} x {j} = {i*j}')"
      ],
      "metadata": {
        "colab": {
          "base_uri": "https://localhost:8080/"
        },
        "id": "Qb2knHivSBtO",
        "outputId": "56f704f6-e82a-4fc0-f382-4808ad515d02"
      },
      "execution_count": 27,
      "outputs": [
        {
          "output_type": "stream",
          "name": "stdout",
          "text": [
            "\n",
            "2단 시작!\n",
            "2 x 1 = 2\n",
            "2 x 2 = 4\n",
            "2 x 3 = 6\n",
            "2 x 4 = 8\n",
            "2 x 5 = 10\n",
            "2 x 6 = 12\n",
            "2 x 7 = 14\n",
            "2 x 8 = 16\n",
            "2 x 9 = 18\n",
            "\n",
            "3단 시작!\n",
            "3 x 1 = 3\n",
            "3 x 2 = 6\n",
            "3 x 3 = 9\n",
            "3 x 4 = 12\n",
            "3 x 5 = 15\n",
            "3 x 6 = 18\n",
            "3 x 7 = 21\n",
            "3 x 8 = 24\n",
            "3 x 9 = 27\n",
            "\n",
            "4단 시작!\n",
            "4 x 1 = 4\n",
            "4 x 2 = 8\n",
            "4 x 3 = 12\n",
            "4 x 4 = 16\n",
            "4 x 5 = 20\n",
            "4 x 6 = 24\n",
            "4 x 7 = 28\n",
            "4 x 8 = 32\n",
            "4 x 9 = 36\n",
            "\n",
            "5단 시작!\n",
            "5 x 1 = 5\n",
            "5 x 2 = 10\n",
            "5 x 3 = 15\n",
            "5 x 4 = 20\n",
            "5 x 5 = 25\n",
            "5 x 6 = 30\n",
            "5 x 7 = 35\n",
            "5 x 8 = 40\n",
            "5 x 9 = 45\n",
            "\n",
            "6단 시작!\n",
            "6 x 1 = 6\n",
            "6 x 2 = 12\n",
            "6 x 3 = 18\n",
            "6 x 4 = 24\n",
            "6 x 5 = 30\n",
            "6 x 6 = 36\n",
            "6 x 7 = 42\n",
            "6 x 8 = 48\n",
            "6 x 9 = 54\n",
            "\n",
            "7단 시작!\n",
            "7 x 1 = 7\n",
            "7 x 2 = 14\n",
            "7 x 3 = 21\n",
            "7 x 4 = 28\n",
            "7 x 5 = 35\n",
            "7 x 6 = 42\n",
            "7 x 7 = 49\n",
            "7 x 8 = 56\n",
            "7 x 9 = 63\n",
            "\n",
            "8단 시작!\n",
            "8 x 1 = 8\n",
            "8 x 2 = 16\n",
            "8 x 3 = 24\n",
            "8 x 4 = 32\n",
            "8 x 5 = 40\n",
            "8 x 6 = 48\n",
            "8 x 7 = 56\n",
            "8 x 8 = 64\n",
            "8 x 9 = 72\n",
            "\n",
            "9단 시작!\n",
            "9 x 1 = 9\n",
            "9 x 2 = 18\n",
            "9 x 3 = 27\n",
            "9 x 4 = 36\n",
            "9 x 5 = 45\n",
            "9 x 6 = 54\n",
            "9 x 7 = 63\n",
            "9 x 8 = 72\n",
            "9 x 9 = 81\n"
          ]
        }
      ]
    },
    {
      "cell_type": "code",
      "source": [
        "# 구구단을 출력하는 프로그램 (교수님 코드)\n",
        "\n",
        "for i in range(2,10):\n",
        "  for j in range(1,10):\n",
        "    print(f'{i} x {j} = {i*j}')\n",
        "  print()\n",
        "\n",
        "# 이 코드 순서 적으라고하면 적을 수 있겠지 ???"
      ],
      "metadata": {
        "colab": {
          "base_uri": "https://localhost:8080/"
        },
        "id": "HHJgh6RlVXJ8",
        "outputId": "afefef72-d8a3-46da-83bb-d70de330349d"
      },
      "execution_count": 29,
      "outputs": [
        {
          "output_type": "stream",
          "name": "stdout",
          "text": [
            "2 x 1 = 2\n",
            "2 x 2 = 4\n",
            "2 x 3 = 6\n",
            "2 x 4 = 8\n",
            "2 x 5 = 10\n",
            "2 x 6 = 12\n",
            "2 x 7 = 14\n",
            "2 x 8 = 16\n",
            "2 x 9 = 18\n",
            "\n",
            "3 x 1 = 3\n",
            "3 x 2 = 6\n",
            "3 x 3 = 9\n",
            "3 x 4 = 12\n",
            "3 x 5 = 15\n",
            "3 x 6 = 18\n",
            "3 x 7 = 21\n",
            "3 x 8 = 24\n",
            "3 x 9 = 27\n",
            "\n",
            "4 x 1 = 4\n",
            "4 x 2 = 8\n",
            "4 x 3 = 12\n",
            "4 x 4 = 16\n",
            "4 x 5 = 20\n",
            "4 x 6 = 24\n",
            "4 x 7 = 28\n",
            "4 x 8 = 32\n",
            "4 x 9 = 36\n",
            "\n",
            "5 x 1 = 5\n",
            "5 x 2 = 10\n",
            "5 x 3 = 15\n",
            "5 x 4 = 20\n",
            "5 x 5 = 25\n",
            "5 x 6 = 30\n",
            "5 x 7 = 35\n",
            "5 x 8 = 40\n",
            "5 x 9 = 45\n",
            "\n",
            "6 x 1 = 6\n",
            "6 x 2 = 12\n",
            "6 x 3 = 18\n",
            "6 x 4 = 24\n",
            "6 x 5 = 30\n",
            "6 x 6 = 36\n",
            "6 x 7 = 42\n",
            "6 x 8 = 48\n",
            "6 x 9 = 54\n",
            "\n",
            "7 x 1 = 7\n",
            "7 x 2 = 14\n",
            "7 x 3 = 21\n",
            "7 x 4 = 28\n",
            "7 x 5 = 35\n",
            "7 x 6 = 42\n",
            "7 x 7 = 49\n",
            "7 x 8 = 56\n",
            "7 x 9 = 63\n",
            "\n",
            "8 x 1 = 8\n",
            "8 x 2 = 16\n",
            "8 x 3 = 24\n",
            "8 x 4 = 32\n",
            "8 x 5 = 40\n",
            "8 x 6 = 48\n",
            "8 x 7 = 56\n",
            "8 x 8 = 64\n",
            "8 x 9 = 72\n",
            "\n",
            "9 x 1 = 9\n",
            "9 x 2 = 18\n",
            "9 x 3 = 27\n",
            "9 x 4 = 36\n",
            "9 x 5 = 45\n",
            "9 x 6 = 54\n",
            "9 x 7 = 63\n",
            "9 x 8 = 72\n",
            "9 x 9 = 81\n",
            "\n"
          ]
        }
      ]
    },
    {
      "cell_type": "code",
      "source": [
        "s = 'beautiful life'\n",
        "type(s)\n",
        "\n",
        "print(s)\n",
        "\n",
        "print(len(s))\n",
        "\n",
        "print(s[0])\n",
        "print(s[3])\n",
        "print(s[-1])\n",
        "print(s[5:10]) # 9번째 까지를 가져온다~"
      ],
      "metadata": {
        "colab": {
          "base_uri": "https://localhost:8080/"
        },
        "id": "VFtskVNfYBR5",
        "outputId": "e4d13df1-3b52-44ec-8e99-a6c944c188e9"
      },
      "execution_count": 36,
      "outputs": [
        {
          "output_type": "stream",
          "name": "stdout",
          "text": [
            "beautiful life\n",
            "14\n",
            "b\n",
            "u\n",
            "e\n",
            "iful \n"
          ]
        }
      ]
    },
    {
      "cell_type": "code",
      "source": [
        "print(s[14])\n",
        "# 에러가 발생함. string index out of range 범위가 벗어남. 이렇게 쓰면 안됨."
      ],
      "metadata": {
        "colab": {
          "base_uri": "https://localhost:8080/",
          "height": 141
        },
        "id": "ZCj2ud4rZfyg",
        "outputId": "fffff6a9-0438-4342-9773-d53b268f643e"
      },
      "execution_count": 37,
      "outputs": [
        {
          "output_type": "error",
          "ename": "IndexError",
          "evalue": "string index out of range",
          "traceback": [
            "\u001b[0;31m---------------------------------------------------------------------------\u001b[0m",
            "\u001b[0;31mIndexError\u001b[0m                                Traceback (most recent call last)",
            "\u001b[0;32m<ipython-input-37-735352f92f26>\u001b[0m in \u001b[0;36m<cell line: 0>\u001b[0;34m()\u001b[0m\n\u001b[0;32m----> 1\u001b[0;31m \u001b[0mprint\u001b[0m\u001b[0;34m(\u001b[0m\u001b[0ms\u001b[0m\u001b[0;34m[\u001b[0m\u001b[0;36m14\u001b[0m\u001b[0;34m]\u001b[0m\u001b[0;34m)\u001b[0m\u001b[0;34m\u001b[0m\u001b[0;34m\u001b[0m\u001b[0m\n\u001b[0m",
            "\u001b[0;31mIndexError\u001b[0m: string index out of range"
          ]
        }
      ]
    },
    {
      "cell_type": "markdown",
      "source": [
        "# list\n",
        "# array 이랑 list랑 다르다?"
      ],
      "metadata": {
        "id": "0-DNpQMeZlzv"
      }
    },
    {
      "cell_type": "code",
      "source": [
        "li = [3,1,5,2]\n",
        "print(type(li)) # 유도된 타입이다 ~~ 기존에 있던 INT를 모아서 한 거구나 자료구조,... 라고하네요\n",
        "\n",
        "print(li)\n",
        "\n",
        "print(len(li))\n",
        "\n",
        "print(li[0]) # 3이 들어왔는데 타입은? -> int임!!!\n",
        "print(li[0:2]) # 타입은? -> list타입!!!\n",
        "\n",
        "# li[4] 하면 오류나겠죠~~"
      ],
      "metadata": {
        "colab": {
          "base_uri": "https://localhost:8080/"
        },
        "id": "OGt6KhoxaVcW",
        "outputId": "b0c38480-382d-4fcb-a84f-259687c444f8"
      },
      "execution_count": 57,
      "outputs": [
        {
          "output_type": "stream",
          "name": "stdout",
          "text": [
            "<class 'list'>\n",
            "[3, 1, 5, 2]\n",
            "4\n",
            "3\n",
            "[3, 1]\n"
          ]
        }
      ]
    },
    {
      "cell_type": "code",
      "source": [
        "for i in [1,2,3,4,5]:\n",
        "  print('안녕')\n",
        "\n",
        "# 그럼 이렇게도 할 수 있겠지\n",
        "\n",
        "s = [1,2,3,4,5]\n",
        "for i in s:\n",
        "  print('안녕')\n",
        "\n",
        "# 리스트와 for문이 만나면 이와 같이 활용할 수 있다!!"
      ],
      "metadata": {
        "colab": {
          "base_uri": "https://localhost:8080/"
        },
        "id": "5b5n2gvVbvZu",
        "outputId": "08c750f7-72cf-4f3d-d041-0cb53da49f28"
      },
      "execution_count": 60,
      "outputs": [
        {
          "output_type": "stream",
          "name": "stdout",
          "text": [
            "안녕\n",
            "안녕\n",
            "안녕\n",
            "안녕\n",
            "안녕\n",
            "안녕\n",
            "안녕\n",
            "안녕\n",
            "안녕\n",
            "안녕\n"
          ]
        }
      ]
    },
    {
      "cell_type": "code",
      "source": [
        "colors = ['pink', 'yellow', 'red', 'purple']\n",
        "\n",
        "for c in colors:\n",
        "  print(c, len(c)) # pink len(pink) = 4 출력"
      ],
      "metadata": {
        "colab": {
          "base_uri": "https://localhost:8080/"
        },
        "id": "PcXBp-XMcibk",
        "outputId": "867ee9ad-d0e5-4ed4-ad48-82b7f17b7832"
      },
      "execution_count": 73,
      "outputs": [
        {
          "output_type": "stream",
          "name": "stdout",
          "text": [
            "pink 4\n",
            "yellow 6\n",
            "red 3\n",
            "purple 6\n"
          ]
        }
      ]
    },
    {
      "cell_type": "code",
      "source": [
        "# 복잡한 코드 분석해 보기\n",
        "\n",
        "import turtle\n",
        "\n",
        "colors = ['red', 'purple', 'blue', 'green', 'yellow', 'orange']\n",
        "t = turtle.Turtle()\n",
        "\n",
        "turtle.bgcolor('black')\n",
        "t.speed(0)\n",
        "t.width(3)\n",
        "length = 10\n",
        "\n",
        "while length < 500:\n",
        "  t.forward(length)\n",
        "  t.pencolor(colors[ length % 6 ] )\n",
        "  t.right(89)\n",
        "  length += 5\n",
        "\n",
        "  # 처음에 검정색 선을 먼저그린다.\n",
        "  # 배경색을 바꾸면 알 수 있을 것임.\n",
        "  # 어디서 부터 시작하고 무슨 색으로 시작할지 그 다음 색은 무엇일지 예측할 수 있겠지?\n",
        "\n",
        "  # bgcolor 없애면 처음에 검정색 선인지 알 수 있음 !"
      ],
      "metadata": {
        "id": "CQhGldFVdlWL"
      },
      "execution_count": 75,
      "outputs": []
    }
  ]
}