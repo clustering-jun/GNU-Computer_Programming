{
  "nbformat": 4,
  "nbformat_minor": 0,
  "metadata": {
    "colab": {
      "provenance": [],
      "include_colab_link": true
    },
    "kernelspec": {
      "name": "python3",
      "display_name": "Python 3"
    },
    "language_info": {
      "name": "python"
    }
  },
  "cells": [
    {
      "cell_type": "markdown",
      "metadata": {
        "id": "view-in-github",
        "colab_type": "text"
      },
      "source": [
        "<a href=\"https://colab.research.google.com/github/clustering-jun/GNU-Computer_Programming/blob/main/L12_%EC%A1%B0%EA%B1%B4_%EB%B0%8F_%EB%B0%98%EB%B3%B5_%EA%B5%AC%EC%A1%B0%EC%9D%98_%ED%99%9C%EC%9A%A9.ipynb\" target=\"_parent\"><img src=\"https://colab.research.google.com/assets/colab-badge.svg\" alt=\"Open In Colab\"/></a>"
      ]
    },
    {
      "cell_type": "markdown",
      "source": [
        "# L12. 조건 및 반복 구조의 활용"
      ],
      "metadata": {
        "id": "kpbouTOeCUOg"
      }
    },
    {
      "cell_type": "code",
      "execution_count": null,
      "metadata": {
        "id": "hvZYJxLKCS63"
      },
      "outputs": [],
      "source": [
        "# 사용자 명령 입력에 따라 움직이도록\n",
        "\n",
        "import turtle\n",
        "t = turtle.Turtle()\n",
        "\n",
        "while True:\n",
        "\n",
        "    comm = input('명령 입력(R/L/r/l/Q/q): ')\n",
        "\n",
        "    if comm == \"R\" or comm == \"r\":\n",
        "        t.rt(90)\n",
        "        t.fd(100)\n",
        "\n",
        "    elif comm == \"L\" or comm == \"l\":\n",
        "        t.lt(90)\n",
        "        t.fd(100)\n",
        "\n",
        "    elif comm == \"Q\" or comm == \"q\":\n",
        "        break\n",
        "\n",
        "    else:\n",
        "        print('잘못된 명령')"
      ]
    },
    {
      "cell_type": "code",
      "source": [
        "# 10번 임의의 방향으로 움직이도록\n",
        "\n",
        "import turtle\n",
        "import random\n",
        "\n",
        "for i in range(10):\n",
        "\n",
        "    num = r.randint(1,2)\n",
        "\n",
        "    if num == 1:\n",
        "        t.lf(90)\n",
        "        t.fd(100)\n",
        "    else:\n",
        "        t.rt(90)\n",
        "        t.fd(100)"
      ],
      "metadata": {
        "id": "o9QCxPsDDELc"
      },
      "execution_count": null,
      "outputs": []
    },
    {
      "cell_type": "code",
      "source": [
        "# 10번 임의의 방향으로 움직이도록\n",
        "\n",
        "import turtle\n",
        "import random\n",
        "\n",
        "t = turtle.Turtle()\n",
        "r = random.Random()\n",
        "t.speed(0)\n",
        "\n",
        "for i in range(1000):\n",
        "\n",
        "    num = r.randint(1,2) # 방향 결정\n",
        "    ang = r.randint(0,90)\n",
        "    dist = r.randint(50,200)\n",
        "\n",
        "    if num == 1:\n",
        "        t.lt(ang)\n",
        "        t.fd(dist)\n",
        "    else:\n",
        "        t.rt(ang)\n",
        "        t.fd(dist)\n",
        "\n",
        "    t.circle(dist)\n"
      ],
      "metadata": {
        "id": "GrHjvfktEEcb"
      },
      "execution_count": null,
      "outputs": []
    },
    {
      "cell_type": "code",
      "source": [
        "import random\n",
        "r = random.Random()\n",
        "\n",
        "\n",
        "while True:\n",
        "    print('\\n========사칙연산 훈련 프로그램입니다.========')\n",
        "    print('==  [1.덧셈]  [2.뺄셈]  [3.곱셈]  [4.나눗셈]  [5.종료]  ==')\n",
        "    menu = input('원하는 메뉴 번호를 선택하세요: ')\n",
        "\n",
        "# 덧셈부분\n",
        "    if menu == '1':\n",
        "        count = 0\n",
        "        for i in range(5):\n",
        "            n1 = r.randint(0,9)\n",
        "            n2 = r.randint(0,9)\n",
        "\n",
        "            user_i = int(input('%d + %d = ' %(n1, n2)))\n",
        "\n",
        "            if n1 + n2 == user_i:\n",
        "                print('정답')\n",
        "                count += 1\n",
        "            else:\n",
        "                print('오답')\n",
        "\n",
        "        print('5문제 중', count, '문제 맞추었습니다.')\n",
        "\n",
        "# 뺄셈 부분\n",
        "    elif menu == '2':\n",
        "        count = 0\n",
        "        for i in range(5):\n",
        "            n1 = r.randint(0,9)\n",
        "            n2 = r.randint(0,9)\n",
        "\n",
        "            user_i = int(input('%d - %d = ' %(n1, n2)))\n",
        "\n",
        "            if n1 - n2 == user_i:\n",
        "                print('정답')\n",
        "                count += 1\n",
        "            else:\n",
        "                print('오답')\n",
        "\n",
        "        print('5문제 중', count, '문제 맞추었습니다.')\n",
        "\n",
        "# 곱셈부분\n",
        "    elif menu == '3':\n",
        "        count = 0\n",
        "        for i in range(5):\n",
        "            n1 = r.randint(0,9)\n",
        "            n2 = r.randint(0,9)\n",
        "\n",
        "            user_i = int(input('%d x %d = ' %(n1, n2)))\n",
        "\n",
        "            if n1 * n2 == user_i:\n",
        "                print('정답')\n",
        "                count += 1\n",
        "            else:\n",
        "                print('오답')\n",
        "\n",
        "        print('5문제 중', count, '문제 맞추었습니다.')\n",
        "\n",
        "# 나눗셈부분\n",
        "    elif menu == '4':\n",
        "        count = 0\n",
        "        for i in range(5):\n",
        "            n2 = r.randint(1, 9)\n",
        "            result = r.randint(0, 9)\n",
        "            n1 = n2 * result  # 이렇게 하면 항상 n1 % n2 == 0\n",
        "\n",
        "            user_i = int(input('%d ÷ %d = ' % (n1, n2)))\n",
        "\n",
        "            if user_i == result:\n",
        "                print('정답')\n",
        "                count += 1\n",
        "            else:\n",
        "                print('오답')\n",
        "\n",
        "        print('5문제 중', count, '문제 맞추었습니다.')\n",
        "\n",
        "# 종료부분\n",
        "    elif menu == '5':\n",
        "        print('프로그램 종료')\n",
        "        break\n",
        "\n",
        "    else:\n",
        "        print('잘못된 입력')\n"
      ],
      "metadata": {
        "id": "FaG-GCc4KI19"
      },
      "execution_count": null,
      "outputs": []
    }
  ]
}