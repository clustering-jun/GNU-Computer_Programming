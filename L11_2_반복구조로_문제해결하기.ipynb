{
  "nbformat": 4,
  "nbformat_minor": 0,
  "metadata": {
    "colab": {
      "provenance": [],
      "authorship_tag": "ABX9TyM+q1Sjh9i461pbEowAjRxS",
      "include_colab_link": true
    },
    "kernelspec": {
      "name": "python3",
      "display_name": "Python 3"
    },
    "language_info": {
      "name": "python"
    }
  },
  "cells": [
    {
      "cell_type": "markdown",
      "metadata": {
        "id": "view-in-github",
        "colab_type": "text"
      },
      "source": [
        "<a href=\"https://colab.research.google.com/github/clustering-jun/GNU-Computer_Programming/blob/main/L11_2_%EB%B0%98%EB%B3%B5%EA%B5%AC%EC%A1%B0%EB%A1%9C_%EB%AC%B8%EC%A0%9C%ED%95%B4%EA%B2%B0%ED%95%98%EA%B8%B0.ipynb\" target=\"_parent\"><img src=\"https://colab.research.google.com/assets/colab-badge.svg\" alt=\"Open In Colab\"/></a>"
      ]
    },
    {
      "cell_type": "markdown",
      "source": [
        "# L11-2. 반복 구조로 문제 해결하기"
      ],
      "metadata": {
        "id": "VfJVHJxF9LFa"
      }
    },
    {
      "cell_type": "markdown",
      "source": [
        "## for문 연습하기\n",
        "- 중간고사 문제\n",
        "> 밑 소스코드의 출력결과를 적어라."
      ],
      "metadata": {
        "id": "6SadRy8aJ2tA"
      }
    },
    {
      "cell_type": "code",
      "source": [
        "for i in range(1,11):\n",
        "  print('*', end=' ')\n",
        "  if i % 3 == 0:\n",
        "    print(i)"
      ],
      "metadata": {
        "colab": {
          "base_uri": "https://localhost:8080/"
        },
        "id": "3DieCboGyEPs",
        "outputId": "6c188657-4664-4c1e-8e5d-0c7f4c41fe13"
      },
      "execution_count": 2,
      "outputs": [
        {
          "output_type": "stream",
          "name": "stdout",
          "text": [
            "* * * 3\n",
            "* * * 6\n",
            "* * * 9\n",
            "* "
          ]
        }
      ]
    },
    {
      "cell_type": "markdown",
      "source": [
        "<br>\n",
        "\n",
        "## 1부터 10까지의 합 출력하기\n",
        "### (1) 반복문을 모를 때"
      ],
      "metadata": {
        "id": "uaEANsbLJNuq"
      }
    },
    {
      "cell_type": "code",
      "source": [
        "# 반복문을 모를 때\n",
        "hap = 1+2+3+4+5+6+7+8+9+10\n",
        "print(hap)"
      ],
      "metadata": {
        "id": "ytCaPdQq-uk3",
        "outputId": "b8cc2cc4-d3d7-4f07-df97-a9c2b99e5493",
        "colab": {
          "base_uri": "https://localhost:8080/"
        }
      },
      "execution_count": 3,
      "outputs": [
        {
          "output_type": "stream",
          "name": "stdout",
          "text": [
            "55\n"
          ]
        }
      ]
    },
    {
      "cell_type": "markdown",
      "source": [
        "### (2) 반복문 사용"
      ],
      "metadata": {
        "id": "gqvbBk2MJaRY"
      }
    },
    {
      "cell_type": "code",
      "source": [
        "hap = 0\n",
        "for i in range(1,11):\n",
        "  hap = hap + i\n",
        "print(hap)"
      ],
      "metadata": {
        "colab": {
          "base_uri": "https://localhost:8080/"
        },
        "id": "V5tEtTfGJcVS",
        "outputId": "0e98ae64-0ab2-4bbc-a99d-9a4a2e3e24c5"
      },
      "execution_count": 5,
      "outputs": [
        {
          "output_type": "stream",
          "name": "stdout",
          "text": [
            "55\n"
          ]
        }
      ]
    },
    {
      "cell_type": "markdown",
      "source": [
        "### (3) 반복문을 사용하지 않고 수학적 공식을 이용"
      ],
      "metadata": {
        "id": "pEcsGCWtJxES"
      }
    },
    {
      "cell_type": "code",
      "source": [
        "hap = 100 * (100+1) / 2\n",
        "print(hap)"
      ],
      "metadata": {
        "colab": {
          "base_uri": "https://localhost:8080/"
        },
        "id": "cELpLurTJ0jz",
        "outputId": "061fb8bc-8103-4498-c7fa-70c98a6ee19f"
      },
      "execution_count": 7,
      "outputs": [
        {
          "output_type": "stream",
          "name": "stdout",
          "text": [
            "5050.0\n"
          ]
        }
      ]
    },
    {
      "cell_type": "markdown",
      "source": [
        "### (3) 응용해보기"
      ],
      "metadata": {
        "id": "kq19yGhHJknG"
      }
    },
    {
      "cell_type": "code",
      "source": [
        "hap = 0\n",
        "for i in range(5,101,5):\n",
        "  hap = hap + i\n",
        "print(hap)"
      ],
      "metadata": {
        "colab": {
          "base_uri": "https://localhost:8080/"
        },
        "id": "m6AVWpp3JkRI",
        "outputId": "25b845a9-6987-47bc-ff42-99ed14666e5b"
      },
      "execution_count": 6,
      "outputs": [
        {
          "output_type": "stream",
          "name": "stdout",
          "text": [
            "1050\n"
          ]
        }
      ]
    },
    {
      "cell_type": "markdown",
      "source": [
        "## 초기값과 최종값을 입력 받아 합을 계산하는 프로그램"
      ],
      "metadata": {
        "id": "nzqMwexXrdqE"
      }
    },
    {
      "cell_type": "code",
      "source": [
        "a = int(input('초기값: '))\n",
        "b = int(input('최종값: '))\n",
        "\n",
        "print('결과:',(a+b) * (b - a + 1 ) // 2)"
      ],
      "metadata": {
        "colab": {
          "base_uri": "https://localhost:8080/"
        },
        "id": "DS8vhLTFqQAn",
        "outputId": "6b2fc943-f7c4-4164-a011-27dbbe0dd780"
      },
      "execution_count": 8,
      "outputs": [
        {
          "output_type": "stream",
          "name": "stdout",
          "text": [
            "초기값: 1\n",
            "최종값: 100\n",
            "결과: 5050\n"
          ]
        }
      ]
    },
    {
      "cell_type": "markdown",
      "source": [
        "### for문 사용"
      ],
      "metadata": {
        "id": "VcrSGfGlK75l"
      }
    },
    {
      "cell_type": "code",
      "source": [
        "a = int(input('초기값: '))\n",
        "b = int(input('최종값: '))\n",
        "\n",
        "hap = 0\n",
        "for i in range(a, b+1):\n",
        "  hap = hap + i\n",
        "print('결과:', hap)"
      ],
      "metadata": {
        "colab": {
          "base_uri": "https://localhost:8080/"
        },
        "id": "Xc4ns0iRK_K5",
        "outputId": "9fb0a9a0-441f-44f8-dc41-126dd7bab91f"
      },
      "execution_count": 9,
      "outputs": [
        {
          "output_type": "stream",
          "name": "stdout",
          "text": [
            "초기값: 1\n",
            "최종값: 100\n",
            "결과: 5050\n"
          ]
        }
      ]
    },
    {
      "cell_type": "markdown",
      "source": [
        "<br>\n",
        "\n",
        "## n! (팩토리얼) 계산하기"
      ],
      "metadata": {
        "id": "OQMRmyQHLh58"
      }
    },
    {
      "cell_type": "code",
      "source": [
        "n = int(input('양의 정수 입력: '))\n",
        "\n",
        "if n <= 0:\n",
        "  print('error')\n",
        "else:\n",
        "  fact = 1\n",
        "  for i in range(1, n+1):\n",
        "    fact = fact * i\n",
        "  print(fact)"
      ],
      "metadata": {
        "colab": {
          "base_uri": "https://localhost:8080/"
        },
        "id": "U4dwTBd_Lqsu",
        "outputId": "994b1eac-a295-4c3d-9af8-c17a39b26a16"
      },
      "execution_count": 10,
      "outputs": [
        {
          "output_type": "stream",
          "name": "stdout",
          "text": [
            "양의 정수 입력3\n",
            "6\n"
          ]
        }
      ]
    },
    {
      "cell_type": "markdown",
      "source": [
        "<br>\n",
        "\n",
        "## 앞의 1~100까지의 합 구하기 예제와의 유사점과 차이점 인식하기\n",
        "\n",
        "### ✅ 유사점\n",
        "\n",
        "- 반복문 사용:\n",
        " - 두 코드 모두 for 반복문을 사용하여 일정 범위의 숫자에 대해 연산을 수행합니다.\n",
        "\n",
        "- 누적 변수 사용:\n",
        " - 첫 번째 예제는 곱셈을 누적하기 위해 fact를 사용하고,\n",
        " - 두 번째 예제는 덧셈을 누적하기 위해 hap를 사용합니다.\n",
        "\n",
        "- 결과 출력:\n",
        " - 연산이 끝난 후 print()를 사용해 결과를 출력합니다.\n",
        "\n",
        "\n",
        "<br>\n",
        "\n",
        "### ❌ 차이점\n",
        "| 항목       | 첫 번째 예제                          | 두 번째 예제                     |\n",
        "|------------|----------------------------------------|----------------------------------|\n",
        "| 목적       | 입력받은 수 n의 팩토리얼 계산          | 1부터 10까지의 정수 합 계산       |\n",
        "| 연산 종류  | 곱셈 (팩토리얼: 1×2×3×...×n)           | 덧셈 (1+2+3+...+10)              |\n",
        "| 입력 여부  | 사용자로부터 n 입력받음                | 입력 없음 (1~10으로 고정)        |\n",
        "| 범위       | `range(1, n+1)` → 동적                 | `range(1, 11)` → 고정            |\n",
        "\n",
        "\n",
        "\n",
        "\n"
      ],
      "metadata": {
        "id": "c9FGIe2xMtIK"
      }
    }
  ]
}