{
  "nbformat": 4,
  "nbformat_minor": 0,
  "metadata": {
    "colab": {
      "provenance": [],
      "include_colab_link": true
    },
    "kernelspec": {
      "name": "python3",
      "display_name": "Python 3"
    },
    "language_info": {
      "name": "python"
    }
  },
  "cells": [
    {
      "cell_type": "markdown",
      "metadata": {
        "id": "view-in-github",
        "colab_type": "text"
      },
      "source": [
        "<a href=\"https://colab.research.google.com/github/clustering-jun/GNU-Computer_Programming/blob/main/L11_2_%EB%B0%98%EB%B3%B5%EA%B5%AC%EC%A1%B0%EB%A1%9C_%EB%AC%B8%EC%A0%9C%ED%95%B4%EA%B2%B0%ED%95%98%EA%B8%B0.ipynb\" target=\"_parent\"><img src=\"https://colab.research.google.com/assets/colab-badge.svg\" alt=\"Open In Colab\"/></a>"
      ]
    },
    {
      "cell_type": "markdown",
      "source": [
        "# L11-2. 반복 구조로 문제 해결하기"
      ],
      "metadata": {
        "id": "VfJVHJxF9LFa"
      }
    },
    {
      "cell_type": "markdown",
      "source": [
        "## for문 연습하기\n",
        "- 중간고사 문제 리뷰\n",
        "> 밑 소스코드의 출력결과를 적어라."
      ],
      "metadata": {
        "id": "6SadRy8aJ2tA"
      }
    },
    {
      "cell_type": "code",
      "source": [
        "for i in range(1,11):\n",
        "  print('*', end=' ')\n",
        "  if i % 3 == 0:\n",
        "    print(i)"
      ],
      "metadata": {
        "colab": {
          "base_uri": "https://localhost:8080/"
        },
        "id": "3DieCboGyEPs",
        "outputId": "6c188657-4664-4c1e-8e5d-0c7f4c41fe13"
      },
      "execution_count": null,
      "outputs": [
        {
          "output_type": "stream",
          "name": "stdout",
          "text": [
            "* * * 3\n",
            "* * * 6\n",
            "* * * 9\n",
            "* "
          ]
        }
      ]
    },
    {
      "cell_type": "markdown",
      "source": [
        "<br>\n",
        "\n",
        "## 1부터 10까지의 합 출력하기\n",
        "### (1) 반복문을 모를 때"
      ],
      "metadata": {
        "id": "uaEANsbLJNuq"
      }
    },
    {
      "cell_type": "code",
      "source": [
        "# 반복문을 모를 때\n",
        "hap = 1+2+3+4+5+6+7+8+9+10\n",
        "print(hap)"
      ],
      "metadata": {
        "id": "ytCaPdQq-uk3",
        "outputId": "b8cc2cc4-d3d7-4f07-df97-a9c2b99e5493",
        "colab": {
          "base_uri": "https://localhost:8080/"
        }
      },
      "execution_count": null,
      "outputs": [
        {
          "output_type": "stream",
          "name": "stdout",
          "text": [
            "55\n"
          ]
        }
      ]
    },
    {
      "cell_type": "markdown",
      "source": [
        "### (2) 반복문 사용"
      ],
      "metadata": {
        "id": "gqvbBk2MJaRY"
      }
    },
    {
      "cell_type": "code",
      "source": [
        "hap = 0\n",
        "for i in range(1,11):\n",
        "  hap = hap + i\n",
        "print(hap)"
      ],
      "metadata": {
        "colab": {
          "base_uri": "https://localhost:8080/"
        },
        "id": "V5tEtTfGJcVS",
        "outputId": "0e98ae64-0ab2-4bbc-a99d-9a4a2e3e24c5"
      },
      "execution_count": null,
      "outputs": [
        {
          "output_type": "stream",
          "name": "stdout",
          "text": [
            "55\n"
          ]
        }
      ]
    },
    {
      "cell_type": "markdown",
      "source": [
        "### (3) 반복문을 사용하지 않고 수학적 공식을 이용"
      ],
      "metadata": {
        "id": "pEcsGCWtJxES"
      }
    },
    {
      "cell_type": "code",
      "source": [
        "hap = 100 * (100+1) / 2\n",
        "print(hap)"
      ],
      "metadata": {
        "colab": {
          "base_uri": "https://localhost:8080/"
        },
        "id": "cELpLurTJ0jz",
        "outputId": "061fb8bc-8103-4498-c7fa-70c98a6ee19f"
      },
      "execution_count": null,
      "outputs": [
        {
          "output_type": "stream",
          "name": "stdout",
          "text": [
            "5050.0\n"
          ]
        }
      ]
    },
    {
      "cell_type": "markdown",
      "source": [
        "### (3) 응용해보기"
      ],
      "metadata": {
        "id": "kq19yGhHJknG"
      }
    },
    {
      "cell_type": "code",
      "source": [
        "hap = 0\n",
        "for i in range(5,101,5):\n",
        "  hap = hap + i\n",
        "print(hap)"
      ],
      "metadata": {
        "colab": {
          "base_uri": "https://localhost:8080/"
        },
        "id": "m6AVWpp3JkRI",
        "outputId": "25b845a9-6987-47bc-ff42-99ed14666e5b"
      },
      "execution_count": null,
      "outputs": [
        {
          "output_type": "stream",
          "name": "stdout",
          "text": [
            "1050\n"
          ]
        }
      ]
    },
    {
      "cell_type": "markdown",
      "source": [
        "\n",
        "<br><br>\n",
        "\n",
        "\n",
        "\n",
        "---\n",
        "\n",
        "\n",
        "## 초기값과 최종값을 입력 받아 합을 계산하는 프로그램"
      ],
      "metadata": {
        "id": "nzqMwexXrdqE"
      }
    },
    {
      "cell_type": "code",
      "source": [
        "a = int(input('초기값: '))\n",
        "b = int(input('최종값: '))\n",
        "\n",
        "print('결과:',(a+b) * (b - a + 1 ) // 2)"
      ],
      "metadata": {
        "colab": {
          "base_uri": "https://localhost:8080/"
        },
        "id": "DS8vhLTFqQAn",
        "outputId": "6b2fc943-f7c4-4164-a011-27dbbe0dd780"
      },
      "execution_count": null,
      "outputs": [
        {
          "output_type": "stream",
          "name": "stdout",
          "text": [
            "초기값: 1\n",
            "최종값: 100\n",
            "결과: 5050\n"
          ]
        }
      ]
    },
    {
      "cell_type": "markdown",
      "source": [
        "### for문 사용"
      ],
      "metadata": {
        "id": "VcrSGfGlK75l"
      }
    },
    {
      "cell_type": "code",
      "source": [
        "a = int(input('초기값: '))\n",
        "b = int(input('최종값: '))\n",
        "\n",
        "hap = 0\n",
        "for i in range(a, b+1):\n",
        "  hap = hap + i\n",
        "print('결과:', hap)"
      ],
      "metadata": {
        "colab": {
          "base_uri": "https://localhost:8080/"
        },
        "id": "Xc4ns0iRK_K5",
        "outputId": "9fb0a9a0-441f-44f8-dc41-126dd7bab91f"
      },
      "execution_count": null,
      "outputs": [
        {
          "output_type": "stream",
          "name": "stdout",
          "text": [
            "초기값: 1\n",
            "최종값: 100\n",
            "결과: 5050\n"
          ]
        }
      ]
    },
    {
      "cell_type": "markdown",
      "source": [
        "<br>\n",
        "\n",
        "## n! (팩토리얼) 계산하기"
      ],
      "metadata": {
        "id": "OQMRmyQHLh58"
      }
    },
    {
      "cell_type": "code",
      "source": [
        "n = int(input('양의 정수 입력: '))\n",
        "\n",
        "if n <= 0:\n",
        "  print('error')\n",
        "else:\n",
        "  fact = 1\n",
        "  for i in range(1, n+1):\n",
        "    fact = fact * i\n",
        "  print(fact)"
      ],
      "metadata": {
        "colab": {
          "base_uri": "https://localhost:8080/"
        },
        "id": "U4dwTBd_Lqsu",
        "outputId": "994b1eac-a295-4c3d-9af8-c17a39b26a16"
      },
      "execution_count": null,
      "outputs": [
        {
          "output_type": "stream",
          "name": "stdout",
          "text": [
            "양의 정수 입력3\n",
            "6\n"
          ]
        }
      ]
    },
    {
      "cell_type": "markdown",
      "source": [
        "<br>\n",
        "\n",
        "## 앞의 1~100까지의 합 구하기 예제와의 유사점과 차이점 인식하기\n",
        "\n",
        "### ✅ 유사점\n",
        "\n",
        "- 반복문 사용:\n",
        " - 두 코드 모두 for 반복문을 사용하여 일정 범위의 숫자에 대해 연산을 수행합니다.\n",
        "\n",
        "- 누적 변수 사용:\n",
        " - 첫 번째 예제는 곱셈을 누적하기 위해 fact를 사용하고,\n",
        " - 두 번째 예제는 덧셈을 누적하기 위해 hap를 사용합니다.\n",
        "\n",
        "- 결과 출력:\n",
        " - 연산이 끝난 후 print()를 사용해 결과를 출력합니다.\n",
        "\n",
        "\n",
        "<br>\n",
        "\n",
        "### ❌ 차이점\n",
        "| 항목       | 첫 번째 예제                          | 두 번째 예제                     |\n",
        "|------------|----------------------------------------|----------------------------------|\n",
        "| 목적       | 입력받은 수 n의 팩토리얼 계산          | 1부터 10까지의 정수 합 계산       |\n",
        "| 연산 종류  | 곱셈 (팩토리얼: 1×2×3×...×n)           | 덧셈 (1+2+3+...+10)              |\n",
        "| 입력 여부  | 사용자로부터 n 입력받음                | 입력 없음 (1~10으로 고정)        |\n",
        "| 범위       | `range(1, n+1)` → 동적                 | `range(1, 11)` → 고정            |\n",
        "\n",
        "\n",
        "\n",
        "\n"
      ],
      "metadata": {
        "id": "c9FGIe2xMtIK"
      }
    },
    {
      "cell_type": "markdown",
      "source": [
        "<br><br>\n",
        "\n",
        "\n",
        "---\n",
        "\n",
        "\n",
        "## 코드를 줄여보아요!"
      ],
      "metadata": {
        "id": "MWGC0DnoHD0D"
      }
    },
    {
      "cell_type": "code",
      "source": [
        "import turtle\n",
        "t = turtle.Turtle()\n",
        "t.speed(0)\n",
        "\n",
        "for i in range(6):\n",
        "  t.circle(100)\n",
        "  t.left(60)"
      ],
      "metadata": {
        "id": "JWgzBESYHFPy"
      },
      "execution_count": null,
      "outputs": []
    },
    {
      "cell_type": "markdown",
      "source": [
        "<br>\n",
        "\n",
        "## n각형 그리기"
      ],
      "metadata": {
        "id": "Glsng8pbfQ3l"
      }
    },
    {
      "cell_type": "code",
      "source": [
        "import turtle\n",
        "t = turtle.Turtle()\n",
        "t.speed(0)\n",
        "\n",
        "n = int(input('몇개?'))   # n = int(turtle.textinput('입력','몇개?'))\n",
        "angle = 360 / n\n",
        "\n",
        "for i in range(n):\n",
        "  t.circle(100)\n",
        "  t.left(angle)"
      ],
      "metadata": {
        "id": "M22i_8_gJjYY"
      },
      "execution_count": null,
      "outputs": []
    },
    {
      "cell_type": "markdown",
      "source": [
        "<br>\n",
        "\n",
        "## 약수 구하기\n",
        "- 약수: 어떤 수를 나누어 떨어지게 하는 수\n",
        "- 사용자로부터 어떤 자연수를 입력받아 그 수의 약수를 출력하는 프로그램을 작성하시오."
      ],
      "metadata": {
        "id": "fAnRY1yzfpXx"
      }
    },
    {
      "cell_type": "code",
      "source": [
        "n = int(input('자연수 입력: '))\n",
        "\n",
        "for i in range(1,n+1):\n",
        "    if n % i == 0:\n",
        "        print(i, end=' ')"
      ],
      "metadata": {
        "id": "hV_fjGN5LsGO",
        "outputId": "f77263eb-f262-4440-913a-dbca3ea57d65",
        "colab": {
          "base_uri": "https://localhost:8080/"
        }
      },
      "execution_count": 1,
      "outputs": [
        {
          "output_type": "stream",
          "name": "stdout",
          "text": [
            "자연수 입력: 6\n",
            "1 2 3 6 "
          ]
        }
      ]
    },
    {
      "cell_type": "markdown",
      "source": [
        "<br>\n",
        "\n",
        "---\n",
        "\n",
        "## 1부터 10까지의 합 구하기\n",
        "\n",
        "### 01. for문 사용"
      ],
      "metadata": {
        "id": "93fRoxfKgNzM"
      }
    },
    {
      "cell_type": "code",
      "source": [
        "hap  = 0\n",
        "\n",
        "for i in range(1,11):\n",
        "    hap = hap + i\n",
        "\n",
        "print(hap)"
      ],
      "metadata": {
        "id": "KtGAY9TrgXZY",
        "outputId": "96de27f9-2d56-46ce-e564-73ef3e1f5e34",
        "colab": {
          "base_uri": "https://localhost:8080/"
        }
      },
      "execution_count": 11,
      "outputs": [
        {
          "output_type": "stream",
          "name": "stdout",
          "text": [
            "55\n"
          ]
        }
      ]
    },
    {
      "cell_type": "markdown",
      "source": [
        "<br>\n",
        "\n",
        "### 02. while문 사용"
      ],
      "metadata": {
        "id": "gTEiZozNgmxY"
      }
    },
    {
      "cell_type": "code",
      "source": [
        "hap = 0\n",
        "i = 1\n",
        "\n",
        "while i <= 10: # i가 11이면 종료\n",
        "    hap = hap + i\n",
        "    i = i + 1\n",
        "\n",
        "print(hap)\n",
        "print(i)\n"
      ],
      "metadata": {
        "id": "L9M2B783gmT7",
        "outputId": "4deeea48-64c3-4f32-ddb7-98cad6d09951",
        "colab": {
          "base_uri": "https://localhost:8080/"
        }
      },
      "execution_count": 13,
      "outputs": [
        {
          "output_type": "stream",
          "name": "stdout",
          "text": [
            "55\n",
            "11\n"
          ]
        }
      ]
    },
    {
      "cell_type": "markdown",
      "source": [
        "<br>\n",
        "<br>\n",
        "\n",
        "---\n",
        "\n",
        "## 로그인 프로그램\n",
        "- 암호가 '1234'인 경우, 입력한 암호가 일치하지 않으면 계속하여 암호를 입력하도록 요구하는 프로그램을 while문을 이용하여 구현하시오,"
      ],
      "metadata": {
        "id": "TOX1uzXTg6D4"
      }
    },
    {
      "cell_type": "code",
      "source": [
        "pw = \"\"\n",
        "\n",
        "while pw != '1234':\n",
        "    pw = input('비밀번호를 입력하세요')\n",
        "\n",
        "print('로그인 성공')"
      ],
      "metadata": {
        "id": "cN5pWznuUWNN",
        "outputId": "aa12dcdb-7b80-4073-bb44-769c9fb8cf19",
        "colab": {
          "base_uri": "https://localhost:8080/"
        }
      },
      "execution_count": 16,
      "outputs": [
        {
          "output_type": "stream",
          "name": "stdout",
          "text": [
            "비밀번호를 입력하세요1423\n",
            "비밀번호를 입력하세요1321\n",
            "비밀번호를 입력하세요1123\n",
            "비밀번호를 입력하세요1234\n",
            "로그인 성공\n"
          ]
        }
      ]
    },
    {
      "cell_type": "markdown",
      "source": [
        "<br>\n",
        "\n",
        "### 프로그램 확장\n",
        "- 3번 로그인에 실패할 경우 프로그램 종료"
      ],
      "metadata": {
        "id": "tNs-fAX1hTS5"
      }
    },
    {
      "cell_type": "code",
      "source": [
        "for i in range(1,4):\n",
        "    pw = input('암호입력: ')\n",
        "    if pw == '1234':\n",
        "        print('로그인 성공!')\n",
        "        break\n",
        "    else:\n",
        "        print('로그인 실패 %d번째 실패' %i)"
      ],
      "metadata": {
        "id": "sCQRNBmtVjzz",
        "outputId": "8abb194d-ebee-4a12-f7d6-e8dc7e0b3b46",
        "colab": {
          "base_uri": "https://localhost:8080/"
        }
      },
      "execution_count": 18,
      "outputs": [
        {
          "output_type": "stream",
          "name": "stdout",
          "text": [
            "암호입력: 1421\n",
            "로그인 실패 1번째 실패\n",
            "암호입력: 1234\n",
            "로그인 성공!\n"
          ]
        }
      ]
    },
    {
      "cell_type": "markdown",
      "source": [
        "<br>\n",
        "<br>\n",
        "\n",
        "---\n",
        "\n",
        "## 신호등 프로그램"
      ],
      "metadata": {
        "id": "hvVXOsOHhjkC"
      }
    },
    {
      "cell_type": "code",
      "source": [
        "sign = True\n",
        "\n",
        "while sign:\n",
        "    light = input('신호등 색상을 입력하시오: ')\n",
        "    if light == 'blue':\n",
        "        sign = False\n",
        "\n",
        "print('전진!!')"
      ],
      "metadata": {
        "id": "egVDA-3LVkN7",
        "outputId": "b12f93f8-6652-4f83-a709-a23c20ed7621",
        "colab": {
          "base_uri": "https://localhost:8080/"
        }
      },
      "execution_count": 19,
      "outputs": [
        {
          "output_type": "stream",
          "name": "stdout",
          "text": [
            "신호등 색상을 입력하시오: red\n",
            "신호등 색상을 입력하시오: blue\n",
            "전진!!\n"
          ]
        }
      ]
    },
    {
      "cell_type": "markdown",
      "source": [
        "<br>\n",
        "<br>\n",
        "\n",
        "## [Study] continue and break\n",
        "\n",
        "### break\n",
        "- `break`는 반복문(`for` 또는 `while`)을 강제로 종료시키는 제어문\n",
        "- 조건에 따라 반복을 중단하고, 반복문을 빠져나가 반복문 바로 다음에 있는 코드로 흐름을 이동시킴.\n",
        "- 중요한 점은 `break`는 자신을 포함하고 있는 가장 가까운 반복문 하나만 종료한다는 것. 따라서 반복문이 중첩되어 있는 경우, `break`는 자신이 속한 루프만 종료하고 바깥쪽 루프는 계속 실행됨.\n",
        "- 예를 들어, 이중 `for문`에서 내부 루프에 break가 있으면 내부 루프만 빠져나오고, 외부 루프는 계속 순회함. `break` 이후에는 반복문 블록을 빠져나가 그 다음 줄부터 실행이 계속됨.\n",
        "\n",
        "### continue\n",
        "- `continue`는 반복문 안에서 사용되며, 현재 반복을 건너뛰고 다음 반복으로 진행하도록 함. 즉, 남은 코드를 실행하지 않고 조건 검사 → 다음 루프로 넘어감.\n",
        "- 이 역시 자신이 포함된 반복문 한 번만 건너뜀.\n",
        "- 조건에 따라 특정 반복만 생략하고 싶을 때 유용하게 쓰임. 반복 자체를 종료하지는 않기 때문에 `break`와는 명확하게 구분됨.\n",
        "\n",
        "\n",
        "\n",
        "### 실전\n",
        "- `break`는 반복을 조건부로 멈출 때 유용 (ex: 특정 값을 찾았을 때).\n",
        "- `continue`는 조건을 건너뛸 때 유용 (ex: 짝수만 출력, 특정 조건 무시)."
      ],
      "metadata": {
        "id": "NBL8gBvdhxBX"
      }
    }
  ]
}