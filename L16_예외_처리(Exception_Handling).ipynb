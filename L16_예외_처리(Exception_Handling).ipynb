{
  "nbformat": 4,
  "nbformat_minor": 0,
  "metadata": {
    "colab": {
      "provenance": [],
      "authorship_tag": "ABX9TyOe8SHx1HH/Fx94WwCGz9Ju",
      "include_colab_link": true
    },
    "kernelspec": {
      "name": "python3",
      "display_name": "Python 3"
    },
    "language_info": {
      "name": "python"
    }
  },
  "cells": [
    {
      "cell_type": "markdown",
      "metadata": {
        "id": "view-in-github",
        "colab_type": "text"
      },
      "source": [
        "<a href=\"https://colab.research.google.com/github/clustering-jun/GNU-Computer_Programming/blob/main/L16_%EC%98%88%EC%99%B8_%EC%B2%98%EB%A6%AC(Exception_Handling).ipynb\" target=\"_parent\"><img src=\"https://colab.research.google.com/assets/colab-badge.svg\" alt=\"Open In Colab\"/></a>"
      ]
    },
    {
      "cell_type": "markdown",
      "source": [
        "# L16. 예외 처리(Exception Handling)"
      ],
      "metadata": {
        "id": "WhlAcl2sLYHl"
      }
    },
    {
      "cell_type": "code",
      "source": [],
      "metadata": {
        "id": "l3AxhjwILfZ8"
      },
      "execution_count": null,
      "outputs": []
    }
  ]
}