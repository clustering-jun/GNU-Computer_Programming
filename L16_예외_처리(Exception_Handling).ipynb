{
  "nbformat": 4,
  "nbformat_minor": 0,
  "metadata": {
    "colab": {
      "provenance": [],
      "authorship_tag": "ABX9TyNaHZDJf7z95ZfNbmIsABbr",
      "include_colab_link": true
    },
    "kernelspec": {
      "name": "python3",
      "display_name": "Python 3"
    },
    "language_info": {
      "name": "python"
    }
  },
  "cells": [
    {
      "cell_type": "markdown",
      "metadata": {
        "id": "view-in-github",
        "colab_type": "text"
      },
      "source": [
        "<a href=\"https://colab.research.google.com/github/clustering-jun/GNU-Computer_Programming/blob/main/L16_%EC%98%88%EC%99%B8_%EC%B2%98%EB%A6%AC(Exception_Handling).ipynb\" target=\"_parent\"><img src=\"https://colab.research.google.com/assets/colab-badge.svg\" alt=\"Open In Colab\"/></a>"
      ]
    },
    {
      "cell_type": "markdown",
      "source": [
        "# L16. 예외 처리(Exception Handling)\n",
        "## 학습내용\n",
        "- 지금까지의 프로그램 소스코드 다시 살펴보기\n",
        "- 예외 및 예외처리에 대한 이해\n",
        "- if구문으로 예외 처리하기\n",
        "- try ~ except ~ 구문으로 예외 처리하기\n",
        "\n",
        "<br>\n",
        "\n",
        "> **예외(Exception)**: 프로그램 실행 중에 예상치 못한 문제들로 인하여 시스템이 비정상적으로 중단 되는 것\n",
        "\n",
        "\n",
        "> **예외 처리(Exception Handling)**: 예상치 못한 다양한 상황 발생에 대처하도록 하는 것"
      ],
      "metadata": {
        "id": "WhlAcl2sLYHl"
      }
    },
    {
      "cell_type": "markdown",
      "source": [
        "<br>\n",
        "\n",
        "## **정n각형 그리기**\n",
        "- 사용자가 입력하는 값에 따라 그에 해당하는 다각형을 그려주는 프로그램에서 발생할 수 있는 예외에 대해 알아본다."
      ],
      "metadata": {
        "id": "oqJJtS2atIxh"
      }
    },
    {
      "cell_type": "code",
      "source": [
        "import turtle\n",
        "t = turtle.Turtle()\n",
        "\n",
        "n = int(input('몇각형을 그릴까요? 3이상 입력: '))\n",
        "angle = 360/n\n",
        "\n",
        "for i in range(n):\n",
        "  t.fd(100)\n",
        "  t.lt(angle)"
      ],
      "metadata": {
        "id": "UFSCZjdft8kL"
      },
      "execution_count": null,
      "outputs": []
    },
    {
      "cell_type": "markdown",
      "source": [
        "- 위의 코드에서 2를 입력하는 경우 프로그램이 작동하지 않는다.\n",
        "- 이러한 경우를 if구문으로 예외 처리하면 다음과 같다."
      ],
      "metadata": {
        "id": "Hgh8cG0Wkmtm"
      }
    },
    {
      "cell_type": "code",
      "source": [
        "import turtle\n",
        "t = turtle.Turtle()\n",
        "\n",
        "n = int(input('몇각형을 그릴까요? 3이상 입력: '))\n",
        "angle = 360/n\n",
        "\n",
        "if n < 3:\n",
        "  print('그릴 수 없습니다.')\n",
        "else:\n",
        "  for i in range(n):\n",
        "    t.fd(100)\n",
        "    t.lt(angle)"
      ],
      "metadata": {
        "id": "2rFzZr_ekqzZ"
      },
      "execution_count": null,
      "outputs": []
    },
    {
      "cell_type": "markdown",
      "source": [
        "> 우리가 예상하지 못하고 있는 다른 예외는 없을까?\n",
        "\n",
        "> 사용자가 `'정삼각형`'을 입력했다고 하자.\n",
        " - `ValueError: invalid literal for int() with base 10: '정삼각형'`\n",
        " - 이와 같이 프로그램이 비정상적으로 중단된다. 이러한 문제를 해결하기 위해 try ~ except ~ 를 이용하여 예외처리할 수 있다.\n",
        "  - if-elif-else 구문으로 처리하기에는 가능한 예외 상황의 수가 많고 예측하기 어렵기에 예외 처리 구문을 사용한다."
      ],
      "metadata": {
        "id": "w7hvyNKMk7oX"
      }
    },
    {
      "cell_type": "code",
      "source": [
        "# try ~ execpt ~를 이용하여 예외 처리한 소스 코드\n",
        "\n",
        "import turtle\n",
        "t = turtle.Turtle()\n",
        "\n",
        "try:\n",
        "  n = int(input('몇각형을 그릴까요? 3이상 입력: '))\n",
        "  angle = 360/n\n",
        "except:\n",
        "  print('예외 발생')\n",
        "\n",
        "else:\n",
        "  if n < 3:\n",
        "    print('그릴 수 없습니다.')\n",
        "  else:\n",
        "    for i in range(n):\n",
        "      t.fd(100)\n",
        "      t.lt(angle)"
      ],
      "metadata": {
        "id": "J1CGMWZtxoj9"
      },
      "execution_count": null,
      "outputs": []
    },
    {
      "cell_type": "markdown",
      "source": [
        "- **문제. 이 코드에서 사용자가 0을 입력했을 경우, 프로그램의 동작 결과는 어떻게 되는가?**\n",
        " - `예외발생`이 출력된다.\n",
        " - ZeroDivisionError 예외가 발생한다. 이유는 angle = 360/n 계산 시 n이 0이므로 0으로 나누는 연산이 발생하기 때문이다.ZeroDivisionError는 try 블록 안에서 발생했기 때문에 except 블록으로 이동한다. except가 예외 종류를 지정하지 않았기 때문에 모든 예외를 잡는다. 따라서 print('예외 발생')가 출력된다."
      ],
      "metadata": {
        "id": "28bsNaf3lq5N"
      }
    },
    {
      "cell_type": "markdown",
      "source": [
        "<br>\n",
        "<br>\n",
        "<br>\n",
        "\n",
        "## **이름 출력 프로그램**"
      ],
      "metadata": {
        "id": "Iq7B71H8yOtI"
      }
    },
    {
      "cell_type": "code",
      "source": [
        "name = input('이름 입력: ')\n",
        "print(name[10])\n",
        "print('당신 이름은'+name+'군요')\n",
        "print('프로램 종료')"
      ],
      "metadata": {
        "id": "s0o3JSgSzF0y",
        "outputId": "e69f1b54-4cc4-4c97-b3b2-ea2da38beb22",
        "colab": {
          "base_uri": "https://localhost:8080/",
          "height": 225
        }
      },
      "execution_count": 1,
      "outputs": [
        {
          "name": "stdout",
          "output_type": "stream",
          "text": [
            "이름 입력: jslee\n"
          ]
        },
        {
          "output_type": "error",
          "ename": "IndexError",
          "evalue": "string index out of range",
          "traceback": [
            "\u001b[0;31m---------------------------------------------------------------------------\u001b[0m",
            "\u001b[0;31mIndexError\u001b[0m                                Traceback (most recent call last)",
            "\u001b[0;32m<ipython-input-1-bd555fb2479b>\u001b[0m in \u001b[0;36m<cell line: 0>\u001b[0;34m()\u001b[0m\n\u001b[1;32m      1\u001b[0m \u001b[0mname\u001b[0m \u001b[0;34m=\u001b[0m \u001b[0minput\u001b[0m\u001b[0;34m(\u001b[0m\u001b[0;34m'이름 입력: '\u001b[0m\u001b[0;34m)\u001b[0m\u001b[0;34m\u001b[0m\u001b[0;34m\u001b[0m\u001b[0m\n\u001b[0;32m----> 2\u001b[0;31m \u001b[0mprint\u001b[0m\u001b[0;34m(\u001b[0m\u001b[0mname\u001b[0m\u001b[0;34m[\u001b[0m\u001b[0;36m10\u001b[0m\u001b[0;34m]\u001b[0m\u001b[0;34m)\u001b[0m\u001b[0;34m\u001b[0m\u001b[0;34m\u001b[0m\u001b[0m\n\u001b[0m\u001b[1;32m      3\u001b[0m \u001b[0mprint\u001b[0m\u001b[0;34m(\u001b[0m\u001b[0;34m'당신 이름은'\u001b[0m\u001b[0;34m+\u001b[0m\u001b[0mname\u001b[0m\u001b[0;34m+\u001b[0m\u001b[0;34m'군요'\u001b[0m\u001b[0;34m)\u001b[0m\u001b[0;34m\u001b[0m\u001b[0;34m\u001b[0m\u001b[0m\n\u001b[1;32m      4\u001b[0m \u001b[0mprint\u001b[0m\u001b[0;34m(\u001b[0m\u001b[0;34m'프로램 종료'\u001b[0m\u001b[0;34m)\u001b[0m\u001b[0;34m\u001b[0m\u001b[0;34m\u001b[0m\u001b[0m\n",
            "\u001b[0;31mIndexError\u001b[0m: string index out of range"
          ]
        }
      ]
    },
    {
      "cell_type": "markdown",
      "source": [
        "> `IndexError: string index out of range`\n",
        "\n",
        "- `jslee`가 입력되면, `print(name[10])` 부분에서 `IndexError`가 발생한다. 이와 같이 예외 처리가 없으면 에러 발생 후 프로그램이 비정상적으로 종료된다.\n",
        "- 이를 try ~ except ~ 를 이용하여 예외 처리하면 아래의 코드와 같다."
      ],
      "metadata": {
        "id": "P9r23HgVmUhs"
      }
    },
    {
      "cell_type": "code",
      "source": [
        "name = input('이름 입력: ')\n",
        "\n",
        "try:\n",
        "  print(name[10])\n",
        "except:\n",
        "  print('예외 발생!! => 10번째 문자는 출력할 수 없어요')\n",
        "\n",
        "# finally처럼 예외와 관계없이 실행되는 부분\n",
        "print('당신 이름은'+name+'군요')\n",
        "print('프로그램 종료')"
      ],
      "metadata": {
        "id": "QdAfIWKSmbTn",
        "outputId": "d4c087fc-cba5-4ab4-e607-4d5afb2239e4",
        "colab": {
          "base_uri": "https://localhost:8080/"
        }
      },
      "execution_count": 4,
      "outputs": [
        {
          "output_type": "stream",
          "name": "stdout",
          "text": [
            "이름 입력: jslee\n",
            "예외 발생!! => 10번째 문자는 출력할 수 없어요\n",
            "당신 이름은jslee군요\n",
            "프로그램 종료\n"
          ]
        }
      ]
    },
    {
      "cell_type": "markdown",
      "source": [
        "<br>\n",
        "<br>\n",
        "<br>\n",
        "\n",
        "## **Exception handling based on error type**\n",
        "에러 타입에 따른 예외 처리"
      ],
      "metadata": {
        "id": "BBkU4CLlnBKe"
      }
    },
    {
      "cell_type": "code",
      "source": [
        "a = 10\n",
        "b = int(input('정수 입력: '))\n",
        "print(a)\n",
        "print(b)\n",
        "print(a/b)"
      ],
      "metadata": {
        "id": "tpLZZABNmsC1"
      },
      "execution_count": null,
      "outputs": []
    },
    {
      "cell_type": "markdown",
      "source": [
        "- 위의 코드는 다양한 에러 타입이 발생할 수 있는 프로그램이다.\n",
        "- 발생 가능한 예외는 아래와 같다.\n",
        "\n",
        "> ValueError\n",
        "- 입력값이 정수로 변환 불가능한 경우 발생\n",
        "- 예시: '2.3', '5.6', '삼'\n",
        "\n",
        "> ZeroDivisionError\n",
        "- 입력값이 0인 경우, a / b에서 0으로 나누기 시도하여 발생\n",
        "- 예시: 0\n",
        "\n",
        "<br>\n",
        "\n",
        "- 이를 예외 처리하면 아래의 코드와 같다."
      ],
      "metadata": {
        "id": "vtZQlD8imwgw"
      }
    },
    {
      "cell_type": "code",
      "source": [
        "try:\n",
        "  a = 10\n",
        "  b = int(input('정수 입력: ')) # 입력값이 정수로 변환 불가능한 경우(2.3, 삼): ValueError\n",
        "  print(a)\n",
        "  print(b)\n",
        "  print(a/b) # 입력값이 0인경우: ZeroDivisionError\n",
        "\n",
        "except:\n",
        "  print('error 발생')"
      ],
      "metadata": {
        "id": "g0WIBUtsnk_L",
        "outputId": "51397d3a-0ba3-4211-8415-fd157a90ec57",
        "colab": {
          "base_uri": "https://localhost:8080/"
        }
      },
      "execution_count": 7,
      "outputs": [
        {
          "output_type": "stream",
          "name": "stdout",
          "text": [
            "정수 입력: 0\n",
            "10\n",
            "0\n",
            "error 발생\n"
          ]
        }
      ]
    },
    {
      "cell_type": "markdown",
      "source": [
        "- 그러나 위의 코드는 예외처리는 했지만 무엇이 문제인지 알 수 없다. 따라서 에러 타입에 따른 예외처리를 할 필요가 있다."
      ],
      "metadata": {
        "id": "sDj72EOwnu-z"
      }
    },
    {
      "cell_type": "code",
      "source": [
        "  try:\n",
        "    a = 10\n",
        "    b = int(input('정수 입력: '))\n",
        "    print(a)\n",
        "    print(b)\n",
        "    print(a/b)\n",
        "\n",
        "  except ValueError:\n",
        "    print('ValueError 발생') # print('정수값만 입력해주세요.')\n",
        "\n",
        "  except ZeroDivisionError:\n",
        "    print('ZeroDivisionError 발생') # print('0으로 나눌 수 없습니다.')"
      ],
      "metadata": {
        "id": "x7a4QHnEn1jo",
        "outputId": "a8810987-6d49-4430-fc65-dbf989b72679",
        "colab": {
          "base_uri": "https://localhost:8080/"
        }
      },
      "execution_count": 8,
      "outputs": [
        {
          "output_type": "stream",
          "name": "stdout",
          "text": [
            "정수 입력: 삼\n",
            "ValueError 발생\n"
          ]
        }
      ]
    },
    {
      "cell_type": "markdown",
      "source": [
        "- **문제1. 이 코드에서 사용자가 '삼'을 입력했을 경우, 프로그램의 동작 결과는 어떻게 되는가?**\n",
        " - `ValueError 발생`이 출력된다.\n",
        " - 변수 a에 10이 저장된다. input() 함수가 호출되고 사용자는 '삼'을 입력한다. int('삼')을 시도하게 되며, 이는 ValueError 예외를 발생시킨다. ValueError가 발생했기 때문에 프로그램은 try 블록의 나머지 부분(print(a), print(b), print(a/b))은 실행되지 않고 건너뛴다. 대신, 해당 예외에 대응하는 except ValueError 블록이 실행된다. print('ValueError 발생')이 실행되어 출력된다.\n",
        "\n",
        "  - 실행 순서: 1 → 2 → 3 → 8 → 9\n",
        "\n",
        "<br>\n",
        "\n",
        "- **문제2. 이 코드에서 사용자가 '0'을 입력했을 경우, 프로그램의 동작 결과는 어떻게 되는가?**\n",
        " - `ZeroDivisionError 발생`이 출력된다.\n",
        " - 변수 a에 10이 저장된다. 변수 b에 0이 저장된다. 10과 0이 출력된다. `print(a/b)`에서 10 / 0 수행한다. ZeroDivisionError 발생하고 예외가 발생하자 try 블록 나머지는 실행 중단한다. ZeroDivisionError가 발생했으므로 except ZeroDivisionError 블록으로 이동한다. \"ZeroDivisionError 발생\"을 출력한다.\n",
        "\n",
        " - 실행 순서: 1 → 2 → 3 → 4 → 5 → 6 → 11 → 12"
      ],
      "metadata": {
        "id": "ty4uN9d2oTgV"
      }
    },
    {
      "cell_type": "markdown",
      "source": [
        "<br>\n",
        "<br>\n",
        "\n",
        "## 정리"
      ],
      "metadata": {
        "id": "9gKNGhdN9k32"
      }
    },
    {
      "cell_type": "code",
      "source": [
        "try:\n",
        "  a = 10\n",
        "  b = int(input('정수 입력: '))\n",
        "  print(a)\n",
        "  print(b)\n",
        "  print(a/b)\n",
        "\n",
        "except ValueError:\n",
        "  print('ValueError 발생') # 입력값이 정수가 아닐 때 실행됨\n",
        "\n",
        "except ZeroDivisionError:\n",
        "  print('ZeroDivisionError 발생') # 0으로 나눌 때 실행됨\n",
        "\n",
        "else:\n",
        "  print('try 영역이 정상적으로 실행됐을 때') # 예외가 전혀 발생하지 않은 경우 실행\n",
        "finally:\n",
        "  print('최종적으로 무조건 실행되는 구문')  # 무조건 실행되는 마무리 블록"
      ],
      "metadata": {
        "id": "38bYS6uZoxb7",
        "outputId": "1a936ca4-4b66-4e08-b95b-60f44dace345",
        "colab": {
          "base_uri": "https://localhost:8080/"
        }
      },
      "execution_count": 12,
      "outputs": [
        {
          "output_type": "stream",
          "name": "stdout",
          "text": [
            "정수 입력: 0\n",
            "10\n",
            "0\n",
            "ZeroDivisionError 발생\n",
            "최종적으로 무조건 실행되는 구문\n"
          ]
        }
      ]
    },
    {
      "cell_type": "markdown",
      "source": [
        "- try: 예외가 발생할 가능성이 있는 코드 작성\n",
        "- except: 예외 발생 시 실행되는 코드 (예외 종류별로 나눌 수 있음)\n",
        "- else: 예외가 전혀 발생하지 않았을 때만 실행\n",
        "- finally: 무조건 실행됨 (정상 실행이든 예외든 관계 없음)\n",
        "\n",
        "<br>\n",
        "\n",
        "- 여러 입력 상황에 따른 동작 결과를 정리하면 아래의 표와 같다.\n",
        "\n",
        "| 입력 값     | 발생 예외             | 실행되는 블록                           | 출력 요약                                |\n",
        "| -------- | ----------------- | --------------------------------- | ------------------------------------ |\n",
        "| `2`      | 없음                | `try`, `else`, `finally`          | 정상 출력 + `else`, `finally` 출력         |\n",
        "| `0`      | ZeroDivisionError | `try` (중간까지), `except`, `finally` | `ZeroDivisionError 발생`, `finally` 출력 |\n",
        "| `'abc'`  | ValueError        | `except`, `finally`               | `ValueError 발생`, `finally` 출력        |\n",
        "| `'3.14'` | ValueError        | `except`, `finally`               | `ValueError 발생`, `finally` 출력        |\n"
      ],
      "metadata": {
        "id": "INk3hJWH_OwU"
      }
    }
  ]
}